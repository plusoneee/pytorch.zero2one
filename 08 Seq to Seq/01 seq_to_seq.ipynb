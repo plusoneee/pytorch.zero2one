{
  "nbformat": 4,
  "nbformat_minor": 0,
  "metadata": {
    "colab": {
      "name": "seq_to_seq.ipynb",
      "provenance": [],
      "collapsed_sections": []
    },
    "kernelspec": {
      "name": "python3",
      "display_name": "Python 3"
    },
    "language_info": {
      "name": "python"
    },
    "accelerator": "GPU"
  },
  "cells": [
    {
      "cell_type": "code",
      "metadata": {
        "id": "-vQi-B_AeqF1"
      },
      "source": [
        "import unicodedata, string, re, random"
      ],
      "execution_count": 1,
      "outputs": []
    },
    {
      "cell_type": "code",
      "metadata": {
        "colab": {
          "base_uri": "https://localhost:8080/",
          "height": 35
        },
        "id": "CAIaDAU8gc3b",
        "outputId": "59bd900b-ecdc-4c50-bbb8-1ccf4fe199a4"
      },
      "source": [
        "s = \"J'ai gagné !\"\n",
        "s = ''.join(\n",
        "    c for c in unicodedata.normalize('NFD', s) if unicodedata.category(c) != 'Mn'\n",
        "    )\n",
        "\n",
        "s"
      ],
      "execution_count": 2,
      "outputs": [
        {
          "output_type": "execute_result",
          "data": {
            "application/vnd.google.colaboratory.intrinsic+json": {
              "type": "string"
            },
            "text/plain": [
              "\"J'ai gagne !\""
            ]
          },
          "metadata": {
            "tags": []
          },
          "execution_count": 2
        }
      ]
    },
    {
      "cell_type": "code",
      "metadata": {
        "id": "iqPl_b5qkRmF"
      },
      "source": [
        "def unicodeToAscii(s):\n",
        "  s = ''.join(\n",
        "        c for c in unicodedata.normalize('NFD', s) if unicodedata.category(c) != 'Mn'\n",
        "      )\n",
        "  return s"
      ],
      "execution_count": 3,
      "outputs": []
    },
    {
      "cell_type": "code",
      "metadata": {
        "colab": {
          "base_uri": "https://localhost:8080/"
        },
        "id": "4yUk_p4fku7T",
        "outputId": "7f7c1a56-14f1-4b0f-830b-04c717948058"
      },
      "source": [
        "s = \"I'm sad.\"\n",
        "s = re.sub(r'([.!?])', r' \\1', s)\n",
        "print(s)\n",
        "s = re.sub(r'[^a-zA-Z.!?]+', r' ', s)\n",
        "print(s)"
      ],
      "execution_count": 4,
      "outputs": [
        {
          "output_type": "stream",
          "text": [
            "I'm sad .\n",
            "I m sad .\n"
          ],
          "name": "stdout"
        }
      ]
    },
    {
      "cell_type": "code",
      "metadata": {
        "id": "tvPHi4I7l6Cr"
      },
      "source": [
        "def normalizeString(s):\n",
        "  s = s.lower().strip()\n",
        "  s = unicodeToAscii(s)\n",
        "  s = re.sub(r'([.!?])', r' \\1', s)\n",
        "  s = re.sub(r'[^a-zA-Z.!?]+', r' ', s)\n",
        "  \n",
        "  return s"
      ],
      "execution_count": 5,
      "outputs": []
    },
    {
      "cell_type": "code",
      "metadata": {
        "id": "04q-kBYpI50j"
      },
      "source": [
        "class Lang:\n",
        "  def __init__(self, name):\n",
        "    self.name = name\n",
        "    self.word2index = {}\n",
        "    self.index2word = {0:'SOS', 1:'EOS'}\n",
        "    self.word2count = {}\n",
        "    self.num_words = 2 # sos and eos\n",
        "\n",
        "  def addSentence(self, sentence):\n",
        "    for word in sentence.split(' '):\n",
        "      self.addWord(word)\n",
        "\n",
        "  def addWord(self, word):\n",
        "    if word not in self.word2index:\n",
        "      self.word2index[word] = self.num_words\n",
        "      self.word2count[word] = 1\n",
        "      self.index2word[ self.num_words] = word\n",
        "      self.num_words += 1\n",
        "    else:\n",
        "      self.word2count[word] += 1"
      ],
      "execution_count": 6,
      "outputs": []
    },
    {
      "cell_type": "code",
      "metadata": {
        "id": "gDyrAXCML4Xy"
      },
      "source": [
        "def readLanguages(reverse=False):\n",
        "  lines = open('/content/eng-fra.txt', encoding='utf-8').read().strip().split('\\n')\n",
        "  pairs =  [[ normalizeString(s) for s in line.split('\\t')] for line in lines]\n",
        "  if reverse:\n",
        "    pairs = [ list(reversed(p)) for p in pairs] # reverse\n",
        "    input_lang = Lang('fra')\n",
        "    output_lang = Lang('eng')\n",
        "  else:\n",
        "    input_lang = Lang('eng')\n",
        "    output_lang = Lang('fra')\n",
        "\n",
        "  return input_lang, output_lang, pairs"
      ],
      "execution_count": 7,
      "outputs": []
    },
    {
      "cell_type": "code",
      "metadata": {
        "id": "YjrX40einHNa"
      },
      "source": [
        "MAX_LEN = 10\n",
        "eng_prefix = (\n",
        "    'i am ', 'i m ',\n",
        "    'he is ', 'he s ',\n",
        "    'she is ', 'she s ',\n",
        "    'you are ', 'you re ',\n",
        "    'we are ', 'we re ',\n",
        "    'they are ', 'they re ',\n",
        ")"
      ],
      "execution_count": 8,
      "outputs": []
    },
    {
      "cell_type": "code",
      "metadata": {
        "id": "ZCBackMzH1Bq"
      },
      "source": [
        "def filterPair(pair, reverse=False, eng_prefix=None):\n",
        "  if reverse is True:\n",
        "    return len(pair[0].split(' ')) < MAX_LEN and \\\n",
        "        len(pair[1].split(' ')) < MAX_LEN and pair[1].startswith(eng_prefix)\n",
        "  else:\n",
        "     return len(pair[0].split(' ')) < MAX_LEN and \\\n",
        "        len(pair[1].split(' ')) < MAX_LEN and pair[0].startswith(eng_prefix)"
      ],
      "execution_count": 9,
      "outputs": []
    },
    {
      "cell_type": "code",
      "metadata": {
        "id": "o8dCQlSvOZFv"
      },
      "source": [
        "def filterPairs(pairs, reverse=False):\n",
        "  return [pair for pair in pairs if filterPair(pair, reverse=reverse, eng_prefix=eng_prefix)]"
      ],
      "execution_count": 10,
      "outputs": []
    },
    {
      "cell_type": "code",
      "metadata": {
        "id": "iKFCPsv0O_1U"
      },
      "source": [
        "def prepareData(reverse=False):\n",
        "  input_lang, output_lang, pairs = readLanguages(reverse)\n",
        "  print('read %s sentence pairs'%len(pairs))\n",
        " \n",
        "  pairs = filterPairs(pairs, reverse)\n",
        "  print('Trimmed to %s sentence pairs'%len(pairs))\n",
        "\n",
        "  for pair in pairs:\n",
        "    input_lang.addSentence(pair[0])\n",
        "    output_lang.addSentence(pair[1])\n",
        "\n",
        "  print('Counted words:')\n",
        "  print(input_lang.name, input_lang.num_words)\n",
        "  print(output_lang.name, output_lang.num_words)\n",
        "\n",
        "  return input_lang, output_lang, pairs"
      ],
      "execution_count": 11,
      "outputs": []
    },
    {
      "cell_type": "code",
      "metadata": {
        "colab": {
          "base_uri": "https://localhost:8080/"
        },
        "id": "sETHiSkHQRdy",
        "outputId": "45c6c41a-a74e-4569-ebce-22afc5c12c77"
      },
      "source": [
        "input_lang, output_lang, pairs = prepareData(True)\n",
        "print('\\n', random.choice(pairs))"
      ],
      "execution_count": 12,
      "outputs": [
        {
          "output_type": "stream",
          "text": [
            "read 135842 sentence pairs\n",
            "Trimmed to 10522 sentence pairs\n",
            "Counted words:\n",
            "fra 4341\n",
            "eng 2802\n",
            "\n",
            " ['elle est en train de manger des fruits .', 'she s eating fruit .']\n"
          ],
          "name": "stdout"
        }
      ]
    },
    {
      "cell_type": "code",
      "metadata": {
        "id": "2Bcxv7FLQgzy"
      },
      "source": [
        "import torch\n",
        "import torch.nn as nn\n",
        "from torch.autograd import Variable\n",
        "from torch import optim \n",
        "import torch.nn.functional as F\n",
        "import matplotlib.pyplot as plt\n",
        "import matplotlib.ticker as ticker\n",
        "import numpy as np"
      ],
      "execution_count": 13,
      "outputs": []
    },
    {
      "cell_type": "code",
      "metadata": {
        "id": "f7O7ZEe4WEbY"
      },
      "source": [
        "use_cuda = torch.cuda.is_available()\n",
        "SOS_token = 0\n",
        "EOS_token = 1"
      ],
      "execution_count": 14,
      "outputs": []
    },
    {
      "cell_type": "code",
      "metadata": {
        "id": "VekAgqUmXX39"
      },
      "source": [
        "class EncoderRNN(nn.Module):\n",
        "  def __init__(self, input_size, hidden_size, n_layers=1):\n",
        "    super(EncoderRNN, self).__init__()\n",
        "    self.input_size = input_size\n",
        "    self.hidden_size = hidden_size\n",
        "    self.n_layers = n_layers\n",
        "\n",
        "    self.embedding = nn.Embedding(input_size, hidden_size)\n",
        "    self.gru = nn.GRU(hidden_size, hidden_size)\n",
        "\n",
        "  def forward(self, input, hidden):\n",
        "    embedded = self.embedding(input).view(1, 1, -1)\n",
        "    output = embedded\n",
        "\n",
        "    for i in range(self.n_layers):\n",
        "      output, hidden = self.gru(output, hidden)  # hidden -> memory cell\n",
        "\n",
        "    return output, hidden\n",
        "\n",
        "  def initHidden(self):\n",
        "    result = Variable(torch.zeros(1, 1, self.hidden_size))\n",
        "    if use_cuda:\n",
        "      return result.cuda()\n",
        "    return result"
      ],
      "execution_count": 15,
      "outputs": []
    },
    {
      "cell_type": "code",
      "metadata": {
        "id": "GN8I-hf0bD9B"
      },
      "source": [
        "class DecoderRNN(nn.Module):\n",
        "  def __init__(self, hidden_size, output_size, n_layers=1):\n",
        "    super(DecoderRNN, self).__init__()\n",
        "    self.n_layers = n_layers\n",
        "    self.hidden_size = hidden_size\n",
        "    self.output_size = output_size\n",
        "\n",
        "    self.embedding = nn.Embedding(output_size, hidden_size)\n",
        "    self.gru = nn.GRU(hidden_size, hidden_size)\n",
        "    self.out = nn.Linear(hidden_size, output_size)\n",
        "\n",
        "    self.softmax = nn.LogSoftmax(dim=1) #dim 0 is batchsize\n",
        "\n",
        "  def forward(self, input, hidden):\n",
        "    embedded = self.embedding(input).view(1, 1, -1)\n",
        "    output = embedded\n",
        "\n",
        "    for i in range(self.n_layers):\n",
        "      output = F.relu(output)\n",
        "      output, hidden = self.gru(output, hidden)  # hidden -> memory cell\n",
        "\n",
        "    output = self.softmax(self.out(output[0]))\n",
        "    return output, hidden\n",
        "\n",
        "  def initHidden(self):\n",
        "    result = Variable(torch.zeros(1, 1, self.hidden_size))\n",
        "    if use_cuda:\n",
        "      return result.cuda()\n",
        "    return result"
      ],
      "execution_count": 16,
      "outputs": []
    },
    {
      "cell_type": "code",
      "metadata": {
        "id": "k-SxzuzpheAc"
      },
      "source": [
        "def indexesFromSentence(lang, sentence):\n",
        "   return [lang.word2index[word] for word in sentence.split(' ')]"
      ],
      "execution_count": 17,
      "outputs": []
    },
    {
      "cell_type": "code",
      "metadata": {
        "id": "MVW1Pw5YiLU-"
      },
      "source": [
        "def variableFromSentence(lang, sentence):\n",
        "  indexes = indexesFromSentence(lang, sentence)\n",
        "  indexes.append(EOS_token)\n",
        "\n",
        "  result = Variable(torch.LongTensor(indexes).view(-1, 1))\n",
        "  if use_cuda:\n",
        "      return result.cuda()\n",
        "  return result"
      ],
      "execution_count": 18,
      "outputs": []
    },
    {
      "cell_type": "code",
      "metadata": {
        "id": "frIynp1XjKLO"
      },
      "source": [
        "def variablesFromPair(pair):\n",
        "  input_variable = variableFromSentence(input_lang, pair[0])\n",
        "  output_variable = variableFromSentence(output_lang, pair[1])\n",
        "  # print(input_variable.size(), output_variable.size())\n",
        "  return (input_variable, output_variable)"
      ],
      "execution_count": 19,
      "outputs": []
    },
    {
      "cell_type": "code",
      "metadata": {
        "id": "wyF24Ueln-GB"
      },
      "source": [
        "teacher_forcing_ratio = 0.5"
      ],
      "execution_count": 20,
      "outputs": []
    },
    {
      "cell_type": "code",
      "metadata": {
        "id": "eGsWLoMojxuR"
      },
      "source": [
        "def train(input_variable, target_variable, encoder, decoder, \n",
        "          encoder_optimizer, decoder_optimizer, loss_func, \n",
        "          max_length=MAX_LEN):\n",
        "    '''\n",
        "      train one pair\n",
        "    '''\n",
        "    encoder_hidden = encoder.initHidden()\n",
        "    encoder_optimizer.zero_grad()\n",
        "    decoder_optimizer.zero_grad()\n",
        "\n",
        "    input_length = input_variable.size()[0]\n",
        "    target_length = target_variable.size()[0]\n",
        "    \n",
        "    encoder_outputs = Variable(torch.zeros(max_length, encoder.hidden_size)) #seq_len, hidden size\n",
        "    encoder_outputs = encoder_outputs.cuda() if use_cuda else encoder_outputs\n",
        "\n",
        "    loss = 0\n",
        "    for encoder_index in range(input_length):\n",
        "      encoder_output, encoder_hidden = encoder(input_variable[encoder_index], encoder_hidden)\n",
        "      encoder_outputs[encoder_index] = encoder_output[0][0] # 因為一次只丟一個單字\n",
        "\n",
        "    decoder_input = Variable(torch.LongTensor([[SOS_token]]))\n",
        "    decoder_input = decoder_input.cuda() if use_cuda else decoder_input\n",
        "    decoder_hidden = encoder_hidden  \n",
        "\n",
        "    use_teacher_forcing = True if random.random() < teacher_forcing_ratio else False\n",
        "\n",
        "    if use_teacher_forcing:\n",
        "      for decoder_index in range(target_length):\n",
        "        decoder_output, decoder_hidden = decoder(decoder_input, decoder_hidden)\n",
        "        \n",
        "        loss += loss_func(decoder_output, target_variable[decoder_index])\n",
        "        decoder_input = target_variable[decoder_index].view(-1, 1)\n",
        "    else:\n",
        "      for decoder_index in range(target_length):\n",
        "        decoder_output, decoder_hidden = decoder(decoder_input, decoder_hidden)\n",
        "        top_value, top_index = decoder_output.data.topk(1)\n",
        "        ni = top_index[0][0]\n",
        "        \n",
        "        decoder_input = Variable(torch.LongTensor([[ni]]))\n",
        "        decoder_input = decoder_input.cuda() if use_cuda else decoder_input\n",
        "        \n",
        "        loss += loss_func(decoder_output, target_variable[decoder_index])\n",
        "        \n",
        "        if ni == EOS_token:\n",
        "          break\n",
        "\n",
        "    loss.backward()\n",
        "    encoder_optimizer.step()\n",
        "    decoder_optimizer.step()\n",
        "\n",
        "    return (loss.data / target_length)"
      ],
      "execution_count": 21,
      "outputs": []
    },
    {
      "cell_type": "code",
      "metadata": {
        "id": "OuFVJ0OurEhp"
      },
      "source": [
        "import time, math"
      ],
      "execution_count": 22,
      "outputs": []
    },
    {
      "cell_type": "code",
      "metadata": {
        "id": "ow3ccbckrQrn"
      },
      "source": [
        "def asMinutes(sec):\n",
        "  min = math.floor(sec/60)\n",
        "  sec -= min * 60\n",
        "  return '%dm %.1fs'%(min, sec)"
      ],
      "execution_count": 23,
      "outputs": []
    },
    {
      "cell_type": "code",
      "metadata": {
        "id": "qXPdWiTarwi9"
      },
      "source": [
        "def timeSince(since, percent):\n",
        "  now = time.time()\n",
        "  sec = now - since \n",
        "  total_sec = sec / percent\n",
        "  remain_sec = total_sec - sec\n",
        "\n",
        "  return '%s (-%s)'%(asMinutes(sec), asMinutes(remain_sec))"
      ],
      "execution_count": 24,
      "outputs": []
    },
    {
      "cell_type": "code",
      "metadata": {
        "id": "gL2FVsIrry-i"
      },
      "source": [
        "def showPlot(points):\n",
        "  plt.figure()\n",
        "  fig, ax = plt.subplots()\n",
        "  loc = ticker.MultipleLocator(base=0.2)\n",
        "  ax.yaxis.set_major_locator(loc)\n",
        "  plt.plot(points)"
      ],
      "execution_count": 25,
      "outputs": []
    },
    {
      "cell_type": "code",
      "metadata": {
        "id": "lZgcyPzRtfFQ"
      },
      "source": [
        "def trainIters(encoder, decoder, n_iters, \n",
        "               print_every=1000, plot_every=100,\n",
        "               learing_rate=0.01):\n",
        "  \n",
        "  start = time.time()\n",
        "  plot_losses = []\n",
        "  print_loss_total = 0\n",
        "  plot_loss_total = 0\n",
        "  \n",
        "  encoder_optimizer = optim.SGD(encoder.parameters(), lr=learing_rate)\n",
        "  decoder_optimizer = optim.SGD(decoder.parameters(), lr=learing_rate)\n",
        "\n",
        "  training_pairs = [ variablesFromPair(random.choice(pairs)) for i in range(n_iters)]\n",
        "  \n",
        "  loss_func = nn.NLLLoss()\n",
        "\n",
        "  for iter in range(1, n_iters+1):\n",
        "    training_pair = training_pairs[iter-1]\n",
        "    input_variable = training_pair[0]\n",
        "    target_variable = training_pair[1]\n",
        "    \n",
        "    loss = train(input_variable, target_variable, encoder, decoder, \n",
        "            encoder_optimizer, decoder_optimizer, loss_func, max_length=MAX_LEN)\n",
        "\n",
        "    print_loss_total += loss\n",
        "    plot_loss_total += loss\n",
        "\n",
        "    if iter % print_every == 0:\n",
        "      print_loss_avg = print_loss_total/print_every\n",
        "      print_loss_total = 0\n",
        "\n",
        "      print('%s (%d, %d%%) %.4f'%(\n",
        "              timeSince(start, iter/n_iters), \n",
        "              iter, \n",
        "              100*iter/n_iters, \n",
        "              print_loss_avg)\n",
        "          )\n",
        "    if iter % plot_every ==0:\n",
        "      plot_loss_avg = plot_loss_total/plot_every\n",
        "      plot_loss_total = 0\n",
        "      plot_losses.append(plot_loss_avg)\n",
        "    \n",
        "  showPlot(plot_losses)"
      ],
      "execution_count": 26,
      "outputs": []
    },
    {
      "cell_type": "code",
      "metadata": {
        "id": "JimukkF21x8D"
      },
      "source": [
        "hidden_size = 256\n",
        "encoder1 = EncoderRNN(input_lang.num_words, hidden_size)\n",
        "decoder1 = DecoderRNN(hidden_size, output_lang.num_words)"
      ],
      "execution_count": 27,
      "outputs": []
    },
    {
      "cell_type": "code",
      "metadata": {
        "id": "ldjhNWGW41uv"
      },
      "source": [
        "if use_cuda:\n",
        "  encoder1.cuda()\n",
        "  decoder1.cuda()"
      ],
      "execution_count": 28,
      "outputs": []
    },
    {
      "cell_type": "code",
      "metadata": {
        "colab": {
          "base_uri": "https://localhost:8080/",
          "height": 307
        },
        "id": "lTMcJ4r15M5F",
        "outputId": "87f27d7e-8a4d-418f-cf8b-53e48649ffd2"
      },
      "source": [
        "trainIters(encoder1, decoder1, 75000, print_every=5000)"
      ],
      "execution_count": 29,
      "outputs": [
        {
          "output_type": "error",
          "ename": "KeyboardInterrupt",
          "evalue": "ignored",
          "traceback": [
            "\u001b[0;31m---------------------------------------------------------------------------\u001b[0m",
            "\u001b[0;31mKeyboardInterrupt\u001b[0m                         Traceback (most recent call last)",
            "\u001b[0;32m<ipython-input-29-207658c2176a>\u001b[0m in \u001b[0;36m<module>\u001b[0;34m()\u001b[0m\n\u001b[0;32m----> 1\u001b[0;31m \u001b[0mtrainIters\u001b[0m\u001b[0;34m(\u001b[0m\u001b[0mencoder1\u001b[0m\u001b[0;34m,\u001b[0m \u001b[0mdecoder1\u001b[0m\u001b[0;34m,\u001b[0m \u001b[0;36m75000\u001b[0m\u001b[0;34m,\u001b[0m \u001b[0mprint_every\u001b[0m\u001b[0;34m=\u001b[0m\u001b[0;36m5000\u001b[0m\u001b[0;34m)\u001b[0m\u001b[0;34m\u001b[0m\u001b[0;34m\u001b[0m\u001b[0m\n\u001b[0m",
            "\u001b[0;32m<ipython-input-26-c5a90c2111d8>\u001b[0m in \u001b[0;36mtrainIters\u001b[0;34m(encoder, decoder, n_iters, print_every, plot_every, learing_rate)\u001b[0m\n\u001b[1;32m     21\u001b[0m \u001b[0;34m\u001b[0m\u001b[0m\n\u001b[1;32m     22\u001b[0m     loss = train(input_variable, target_variable, encoder, decoder, \n\u001b[0;32m---> 23\u001b[0;31m             encoder_optimizer, decoder_optimizer, loss_func, max_length=MAX_LEN)\n\u001b[0m\u001b[1;32m     24\u001b[0m \u001b[0;34m\u001b[0m\u001b[0m\n\u001b[1;32m     25\u001b[0m     \u001b[0mprint_loss_total\u001b[0m \u001b[0;34m+=\u001b[0m \u001b[0mloss\u001b[0m\u001b[0;34m\u001b[0m\u001b[0;34m\u001b[0m\u001b[0m\n",
            "\u001b[0;32m<ipython-input-21-9aea64837e54>\u001b[0m in \u001b[0;36mtrain\u001b[0;34m(input_variable, target_variable, encoder, decoder, encoder_optimizer, decoder_optimizer, loss_func, max_length)\u001b[0m\n\u001b[1;32m     46\u001b[0m           \u001b[0;32mbreak\u001b[0m\u001b[0;34m\u001b[0m\u001b[0;34m\u001b[0m\u001b[0m\n\u001b[1;32m     47\u001b[0m \u001b[0;34m\u001b[0m\u001b[0m\n\u001b[0;32m---> 48\u001b[0;31m     \u001b[0mloss\u001b[0m\u001b[0;34m.\u001b[0m\u001b[0mbackward\u001b[0m\u001b[0;34m(\u001b[0m\u001b[0;34m)\u001b[0m\u001b[0;34m\u001b[0m\u001b[0;34m\u001b[0m\u001b[0m\n\u001b[0m\u001b[1;32m     49\u001b[0m     \u001b[0mencoder_optimizer\u001b[0m\u001b[0;34m.\u001b[0m\u001b[0mstep\u001b[0m\u001b[0;34m(\u001b[0m\u001b[0;34m)\u001b[0m\u001b[0;34m\u001b[0m\u001b[0;34m\u001b[0m\u001b[0m\n\u001b[1;32m     50\u001b[0m     \u001b[0mdecoder_optimizer\u001b[0m\u001b[0;34m.\u001b[0m\u001b[0mstep\u001b[0m\u001b[0;34m(\u001b[0m\u001b[0;34m)\u001b[0m\u001b[0;34m\u001b[0m\u001b[0;34m\u001b[0m\u001b[0m\n",
            "\u001b[0;32m/usr/local/lib/python3.7/dist-packages/torch/tensor.py\u001b[0m in \u001b[0;36mbackward\u001b[0;34m(self, gradient, retain_graph, create_graph, inputs)\u001b[0m\n\u001b[1;32m    243\u001b[0m                 \u001b[0mcreate_graph\u001b[0m\u001b[0;34m=\u001b[0m\u001b[0mcreate_graph\u001b[0m\u001b[0;34m,\u001b[0m\u001b[0;34m\u001b[0m\u001b[0;34m\u001b[0m\u001b[0m\n\u001b[1;32m    244\u001b[0m                 inputs=inputs)\n\u001b[0;32m--> 245\u001b[0;31m         \u001b[0mtorch\u001b[0m\u001b[0;34m.\u001b[0m\u001b[0mautograd\u001b[0m\u001b[0;34m.\u001b[0m\u001b[0mbackward\u001b[0m\u001b[0;34m(\u001b[0m\u001b[0mself\u001b[0m\u001b[0;34m,\u001b[0m \u001b[0mgradient\u001b[0m\u001b[0;34m,\u001b[0m \u001b[0mretain_graph\u001b[0m\u001b[0;34m,\u001b[0m \u001b[0mcreate_graph\u001b[0m\u001b[0;34m,\u001b[0m \u001b[0minputs\u001b[0m\u001b[0;34m=\u001b[0m\u001b[0minputs\u001b[0m\u001b[0;34m)\u001b[0m\u001b[0;34m\u001b[0m\u001b[0;34m\u001b[0m\u001b[0m\n\u001b[0m\u001b[1;32m    246\u001b[0m \u001b[0;34m\u001b[0m\u001b[0m\n\u001b[1;32m    247\u001b[0m     \u001b[0;32mdef\u001b[0m \u001b[0mregister_hook\u001b[0m\u001b[0;34m(\u001b[0m\u001b[0mself\u001b[0m\u001b[0;34m,\u001b[0m \u001b[0mhook\u001b[0m\u001b[0;34m)\u001b[0m\u001b[0;34m:\u001b[0m\u001b[0;34m\u001b[0m\u001b[0;34m\u001b[0m\u001b[0m\n",
            "\u001b[0;32m/usr/local/lib/python3.7/dist-packages/torch/autograd/__init__.py\u001b[0m in \u001b[0;36mbackward\u001b[0;34m(tensors, grad_tensors, retain_graph, create_graph, grad_variables, inputs)\u001b[0m\n\u001b[1;32m    145\u001b[0m     Variable._execution_engine.run_backward(\n\u001b[1;32m    146\u001b[0m         \u001b[0mtensors\u001b[0m\u001b[0;34m,\u001b[0m \u001b[0mgrad_tensors_\u001b[0m\u001b[0;34m,\u001b[0m \u001b[0mretain_graph\u001b[0m\u001b[0;34m,\u001b[0m \u001b[0mcreate_graph\u001b[0m\u001b[0;34m,\u001b[0m \u001b[0minputs\u001b[0m\u001b[0;34m,\u001b[0m\u001b[0;34m\u001b[0m\u001b[0;34m\u001b[0m\u001b[0m\n\u001b[0;32m--> 147\u001b[0;31m         allow_unreachable=True, accumulate_grad=True)  # allow_unreachable flag\n\u001b[0m\u001b[1;32m    148\u001b[0m \u001b[0;34m\u001b[0m\u001b[0m\n\u001b[1;32m    149\u001b[0m \u001b[0;34m\u001b[0m\u001b[0m\n",
            "\u001b[0;31mKeyboardInterrupt\u001b[0m: "
          ]
        }
      ]
    },
    {
      "cell_type": "code",
      "metadata": {
        "id": "Se8Jj7iU5UG2"
      },
      "source": [
        "def evaluate(encoder, decoder, sentence, max_lenght=MAX_LEN):\n",
        "  input_variable = variableFromSentence(input_lang, sentence)\n",
        "  input_length = input_variable.size()[0]\n",
        "  encoder_hidden = encoder.initHidden()\n",
        "\n",
        "  encoder_outputs = Variable(torch.zeros(max_lenght, encoder.hidden_size))\n",
        "  encoder_outputs = encoder_outputs.cuda() if use_cuda else encoder_outputs\n",
        "\n",
        "  for encoder_index in range(input_length):\n",
        "    encoder_output, encoder_hidden = encoder(input_variable[encoder_index], encoder_hidden)\n",
        "    encoder_outputs[encoder_index] = encoder_outputs[encoder_index] + encoder_output[0][0]\n",
        "\n",
        "  decoder_input = Variable(torch.LongTensor([[SOS_token]])) #RNN -> 2dim\n",
        "  decoder_input = decoder_input.cuda() if use_cuda else decoder_input\n",
        "  decoder_hidden = encoder_hidden\n",
        "\n",
        "  decoded_words = []\n",
        "  \n",
        "  for decoder_index in range(max_lenght):\n",
        "    decoder_output, decoder_hidden = decoder(decoder_input, decoder_hidden)\n",
        "\n",
        "    topv, topidx = decoder_output.data.topk(1)\n",
        "    ni = topidx[0][0] #type:tensor\n",
        "    \n",
        "    if ni == EOS_token:\n",
        "      decoded_words.append('<EOS>')\n",
        "      break\n",
        "    else:\n",
        "      decoded_words.append(output_lang.index2word[ni.item()]) \n",
        "\n",
        "    decoder_input = Variable(torch.LongTensor([[ni]])) #RNN -> 2dim\n",
        "    decoder_input = decoder_input.cuda() if use_cuda else decoder_input\n",
        "  \n",
        "  return decoded_words"
      ],
      "execution_count": null,
      "outputs": []
    },
    {
      "cell_type": "code",
      "metadata": {
        "id": "SPVVPwdNoFHr"
      },
      "source": [
        "output_words = evaluate(encoder1, decoder1, 'merci', MAX_LEN)\n",
        "print(output_words)"
      ],
      "execution_count": null,
      "outputs": []
    },
    {
      "cell_type": "code",
      "metadata": {
        "id": "HZrQQhoyoU94"
      },
      "source": [
        "def evaluateRandom(encoder, decoder, num=10):\n",
        "  for i in range(num):\n",
        "    pair = random.choice(pairs)\n",
        "    print('>', pair[0])\n",
        "    print('=', pair[1])\n",
        "    output_words = evaluate(encoder, decoder, pair[0], max_lenght=MAX_LEN)\n",
        "    output_sentence = ' '.join(output_words)\n",
        "    print('<', output_sentence)\n",
        "    print()"
      ],
      "execution_count": null,
      "outputs": []
    },
    {
      "cell_type": "code",
      "metadata": {
        "id": "1o_vzNydqj3G"
      },
      "source": [
        "evaluateRandom(encoder1, decoder1)"
      ],
      "execution_count": null,
      "outputs": []
    },
    {
      "cell_type": "code",
      "metadata": {
        "id": "y5A6l4qqs9gU"
      },
      "source": [
        "class AttnDecoderRNN(nn.Module):\n",
        "  '''Decoder with attention'''\n",
        "  \n",
        "  def __init__(self, hidden_size, output_size, n_layers=1, dropout_p=0.1, max_length=MAX_LEN):\n",
        "    super(AttnDecoderRNN, self).__init__()\n",
        "    self.n_layers = n_layers\n",
        "    self.hidden_size = hidden_size\n",
        "    self.output_size = output_size\n",
        "    self.dropout_p = dropout_p\n",
        "    self.max_length = max_length\n",
        "\n",
        "    self.embedding = nn.Embedding(output_size, hidden_size)\n",
        "    # encoder output embedded (=hidden_size) + decoder hiddensize = hidden_size*2\n",
        "    self.attn = nn.Linear(hidden_size*2, max_length)\n",
        "    self.attn_combine = nn.Linear(hidden_size*2, hidden_size) # thisoutput_to_decoderinput\n",
        "    self.dropout = nn.Dropout(dropout_p)\n",
        "\n",
        "    self.gru = nn.GRU(hidden_size, hidden_size)\n",
        "    self.out = nn.Linear(hidden_size, output_size)\n",
        "\n",
        "    # self.softmax = nn.LogSoftmax(dim=1) #dim 0 is batchsize\n",
        "\n",
        "  def forward(self, input, hidden, encoder_outputs):\n",
        "    embedded = self.embedding(input).view(1, 1, -1)\n",
        "    embedded = self.dropout(embedded)\n",
        "\n",
        "    # attention part\n",
        "    need_cat_tensor = (embedded[0], hidden[0])\n",
        "    attn_output = self.attn((torch.cat(need_cat_tensor, 1))) #1: cat後轉直\n",
        "    attention_weights = F.softmax(attn_output, dim=1)\n",
        "\n",
        "    # b(batch)mm, unsqueeze 最前面加一個維度當作batch -> 3dim (為了跟embedded(3dim) cancat\n",
        "    attn_applied = torch.bmm(attention_weights.unsqueeze(0), encoder_outputs.unsqueeze(0))  \n",
        "\n",
        "    # embedded[0]->2dim, attn_applied[0]->2dim\n",
        "    need_cat_tensor = (embedded[0], attn_applied[0])\n",
        "    output = torch.cat(need_cat_tensor, 1)\n",
        "    # 2dim unsqueeze -> 3dim\n",
        "    output = self.attn_combine(output).unsqueeze(0)\n",
        "\n",
        "    for i in range(self.n_layers):\n",
        "      output = F.relu(output)\n",
        "      output, hidden = self.gru(output, hidden)  # hidden -> memory cell\n",
        "\n",
        "    output = F.log_softmax(self.out(output[0]), dim=1)\n",
        "    return output, hidden, attention_weights\n",
        "\n",
        "  def initHidden(self):\n",
        "    result = Variable(torch.zeros(1, 1, self.hidden_size))\n",
        "    if use_cuda:\n",
        "      return result.cuda()\n",
        "    return result"
      ],
      "execution_count": 36,
      "outputs": []
    },
    {
      "cell_type": "code",
      "metadata": {
        "id": "Px072jfL9PII"
      },
      "source": [
        "encoder2 = EncoderRNN(input_lang.num_words, hidden_size)\n",
        "decoder2 = AttnDecoderRNN(hidden_size, output_lang.num_words)"
      ],
      "execution_count": 37,
      "outputs": []
    },
    {
      "cell_type": "code",
      "metadata": {
        "id": "TyXJeH5K-jm3"
      },
      "source": [
        "def trainAtten(input_variable, target_variable, encoder, decoder, \n",
        "          encoder_optimizer, decoder_optimizer, loss_func, \n",
        "          max_length=MAX_LEN):\n",
        "    '''\n",
        "      train one pair\n",
        "    '''\n",
        "\n",
        "    encoder_hidden = encoder.initHidden()\n",
        "    encoder_optimizer.zero_grad()\n",
        "    decoder_optimizer.zero_grad()\n",
        "\n",
        "    input_length = input_variable.size()[0]\n",
        "    target_length = target_variable.size()[0]\n",
        "    \n",
        "    encoder_outputs = Variable(torch.zeros(max_length, encoder.hidden_size)) #seq_len, hidden size\n",
        "    encoder_outputs = encoder_outputs.cuda() if use_cuda else encoder_outputs\n",
        "\n",
        "    loss = 0\n",
        "    for encoder_index in range(input_length):\n",
        "      encoder_output, encoder_hidden = encoder(input_variable[encoder_index], encoder_hidden)\n",
        "      encoder_outputs[encoder_index] = encoder_output[0][0] # 因為一次只丟一個單字\n",
        "\n",
        "    decoder_input = Variable(torch.LongTensor([[SOS_token]]))\n",
        "    decoder_input = decoder_input.cuda() if use_cuda else decoder_input\n",
        "    decoder_hidden = encoder_hidden  \n",
        "\n",
        "    use_teacher_forcing = True if random.random() < teacher_forcing_ratio else False\n",
        "\n",
        "    if use_teacher_forcing:\n",
        "      for decoder_index in range(target_length):\n",
        "        decoder_output, decoder_hidden, decoder_attention = decoder(decoder_input, decoder_hidden, encoder_outputs)\n",
        "        \n",
        "        loss += loss_func(decoder_output, target_variable[decoder_index])\n",
        "        decoder_input = target_variable[decoder_index].view(-1, 1)\n",
        "    else:\n",
        "      for decoder_index in range(target_length):\n",
        "        decoder_output, decoder_hidden, decoder_attention = decoder(decoder_input, decoder_hidden, encoder_outputs)\n",
        "        top_value, top_index = decoder_output.data.topk(1)\n",
        "        ni = top_index[0][0]\n",
        "        \n",
        "        decoder_input = Variable(torch.LongTensor([[ni]]))\n",
        "        decoder_input = decoder_input.cuda() if use_cuda else decoder_input\n",
        "        \n",
        "        loss += loss_func(decoder_output, target_variable[decoder_index])\n",
        "        \n",
        "        if ni == EOS_token:\n",
        "          break\n",
        "\n",
        "    loss.backward()\n",
        "    encoder_optimizer.step()\n",
        "    decoder_optimizer.step()\n",
        "\n",
        "    return (loss.data / target_length)"
      ],
      "execution_count": 38,
      "outputs": []
    },
    {
      "cell_type": "code",
      "metadata": {
        "id": "WW_1cwVW_kYu"
      },
      "source": [
        "def trainAttnIters(encoder, decoder, n_iters, \n",
        "               print_every=1000, plot_every=100,\n",
        "               learing_rate=0.01):\n",
        "  \n",
        "  start = time.time()\n",
        "  plot_losses = []\n",
        "  print_loss_total = 0\n",
        "  plot_loss_total = 0\n",
        "  \n",
        "  encoder_optimizer = optim.SGD(encoder.parameters(), lr=learing_rate)\n",
        "  decoder_optimizer = optim.SGD(decoder.parameters(), lr=learing_rate)\n",
        "\n",
        "  training_pairs = [ variablesFromPair(random.choice(pairs)) for i in range(n_iters)]\n",
        "  \n",
        "  loss_func = nn.NLLLoss()\n",
        "\n",
        "  for iter in range(1, n_iters+1):\n",
        "    training_pair = training_pairs[iter-1]\n",
        "    input_variable = training_pair[0]\n",
        "    target_variable = training_pair[1]\n",
        "    \n",
        "    loss = trainAtten(input_variable, target_variable, encoder, decoder, \n",
        "            encoder_optimizer, decoder_optimizer, loss_func, max_length=MAX_LEN)\n",
        "\n",
        "    print_loss_total += loss\n",
        "    plot_loss_total += loss\n",
        "\n",
        "    if iter % print_every == 0:\n",
        "      print_loss_avg = print_loss_total/print_every\n",
        "      print_loss_total = 0\n",
        "\n",
        "      print('%s (%d, %d%%) %.4f'%(\n",
        "              timeSince(start, iter/n_iters), \n",
        "              iter, \n",
        "              100*iter/n_iters, \n",
        "              print_loss_avg)\n",
        "          )\n",
        "    if iter % plot_every ==0:\n",
        "      plot_loss_avg = plot_loss_total/plot_every\n",
        "      plot_loss_total = 0\n",
        "      plot_losses.append(plot_loss_avg)\n",
        "    \n",
        "  showPlot(plot_losses)"
      ],
      "execution_count": 39,
      "outputs": []
    },
    {
      "cell_type": "code",
      "metadata": {
        "id": "xD8dVO8GAHNb"
      },
      "source": [
        "if use_cuda:\n",
        "  encoder2.cuda()\n",
        "  decoder2.cuda()"
      ],
      "execution_count": 40,
      "outputs": []
    },
    {
      "cell_type": "code",
      "metadata": {
        "colab": {
          "base_uri": "https://localhost:8080/",
          "height": 537
        },
        "id": "m0Xbb6sm9qLr",
        "outputId": "9909b0c4-031c-4037-caad-4b748b535746"
      },
      "source": [
        "trainAttnIters(encoder2, decoder2, 75000, print_every=5000)"
      ],
      "execution_count": 41,
      "outputs": [
        {
          "output_type": "stream",
          "text": [
            "1m 12.9s (-17m 0.5s) (5000, 6%) 2.8595\n",
            "2m 23.1s (-15m 30.3s) (10000, 13%) 2.2751\n",
            "3m 33.8s (-14m 15.3s) (15000, 20%) 1.9784\n",
            "4m 44.7s (-13m 3.0s) (20000, 26%) 1.7386\n",
            "5m 55.9s (-11m 51.7s) (25000, 33%) 1.5418\n",
            "7m 7.1s (-10m 40.6s) (30000, 40%) 1.3514\n",
            "8m 18.9s (-9m 30.2s) (35000, 46%) 1.2178\n",
            "9m 30.8s (-8m 19.4s) (40000, 53%) 1.0823\n",
            "10m 41.5s (-7m 7.7s) (45000, 60%) 0.9649\n",
            "11m 52.8s (-5m 56.4s) (50000, 66%) 0.8421\n",
            "13m 4.1s (-4m 45.1s) (55000, 73%) 0.7860\n",
            "14m 15.9s (-3m 34.0s) (60000, 80%) 0.7061\n",
            "15m 27.4s (-2m 22.7s) (65000, 86%) 0.6417\n",
            "16m 39.0s (-1m 11.4s) (70000, 93%) 0.5976\n",
            "17m 50.5s (-0m 0.0s) (75000, 100%) 0.5465\n"
          ],
          "name": "stdout"
        },
        {
          "output_type": "display_data",
          "data": {
            "text/plain": [
              "<Figure size 432x288 with 0 Axes>"
            ]
          },
          "metadata": {
            "tags": []
          }
        },
        {
          "output_type": "display_data",
          "data": {
            "image/png": "[encoded data removed]",
            "text/plain": [
              "<Figure size 432x288 with 1 Axes>"
            ]
          },
          "metadata": {
            "tags": [],
            "needs_background": "light"
          }
        }
      ]
    },
    {
      "cell_type": "code",
      "metadata": {
        "id": "E6fUxZ1aAcHO"
      },
      "source": [
        "def evaluateAttn(encoder, decoder, sentence, max_lenght=MAX_LEN):\n",
        "  input_variable = variableFromSentence(input_lang, sentence)\n",
        "  input_length = input_variable.size()[0]\n",
        "  encoder_hidden = encoder.initHidden()\n",
        "\n",
        "  encoder_outputs = Variable(torch.zeros(max_lenght, encoder.hidden_size))\n",
        "  encoder_outputs = encoder_outputs.cuda() if use_cuda else encoder_outputs\n",
        "\n",
        "  for encoder_index in range(input_length):\n",
        "    encoder_output, encoder_hidden = encoder(input_variable[encoder_index], encoder_hidden)\n",
        "    encoder_outputs[encoder_index] = encoder_outputs[encoder_index] + encoder_output[0][0]\n",
        "\n",
        "  decoder_input = Variable(torch.LongTensor([[SOS_token]])) #RNN -> 2dim\n",
        "  decoder_input = decoder_input.cuda() if use_cuda else decoder_input\n",
        "  decoder_hidden = encoder_hidden\n",
        "\n",
        "  decoded_words = []\n",
        "  decoder_attetions = torch.zeros(max_lenght, max_lenght) #存每次的關注點\n",
        "  for decoder_index in range(max_lenght):\n",
        "    decoder_output, decoder_hidden, decoder_attention = decoder(decoder_input, decoder_hidden, encoder_outputs)\n",
        "    decoder_attetions[decoder_index] = decoder_attention.data\n",
        "    topv, topidx = decoder_output.data.topk(1)\n",
        "    ni = topidx[0][0] #type:tensor\n",
        "    \n",
        "    if ni == EOS_token:\n",
        "      decoded_words.append('<EOS>')\n",
        "      break\n",
        "    else:\n",
        "      decoded_words.append(output_lang.index2word[ni.item()]) \n",
        "\n",
        "    decoder_input = Variable(torch.LongTensor([[ni]])) #RNN -> 2dim\n",
        "    decoder_input = decoder_input.cuda() if use_cuda else decoder_input\n",
        "  \n",
        "  return decoded_words, decoder_attetions[:decoder_index+1]"
      ],
      "execution_count": 44,
      "outputs": []
    },
    {
      "cell_type": "code",
      "metadata": {
        "id": "pmVfaNbfInUy"
      },
      "source": [
        "# def show_attention(input_sentence, output_words, attention_matrix):\n",
        "#     fig = plt.figure()\n",
        "#     ax = fig.add_subplot(111)\n",
        "#     cax = plt.matshow(attention_matrix.numpy(), cmap='bone')\n",
        "#     fig.colorbar(cax)\n",
        "#     ax.set_xticklabels(['']+input_sentence.split(' ')+ ['<EOS>'], rotation=90)\n",
        "#     ax.set_yticklabels(['']+output_words)\n",
        "#     ax.xaxis.set_major_locator(ticker.MultipleLocator(1))\n",
        "#     ax.yaxis.set_major_locator(ticker.MultipleLocator(1))\n",
        "\n",
        "#     fig.tight_layout()\n",
        "#     plt.show()"
      ],
      "execution_count": 90,
      "outputs": []
    },
    {
      "cell_type": "code",
      "metadata": {
        "id": "3EuUIr_qOzQz"
      },
      "source": [
        "def show_attention(input_sentence, output_words, attention_matrix):\n",
        "    figure = plt.figure()\n",
        "    axes = figure.add_subplot(111)\n",
        "      \n",
        "    # using the matshow() function \n",
        "    caxes = axes.matshow(attention_matrix, interpolation ='nearest')\n",
        "    figure.colorbar(caxes)\n",
        "      \n",
        "    axes.set_xticklabels(['']+input_sentence.split(' ')+ ['<EOS>'])\n",
        "    axes.set_yticklabels(['']+output_words)\n",
        "      \n",
        "    plt.show()"
      ],
      "execution_count": 91,
      "outputs": []
    },
    {
      "cell_type": "code",
      "metadata": {
        "id": "z0YfJzDTDpB2"
      },
      "source": [
        "def evaluateAttnRandom(encoder, decoder, num=10):\n",
        "  for i in range(num):\n",
        "    pair = random.choice(pairs)\n",
        "    print('>', pair[0])\n",
        "    print('=', pair[1])\n",
        "    output_words, attetions = evaluateAttn(encoder, decoder, pair[0], max_lenght=MAX_LEN)\n",
        "    output_sentence = ' '.join(output_words)\n",
        "    print('<', output_sentence)\n",
        "    print()\n",
        "    show_attention(pair[0], output_words, attetions)"
      ],
      "execution_count": 92,
      "outputs": []
    },
    {
      "cell_type": "code",
      "metadata": {
        "colab": {
          "base_uri": "https://localhost:8080/",
          "height": 1000
        },
        "id": "u1GDV060EsEs",
        "outputId": "ea0630ea-e2c7-4630-cc81-007c092516ac"
      },
      "source": [
        "evaluateAttnRandom(encoder2, decoder2, num=10)"
      ],
      "execution_count": 93,
      "outputs": [
        {
          "output_type": "stream",
          "text": [
            "> ils viennent pour moi .\n",
            "= they re coming for me .\n",
            "< they re coming for me . <EOS>\n",
            "\n"
          ],
          "name": "stdout"
        },
        {
          "output_type": "display_data",
          "data": {
            "image/png": "[encoded data removed]",
            "text/plain": [
              "<Figure size 432x288 with 2 Axes>"
            ]
          },
          "metadata": {
            "tags": [],
            "needs_background": "light"
          }
        },
        {
          "output_type": "stream",
          "text": [
            "> j ai l habitude de me lever tot .\n",
            "= i m used to getting up early .\n",
            "< i m getting up early . <EOS>\n",
            "\n"
          ],
          "name": "stdout"
        },
        {
          "output_type": "display_data",
          "data": {
            "image/png": "[encoded data removed]",
            "text/plain": [
              "<Figure size 432x288 with 2 Axes>"
            ]
          },
          "metadata": {
            "tags": [],
            "needs_background": "light"
          }
        },
        {
          "output_type": "stream",
          "text": [
            "> je ne suis pas aussi occupe que tom .\n",
            "= i m not as busy as tom .\n",
            "< i m not as busy as tom . <EOS>\n",
            "\n"
          ],
          "name": "stdout"
        },
        {
          "output_type": "display_data",
          "data": {
            "image/png": "[encoded data removed]",
            "text/plain": [
              "<Figure size 432x288 with 2 Axes>"
            ]
          },
          "metadata": {
            "tags": [],
            "needs_background": "light"
          }
        },
        {
          "output_type": "stream",
          "text": [
            "> je n ai plus peur de vous .\n",
            "= i m not scared of you anymore .\n",
            "< i m not scared of you anymore . <EOS>\n",
            "\n"
          ],
          "name": "stdout"
        },
        {
          "output_type": "display_data",
          "data": {
            "image/png": "[encoded data removed]",
            "text/plain": [
              "<Figure size 432x288 with 2 Axes>"
            ]
          },
          "metadata": {
            "tags": [],
            "needs_background": "light"
          }
        },
        {
          "output_type": "stream",
          "text": [
            "> je ne suis vraiment pas occupee .\n",
            "= i m really not busy .\n",
            "< i m really not busy . <EOS>\n",
            "\n"
          ],
          "name": "stdout"
        },
        {
          "output_type": "display_data",
          "data": {
            "image/png": "[encoded data removed]",
            "text/plain": [
              "<Figure size 432x288 with 2 Axes>"
            ]
          },
          "metadata": {
            "tags": [],
            "needs_background": "light"
          }
        },
        {
          "output_type": "stream",
          "text": [
            "> je suis farouchement oppose a un compromis .\n",
            "= i m strongly opposed to a compromise .\n",
            "< i m willing to see a food . <EOS>\n",
            "\n"
          ],
          "name": "stdout"
        },
        {
          "output_type": "display_data",
          "data": {
            "image/png": "[encoded data removed]",
            "text/plain": [
              "<Figure size 432x288 with 2 Axes>"
            ]
          },
          "metadata": {
            "tags": [],
            "needs_background": "light"
          }
        },
        {
          "output_type": "stream",
          "text": [
            "> ils sont en train de mourir .\n",
            "= they re dying .\n",
            "< they re dying . <EOS>\n",
            "\n"
          ],
          "name": "stdout"
        },
        {
          "output_type": "display_data",
          "data": {
            "image/png": "[encoded data removed]",
            "text/plain": [
              "<Figure size 432x288 with 2 Axes>"
            ]
          },
          "metadata": {
            "tags": [],
            "needs_background": "light"
          }
        },
        {
          "output_type": "stream",
          "text": [
            "> il est borne .\n",
            "= he is thick headed .\n",
            "< he is thick headed . <EOS>\n",
            "\n"
          ],
          "name": "stdout"
        },
        {
          "output_type": "display_data",
          "data": {
            "image/png": "[encoded data removed]",
            "text/plain": [
              "<Figure size 432x288 with 2 Axes>"
            ]
          },
          "metadata": {
            "tags": [],
            "needs_background": "light"
          }
        },
        {
          "output_type": "stream",
          "text": [
            "> tu es sournois .\n",
            "= you re sneaky .\n",
            "< you re sneaky . <EOS>\n",
            "\n"
          ],
          "name": "stdout"
        },
        {
          "output_type": "display_data",
          "data": {
            "image/png": "[encoded data removed]",
            "text/plain": [
              "<Figure size 432x288 with 2 Axes>"
            ]
          },
          "metadata": {
            "tags": [],
            "needs_background": "light"
          }
        },
        {
          "output_type": "stream",
          "text": [
            "> tu es grossiere .\n",
            "= you re rude .\n",
            "< you re rude . <EOS>\n",
            "\n"
          ],
          "name": "stdout"
        },
        {
          "output_type": "display_data",
          "data": {
            "image/png": "[encoded data removed]",
            "text/plain": [
              "<Figure size 432x288 with 2 Axes>"
            ]
          },
          "metadata": {
            "tags": [],
            "needs_background": "light"
          }
        }
      ]
    },
    {
      "cell_type": "code",
      "metadata": {
        "id": "M_qfPwZUKio5"
      },
      "source": [
        ""
      ],
      "execution_count": null,
      "outputs": []
    }
  ]
}