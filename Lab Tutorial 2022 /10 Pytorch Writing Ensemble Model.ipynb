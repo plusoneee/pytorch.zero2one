{
  "nbformat": 4,
  "nbformat_minor": 0,
  "metadata": {
    "colab": {
      "name": "10 Pytorch Writing Ensemble Model.ipynb",
      "provenance": [],
      "collapsed_sections": [],
      "toc_visible": true
    },
    "kernelspec": {
      "name": "python3",
      "display_name": "Python 3"
    },
    "language_info": {
      "name": "python"
    },
    "accelerator": "GPU"
  },
  "cells": [
    {
      "cell_type": "markdown",
      "metadata": {
        "id": "mbx6HtoExdZK"
      },
      "source": [
        "# Ensemble Model\n",
        "\n",
        "* Import\n",
        "* Set the device\n",
        "* Dataset & DataLoader\n",
        "* Ensemble models\n",
        "    * Example 1. - Resnet18, Resnet50\n",
        "    * Example 2. - LSTM, CNN\n",
        "* Loss function & Optimizer\n",
        "* Training ensemble model"
      ]
    },
    {
      "cell_type": "markdown",
      "metadata": {
        "id": "-mENTgp48H1c"
      },
      "source": [
        "## Import"
      ]
    },
    {
      "cell_type": "code",
      "metadata": {
        "id": "IcrJu6Kzl1rm"
      },
      "source": [
        "import torch\n",
        "import torch.nn as nn\n",
        "\n",
        "from torchvision import models\n",
        "import torch.optim as opt\n",
        "from torch.autograd import Variable\n",
        "\n",
        "from torchvision.datasets import MNIST\n",
        "from torchvision import transforms\n",
        "from torch.utils.data import DataLoader"
      ],
      "execution_count": null,
      "outputs": []
    },
    {
      "cell_type": "markdown",
      "metadata": {
        "id": "ScxdU9S7_ooJ"
      },
      "source": [
        "## Set the Device"
      ]
    },
    {
      "cell_type": "code",
      "metadata": {
        "id": "Cg0xrVuM_s7j"
      },
      "source": [
        "device = torch.device('cuda' if torch.cuda.is_available() else 'cpu')"
      ],
      "execution_count": null,
      "outputs": []
    },
    {
      "cell_type": "markdown",
      "metadata": {
        "id": "PpEHYNxu8J-I"
      },
      "source": [
        "## Dataset & DataLoader"
      ]
    },
    {
      "cell_type": "code",
      "metadata": {
        "id": "GVZ_gR6suxIZ"
      },
      "source": [
        "train_dataset = MNIST(root = './data', train=True, download=True, transform=transforms.ToTensor())\n",
        "test_dataset= MNIST(root = './data', train=False, download=True, transform=transforms.ToTensor())"
      ],
      "execution_count": null,
      "outputs": []
    },
    {
      "cell_type": "code",
      "metadata": {
        "id": "9xHJua7C8PSV"
      },
      "source": [
        "# hyperparameter \n",
        "train_batch_size = 64\n",
        "test_batch_szie = 1000\n",
        "\n",
        "# train dataloader\n",
        "train_loader = DataLoader(\n",
        "    dataset=train_dataset, \n",
        "    batch_size=train_batch_size, \n",
        "    shuffle=True)\n",
        "\n",
        "# test dataloader\n",
        "test_loader = DataLoader(\n",
        "    dataset=test_dataset, \n",
        "    batch_size=test_batch_szie, \n",
        "    shuffle=False)"
      ],
      "execution_count": null,
      "outputs": []
    },
    {
      "cell_type": "markdown",
      "metadata": {
        "id": "0TQYgvCE9YJc"
      },
      "source": [
        "## Ensemble Model\n",
        "\n",
        "* Example 1. Resnet50 + Resnet18\n",
        "* Example 2. LSTM + CNN"
      ]
    },
    {
      "cell_type": "markdown",
      "metadata": {
        "id": "KJbuBUeV9SBq"
      },
      "source": [
        "### Example 1. Resnet50, Resnet18"
      ]
    },
    {
      "cell_type": "code",
      "metadata": {
        "id": "zvIDfYD9ozfd"
      },
      "source": [
        "resnet50 = models.resnet50(pretrained=False)\n",
        "resnet18 = models.resnet18(pretrained=False)"
      ],
      "execution_count": null,
      "outputs": []
    },
    {
      "cell_type": "code",
      "metadata": {
        "colab": {
          "base_uri": "https://localhost:8080/"
        },
        "id": "VO8yVGAe5oPF",
        "outputId": "06f2dc2b-623a-4900-913a-9b9b83449b20"
      },
      "source": [
        "resnet18.fc = nn.Identity()"
      ],
      "execution_count": null,
      "outputs": [
        {
          "output_type": "execute_result",
          "data": {
            "text/plain": [
              "Identity()"
            ]
          },
          "metadata": {},
          "execution_count": 16
        }
      ]
    },
    {
      "cell_type": "code",
      "metadata": {
        "id": "RqaHOGWMl_1G"
      },
      "source": [
        "class MyEnsemble(nn.Module):\n",
        "    def __init__(self, modelA, modelB, num_classes=10):\n",
        "        super(MyEnsemble, self).__init__()\n",
        "        \n",
        "        self.modelA = modelA\n",
        "        self.modelB = modelB\n",
        "\n",
        "        # remove the last linear layer\n",
        "        self.modelA.fc = nn.Identity()\n",
        "        self.modelB.fc = nn.Identity()\n",
        "\n",
        "        self.relu = nn.ReLU()\n",
        "\n",
        "        # create new classifier\n",
        "        self.classifier = nn.Linear(2048+512, num_classes)\n",
        "\n",
        "    def forward(self, x):\n",
        "        # clone to make sure x is not changed by inplace methods\n",
        "        outputA = self.modelA(x.clone())\n",
        "        ooutputA = outputA.view(outputA.size(0), -1)\n",
        "\n",
        "        outputB = self.modelB(x)\n",
        "        outputB = outputB.view(outputB.size(0), -1)\n",
        "\n",
        "        output = torch.cat((outputA, outputB), dim=1)\n",
        "        output = self.relu(output)\n",
        "        output = self.classifier(output)\n",
        "        \n",
        "        return output"
      ],
      "execution_count": null,
      "outputs": []
    },
    {
      "cell_type": "code",
      "metadata": {
        "id": "AssoDmIJo3Kz",
        "colab": {
          "base_uri": "https://localhost:8080/",
          "height": 52
        },
        "outputId": "627fa3c7-6ceb-4c8b-8475-eb0843b5e490"
      },
      "source": [
        "# Freeze these models (pretrained = True)\n",
        "'''\n",
        "for param in resnet50.parameters():\n",
        "    param.requires_grad_(False)\n",
        "\n",
        "for param in resnet18.parameters():\n",
        "    param.requires_grad_(False)\n",
        "'''"
      ],
      "execution_count": null,
      "outputs": [
        {
          "output_type": "execute_result",
          "data": {
            "application/vnd.google.colaboratory.intrinsic+json": {
              "type": "string"
            },
            "text/plain": [
              "'\\nfor param in resnet50.parameters():\\n    param.requires_grad_(False)\\n\\nfor param in resnet18.parameters():\\n    param.requires_grad_(False)\\n'"
            ]
          },
          "metadata": {},
          "execution_count": 18
        }
      ]
    },
    {
      "cell_type": "code",
      "metadata": {
        "colab": {
          "base_uri": "https://localhost:8080/"
        },
        "id": "S7mBuZiOo7Wp",
        "outputId": "2953a157-fc74-4ac9-947c-3133ac09f20d"
      },
      "source": [
        "# Create ensemble model\n",
        "model = MyEnsemble(resnet50, resnet18)\n",
        "\n",
        "# smaple images, b, c, H, W\n",
        "x = torch.randn(1, 3, 224, 224)\n",
        "output = model(x)\n",
        "\n",
        "print('- output shape:', output.detach().numpy())"
      ],
      "execution_count": null,
      "outputs": [
        {
          "output_type": "stream",
          "text": [
            "- output shape: [[-0.06837771  0.65637374  0.03194652  0.3869553   0.24498674 -0.6827936\n",
            "   0.13781366 -0.01793237 -0.19782715  0.51147777]]\n"
          ],
          "name": "stdout"
        }
      ]
    },
    {
      "cell_type": "markdown",
      "metadata": {
        "id": "9bdGKeOfqzXn"
      },
      "source": [
        "### Example 2. LSTM + CNN \n",
        "\n",
        "<img src=\"https://i.imgur.com/e55r98K.png\" alt=\"ensemble\" width=\"600px\"/>"
      ]
    },
    {
      "cell_type": "markdown",
      "metadata": {
        "id": "svpxU6-29-it"
      },
      "source": [
        "#### CNN Mdel:"
      ]
    },
    {
      "cell_type": "code",
      "metadata": {
        "id": "OM2lu_uvo_5s"
      },
      "source": [
        "class CNN(nn.Module):\n",
        "    def __init__(self):\n",
        "        super(CNN, self).__init__()\n",
        "\n",
        "        self.conv_layers = nn.Sequential(\n",
        "            nn.Conv2d(in_channels=1, out_channels=64, kernel_size=3, stride=1, padding=1),\n",
        "            nn.ReLU(),\n",
        "            nn.Conv2d(in_channels=64, out_channels=128, kernel_size=3, padding=1),\n",
        "            nn.ReLU(),\n",
        "            nn.MaxPool2d(stride=2, kernel_size=2)\n",
        "        )\n",
        "        \n",
        "        self.dense = nn.Sequential(\n",
        "            nn.Linear(in_features=14*14*128, out_features=1024),\n",
        "            nn.ReLU(),\n",
        "            nn.Linear(1024, 10)\n",
        "        )\n",
        "        \n",
        "    def forward(self, x):\n",
        "        output = self.conv_layers(x)\n",
        "        output = output.view(-1, 14*14*128)\n",
        "        output = self.dense(output)\n",
        "\n",
        "        return output "
      ],
      "execution_count": null,
      "outputs": []
    },
    {
      "cell_type": "code",
      "metadata": {
        "colab": {
          "base_uri": "https://localhost:8080/"
        },
        "id": "BYXId2dz-DVe",
        "outputId": "572b51df-e10f-41c5-9225-c5e6bd5c735e"
      },
      "source": [
        "cnn = CNN().to(device)\n",
        "print(cnn)\n",
        "\n",
        "for idx, (images, labels) in enumerate(train_loader):\n",
        "    images = images.to(device)\n",
        "    labels = labels.to(device)\n",
        "\n",
        "    print('\\n- image(input) shape:')\n",
        "    print(images.shape)\n",
        "    \n",
        "    print('\\n- output shape:')\n",
        "    output = cnn(images)\n",
        "\n",
        "    # (batch_size, num_class)\n",
        "    print(output.shape) \n",
        "    break"
      ],
      "execution_count": null,
      "outputs": [
        {
          "output_type": "stream",
          "text": [
            "CNN(\n",
            "  (conv_layers): Sequential(\n",
            "    (0): Conv2d(1, 64, kernel_size=(3, 3), stride=(1, 1), padding=(1, 1))\n",
            "    (1): ReLU()\n",
            "    (2): Conv2d(64, 128, kernel_size=(3, 3), stride=(1, 1), padding=(1, 1))\n",
            "    (3): ReLU()\n",
            "    (4): MaxPool2d(kernel_size=2, stride=2, padding=0, dilation=1, ceil_mode=False)\n",
            "  )\n",
            "  (dense): Sequential(\n",
            "    (0): Linear(in_features=25088, out_features=1024, bias=True)\n",
            "    (1): ReLU()\n",
            "    (2): Linear(in_features=1024, out_features=10, bias=True)\n",
            "  )\n",
            ")\n",
            "\n",
            "- image(input) shape:\n",
            "torch.Size([64, 1, 28, 28])\n",
            "\n",
            "- output shape:\n",
            "torch.Size([64, 10])\n"
          ],
          "name": "stdout"
        }
      ]
    },
    {
      "cell_type": "markdown",
      "metadata": {
        "id": "oj9lDygt-abr"
      },
      "source": [
        "#### LSTM Model"
      ]
    },
    {
      "cell_type": "code",
      "metadata": {
        "id": "hWhTMDr6sPNW"
      },
      "source": [
        "class LSTM(nn.Module):\n",
        "    def __init__(self, input_size, hidden_size, num_layers, num_class):\n",
        "        super(LSTM, self).__init__()\n",
        "        self.hidden_size = hidden_size\n",
        "        self.num_layers = num_layers\n",
        "        self.lstm = nn.LSTM(input_size, hidden_size, num_layers, batch_first=True) # batch_first batch 為第一個維度\n",
        "        self.fc = nn.Linear(hidden_size, num_class)\n",
        "\n",
        "    def forward(self, x):\n",
        "        x = x.view(x.size(0), 1, -1)\n",
        "\n",
        "        h0 = Variable(\n",
        "            # layer num, batch size, hidden size\n",
        "            torch.zeros(self.num_layers, x.size(0), self.hidden_size)\n",
        "            ).to(device)\n",
        "        c0 = Variable(torch.zeros(\n",
        "            self.num_layers, x.size(0), self.hidden_size)\n",
        "            ).to(device)\n",
        "            \n",
        "        out, (h_out, c) = self.lstm(x, (h0, c0))\n",
        "\n",
        "        # (b, 1, 10)\n",
        "        out = self.fc(out)\n",
        "        \n",
        "        # from (b, 1, 10) to shape (b, 10)\n",
        "        return torch.squeeze(out)"
      ],
      "execution_count": null,
      "outputs": []
    },
    {
      "cell_type": "code",
      "metadata": {
        "colab": {
          "base_uri": "https://localhost:8080/"
        },
        "id": "H5xygdZ4t-DZ",
        "outputId": "9322995a-189e-4998-d3ff-24bfb857acf6"
      },
      "source": [
        "lstm = LSTM(\n",
        "    input_size = 28*28,\n",
        "    hidden_size = 784,\n",
        "    num_layers = 1,\n",
        "    num_class = 10\n",
        ").to(device)\n",
        "\n",
        "print(lstm)\n",
        "\n",
        "for idx, (images, labels) in enumerate(train_loader):\n",
        "    images = images.to(device)\n",
        "    labels = labels.to(device)\n",
        "    \n",
        "    print('\\n- image shape:')\n",
        "    print(images.shape)\n",
        "    print('\\n- output shape:')\n",
        "    output = lstm(images)\n",
        "    \n",
        "    # (batch_size, num_class)\n",
        "    print(output.shape)\n",
        "    break"
      ],
      "execution_count": null,
      "outputs": [
        {
          "output_type": "stream",
          "text": [
            "LSTM(\n",
            "  (lstm): LSTM(784, 784, batch_first=True)\n",
            "  (fc): Linear(in_features=784, out_features=10, bias=True)\n",
            ")\n",
            "\n",
            "- image shape:\n",
            "torch.Size([64, 1, 28, 28])\n",
            "\n",
            "- output shape:\n",
            "torch.Size([64, 10])\n"
          ],
          "name": "stdout"
        }
      ]
    },
    {
      "cell_type": "markdown",
      "metadata": {
        "id": "miJXSfuk-0if"
      },
      "source": [
        "#### Ensemble (CNN + LSTM)"
      ]
    },
    {
      "cell_type": "code",
      "metadata": {
        "id": "68xW48Wyy0CZ"
      },
      "source": [
        "class LSTMCNNEnsemble(nn.Module):\n",
        "    def __init__(self, cnn, lstm, num_class):\n",
        "        super(LSTMCNNEnsemble, self).__init__()\n",
        "        self.cnn = cnn\n",
        "        self.lstm = lstm\n",
        "        self.relu = nn.ReLU()\n",
        "        self.fc = nn.Linear(20, num_class)\n",
        "\n",
        "    def forward(self, x):\n",
        "        out_cnn = self.cnn(x.clone())\n",
        "        out_lstm = self.lstm(x)\n",
        "        out = torch.cat((out_cnn, out_lstm), dim=1)\n",
        "    \n",
        "        out = self.fc(out)\n",
        "        return out"
      ],
      "execution_count": null,
      "outputs": []
    },
    {
      "cell_type": "code",
      "metadata": {
        "id": "e0b-aZqJ39-_",
        "colab": {
          "base_uri": "https://localhost:8080/"
        },
        "outputId": "8b2b7b6c-346c-4bae-f390-e74123dbd734"
      },
      "source": [
        "ensemble_model = LSTMCNNEnsemble(cnn, lstm, 10).to(device)\n",
        "print(ensemble_model)\n",
        "\n",
        "for idx, (images, labels) in enumerate(train_loader):\n",
        "    images = images.to(device)\n",
        "    labels = labels.to(device)\n",
        "    print('\\n- image(input) shape:')\n",
        "    print(images.shape)\n",
        "    \n",
        "    output = ensemble_model(images)\n",
        "    print('\\n- output shape:')\n",
        "    print(output.shape)\n",
        "    break"
      ],
      "execution_count": null,
      "outputs": [
        {
          "output_type": "stream",
          "text": [
            "LSTMCNNEnsemble(\n",
            "  (cnn): CNN(\n",
            "    (conv_layers): Sequential(\n",
            "      (0): Conv2d(1, 64, kernel_size=(3, 3), stride=(1, 1), padding=(1, 1))\n",
            "      (1): ReLU()\n",
            "      (2): Conv2d(64, 128, kernel_size=(3, 3), stride=(1, 1), padding=(1, 1))\n",
            "      (3): ReLU()\n",
            "      (4): MaxPool2d(kernel_size=2, stride=2, padding=0, dilation=1, ceil_mode=False)\n",
            "    )\n",
            "    (dense): Sequential(\n",
            "      (0): Linear(in_features=25088, out_features=1024, bias=True)\n",
            "      (1): ReLU()\n",
            "      (2): Linear(in_features=1024, out_features=10, bias=True)\n",
            "    )\n",
            "  )\n",
            "  (lstm): LSTM(\n",
            "    (lstm): LSTM(784, 784, batch_first=True)\n",
            "    (fc): Linear(in_features=784, out_features=10, bias=True)\n",
            "  )\n",
            "  (relu): ReLU()\n",
            "  (fc): Linear(in_features=20, out_features=10, bias=True)\n",
            ")\n",
            "\n",
            "- image(input) shape:\n",
            "torch.Size([64, 1, 28, 28])\n",
            "\n",
            "- output shape:\n",
            "torch.Size([64, 10])\n"
          ],
          "name": "stdout"
        }
      ]
    },
    {
      "cell_type": "markdown",
      "metadata": {
        "id": "lSOBK3_8_R9n"
      },
      "source": [
        "## Loss Function & Optimizer"
      ]
    },
    {
      "cell_type": "code",
      "metadata": {
        "id": "8tzCzkAG4DZR"
      },
      "source": [
        "# hypyerperameter\n",
        "learning_rate = 0.0001\n",
        "\n",
        "loss_func = nn.CrossEntropyLoss()\n",
        "optimizer = opt.Adam(ensemble_model.parameters(), lr=learning_rate)"
      ],
      "execution_count": null,
      "outputs": []
    },
    {
      "cell_type": "markdown",
      "metadata": {
        "id": "a9ehPq6Q_edr"
      },
      "source": [
        "## Training Ensemble Model"
      ]
    },
    {
      "cell_type": "code",
      "metadata": {
        "id": "zwDPcoZn4jnI",
        "colab": {
          "base_uri": "https://localhost:8080/"
        },
        "outputId": "8c909db7-6a18-4aa7-a953-9110f64dace8"
      },
      "source": [
        "# hyperparameter \n",
        "num_epochs = 5\n",
        "ensemble_model.to(device)\n",
        "\n",
        "for epoch in range(num_epochs):\n",
        "    for idx, (images, labels) in enumerate(train_loader):\n",
        "        images = Variable(images.to(device))\n",
        "        labels = Variable(labels.to(device))\n",
        "\n",
        "        optimizer.zero_grad()\n",
        "        outputs = ensemble_model(images)\n",
        "        loss = loss_func(outputs, labels)\n",
        "        loss.backward()\n",
        "        optimizer.step()\n",
        "\n",
        "        if (idx+1)% 200 == 0:\n",
        "            print(\"Epoch: %d, Batch: %d, Loss: %.4f\" %(epoch+1, idx+1, loss.data))"
      ],
      "execution_count": null,
      "outputs": [
        {
          "output_type": "stream",
          "text": [
            "Epoch: 1, Batch: 100, Loss: 0.6099\n",
            "Epoch: 1, Batch: 200, Loss: 0.3531\n",
            "Epoch: 1, Batch: 300, Loss: 0.3945\n",
            "Epoch: 1, Batch: 400, Loss: 0.1301\n",
            "Epoch: 1, Batch: 500, Loss: 0.3692\n",
            "Epoch: 1, Batch: 600, Loss: 0.1536\n",
            "Epoch: 1, Batch: 700, Loss: 0.1410\n",
            "Epoch: 1, Batch: 800, Loss: 0.0392\n",
            "Epoch: 1, Batch: 900, Loss: 0.1138\n",
            "Epoch: 2, Batch: 100, Loss: 0.0337\n",
            "Epoch: 2, Batch: 200, Loss: 0.1520\n",
            "Epoch: 2, Batch: 300, Loss: 0.0563\n",
            "Epoch: 2, Batch: 400, Loss: 0.1713\n",
            "Epoch: 2, Batch: 500, Loss: 0.0532\n",
            "Epoch: 2, Batch: 600, Loss: 0.0240\n",
            "Epoch: 2, Batch: 700, Loss: 0.1004\n",
            "Epoch: 2, Batch: 800, Loss: 0.0665\n",
            "Epoch: 2, Batch: 900, Loss: 0.0518\n",
            "Epoch: 3, Batch: 100, Loss: 0.0247\n",
            "Epoch: 3, Batch: 200, Loss: 0.0818\n",
            "Epoch: 3, Batch: 300, Loss: 0.0423\n",
            "Epoch: 3, Batch: 400, Loss: 0.0074\n",
            "Epoch: 3, Batch: 500, Loss: 0.1040\n",
            "Epoch: 3, Batch: 600, Loss: 0.0303\n",
            "Epoch: 3, Batch: 700, Loss: 0.0726\n",
            "Epoch: 3, Batch: 800, Loss: 0.0949\n",
            "Epoch: 3, Batch: 900, Loss: 0.0147\n",
            "Epoch: 4, Batch: 100, Loss: 0.0413\n",
            "Epoch: 4, Batch: 200, Loss: 0.0411\n",
            "Epoch: 4, Batch: 300, Loss: 0.0141\n",
            "Epoch: 4, Batch: 400, Loss: 0.0049\n",
            "Epoch: 4, Batch: 500, Loss: 0.0062\n",
            "Epoch: 4, Batch: 600, Loss: 0.0126\n",
            "Epoch: 4, Batch: 700, Loss: 0.0039\n",
            "Epoch: 4, Batch: 800, Loss: 0.0217\n",
            "Epoch: 4, Batch: 900, Loss: 0.0487\n",
            "Epoch: 5, Batch: 100, Loss: 0.0107\n",
            "Epoch: 5, Batch: 200, Loss: 0.0738\n",
            "Epoch: 5, Batch: 300, Loss: 0.0186\n",
            "Epoch: 5, Batch: 400, Loss: 0.0231\n",
            "Epoch: 5, Batch: 500, Loss: 0.0022\n",
            "Epoch: 5, Batch: 600, Loss: 0.0022\n",
            "Epoch: 5, Batch: 700, Loss: 0.0468\n",
            "Epoch: 5, Batch: 800, Loss: 0.0218\n",
            "Epoch: 5, Batch: 900, Loss: 0.0641\n"
          ],
          "name": "stdout"
        }
      ]
    }
  ]
}