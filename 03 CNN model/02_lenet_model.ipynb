{
  "nbformat": 4,
  "nbformat_minor": 0,
  "metadata": {
    "colab": {
      "name": "LeNet.ipynb",
      "provenance": [],
      "collapsed_sections": []
    },
    "kernelspec": {
      "name": "python3",
      "display_name": "Python 3"
    },
    "language_info": {
      "name": "python"
    }
  },
  "cells": [
    {
      "cell_type": "code",
      "metadata": {
        "id": "_qb1E8WJsgD7"
      },
      "source": [
        "import numpy as np\n",
        "import matplotlib.pyplot as plt\n",
        "import torch\n",
        "import torchvision\n",
        "import torch.nn as nn\n",
        "import torch.nn.functional as F\n",
        "import torchvision.transforms as transforms\n",
        "from torch.utils.data import DataLoader"
      ],
      "execution_count": null,
      "outputs": []
    },
    {
      "cell_type": "code",
      "metadata": {
        "colab": {
          "base_uri": "https://localhost:8080/"
        },
        "id": "eLGOmBQGs3my",
        "outputId": "f23d4ed7-aa47-436c-fccc-85fe449e8ca0"
      },
      "source": [
        "torch.manual_seed(91) # set the random seed to ensure the reproducibility of this execise"
      ],
      "execution_count": null,
      "outputs": [
        {
          "output_type": "execute_result",
          "data": {
            "text/plain": [
              "<torch._C.Generator at 0x7f949dc11930>"
            ]
          },
          "metadata": {
            "tags": []
          },
          "execution_count": 2
        }
      ]
    },
    {
      "cell_type": "code",
      "metadata": {
        "id": "8Lrx8sbstAes"
      },
      "source": [
        "class LeNet(nn.Module):\n",
        "  def __init__(self):\n",
        "    super(LeNet, self).__init__()\n",
        "    self.cn1 = nn.Conv2d(in_channels=3, out_channels=6, kernel_size=5)\n",
        "    self.cn2 = nn.Conv2d(in_channels=6, out_channels=16, kernel_size=5)\n",
        "    self.fc1 = nn.Linear(16*5*5, 120) # 5*5 is the spatial dimension at this layer\n",
        "    self.fc2 = nn.Linear(120, 84)\n",
        "    self.fc3 = nn.Linear(84, 10)\n",
        "    self.relu = nn.ReLU()\n",
        "    self.max_pooling = nn.MaxPool2d(kernel_size=2, stride=2)\n",
        "\n",
        "  def forward(self, x):\n",
        "    # convolution with 5x5 kernel\n",
        "    output = self.cn1(x)\n",
        "    output = self.relu(output)\n",
        "    # max pooling with over a (2, 2) window\n",
        "    output = self.max_pooling(output)\n",
        "    # convolution with 5x5 kernel\n",
        "    output = self.cn2(output)\n",
        "    # max pooling with over a (2, 2) window\n",
        "    output = self.max_pooling(output)\n",
        "    # flatten spatial and depth dimensions into a single vector\n",
        "    output = output.view(-1, self.flatten(output))\n",
        "    # fully connected layer 120\n",
        "    output = self.fc1(output)\n",
        "    # fully connected layer 84\n",
        "    output = self.fc2(output)\n",
        "    # fully connected layer 84\n",
        "    output = self.fc3(output)\n",
        "    return output\n",
        "\n",
        "  def flatten(self, x):\n",
        "    # meant to calculate the total number of features in an image representation layer.\n",
        "    # all except the first (batch) dimension\n",
        "    size = x.size()[1:] # (16, 5, 5)\n",
        "    num_features = 1\n",
        "    for s in size:\n",
        "      num_features = num_features * s\n",
        "    return num_features"
      ],
      "execution_count": null,
      "outputs": []
    },
    {
      "cell_type": "code",
      "metadata": {
        "colab": {
          "base_uri": "https://localhost:8080/"
        },
        "id": "V9EK5SjhwXej",
        "outputId": "6a7a6285-5fa3-4fab-8869-b9d478a77387"
      },
      "source": [
        "leNet = LeNet()\n",
        "print(leNet)"
      ],
      "execution_count": null,
      "outputs": [
        {
          "output_type": "stream",
          "text": [
            "LeNet(\n",
            "  (cn1): Conv2d(3, 6, kernel_size=(5, 5), stride=(1, 1))\n",
            "  (cn2): Conv2d(6, 16, kernel_size=(5, 5), stride=(1, 1))\n",
            "  (fc1): Linear(in_features=400, out_features=120, bias=True)\n",
            "  (fc2): Linear(in_features=120, out_features=84, bias=True)\n",
            "  (fc3): Linear(in_features=84, out_features=10, bias=True)\n",
            "  (relu): ReLU()\n",
            "  (max_pooling): MaxPool2d(kernel_size=2, stride=2, padding=0, dilation=1, ceil_mode=False)\n",
            ")\n"
          ],
          "name": "stdout"
        }
      ]
    },
    {
      "cell_type": "code",
      "metadata": {
        "id": "xUJxSBhmwc09"
      },
      "source": [
        "# define the tainning routine\n",
        "def train(model, train_loader, optimizer, epoch):\n",
        "\n",
        "  for idx, (x, labels) in enumerate(train_loader):\n",
        "    # zero the parameter gradients\n",
        "    optimizer.zero_grad()\n",
        "    output = model(x)\n",
        "    loss = nn.CrossEntropyLoss()(output, labels)\n",
        "    loss.backward()\n",
        "    optimizer.step()\n",
        "\n",
        "    # print at the interval of 1000 mini-batchs\n",
        "    if (idx+1)%1000 == 0:\n",
        "      print('Epoch number:%d, Mini-batchs:%5d, loss:%.4f' %(epoch+1, idx+1, loss.data))"
      ],
      "execution_count": null,
      "outputs": []
    },
    {
      "cell_type": "code",
      "metadata": {
        "id": "mLUSPsmKyjpX"
      },
      "source": [
        "# define the test routine to evaluate model performance\n",
        "def test(model, test_loader):\n",
        "  correct = 0\n",
        "  counter = 9\n",
        "\n",
        "  with torch.no_grad():\n",
        "    for idx, (x, labels) in enumerate(train_loader):\n",
        "      output = model(x)\n",
        "      _, predicted = torch.max(output.data, 1)\n",
        "      counter += labels.size(0)\n",
        "      correct += (predicted == labels).sum().item()\n",
        "    \n",
        "  print('LeNet accuracy from test dataset: %d %%' %(100 * correct/counter))"
      ],
      "execution_count": null,
      "outputs": []
    },
    {
      "cell_type": "code",
      "metadata": {
        "colab": {
          "base_uri": "https://localhost:8080/"
        },
        "id": "jxmfyzAmzZ1w",
        "outputId": "3911c236-fb9b-4b45-a9e9-d263cda34e46"
      },
      "source": [
        "# dataset CIFAR-10\n",
        "train_transforms = transforms.Compose([\n",
        "    transforms.RandomHorizontalFlip(),\n",
        "    transforms.RandomCrop(32, 4),\n",
        "    transforms.ToTensor(),\n",
        "    transforms.Normalize((0.5, 0.5, 0.5), (0.5, 0.5, 0.5))                                     \n",
        "  ])\n",
        "\n",
        "train_dataset = torchvision.datasets.CIFAR10(root='./data', train=True, download=True, transform=train_transforms)\n",
        "train_loader = DataLoader(train_dataset, batch_size=8, shuffle=True, num_workers=1)\n",
        "\n",
        "train_transforms = transforms.Compose([\n",
        "    transforms.ToTensor(),\n",
        "    transforms.Normalize((0.5, 0.5, 0.5), (0.5, 0.5, 0.5))                                     \n",
        "  ])\n",
        "test_dataset = torchvision.datasets.CIFAR10(root='./data', train=False, download=True, transform=train_transforms)\n",
        "test_loader = DataLoader(test_dataset, batch_size=10000, shuffle=True, num_workers=1)\n",
        "\n",
        "classes = ('plane', 'car', 'bird', 'cat', 'deer', 'dog', 'frog', 'horse', 'ship', 'truck')"
      ],
      "execution_count": null,
      "outputs": [
        {
          "output_type": "stream",
          "text": [
            "Files already downloaded and verified\n",
            "Files already downloaded and verified\n"
          ],
          "name": "stdout"
        }
      ]
    },
    {
      "cell_type": "code",
      "metadata": {
        "colab": {
          "base_uri": "https://localhost:8080/"
        },
        "id": "O6KfQsps1DCy",
        "outputId": "0735b936-976b-4692-b083-2a110ea82a02"
      },
      "source": [
        "# train LeNet\n",
        "# define optimizer\n",
        "optimizer = torch.optim.Adam(leNet.parameters(), lr=0.001)\n",
        "for epoch in range(10):\n",
        "  train(leNet, train_loader, optimizer, epoch)\n",
        "  test(leNet, test_loader)"
      ],
      "execution_count": null,
      "outputs": [
        {
          "output_type": "stream",
          "text": [
            "Epoch number: 1, Mini-batchs:  1000, loss: 1.7603\n",
            "Epoch number: 1, Mini-batchs:  2000, loss: 1.3208\n",
            "Epoch number: 1, Mini-batchs:  3000, loss: 1.2714\n",
            "Epoch number: 1, Mini-batchs:  4000, loss: 2.1785\n",
            "Epoch number: 1, Mini-batchs:  5000, loss: 1.1704\n",
            "Epoch number: 1, Mini-batchs:  6000, loss: 1.4823\n",
            "LeNet accuracy from test dataset: 52 %\n",
            "Epoch number: 2, Mini-batchs:  1000, loss: 0.9459\n",
            "Epoch number: 2, Mini-batchs:  2000, loss: 1.5930\n",
            "Epoch number: 2, Mini-batchs:  3000, loss: 1.2078\n",
            "Epoch number: 2, Mini-batchs:  4000, loss: 1.0018\n",
            "Epoch number: 2, Mini-batchs:  5000, loss: 0.4591\n",
            "Epoch number: 2, Mini-batchs:  6000, loss: 1.9008\n",
            "LeNet accuracy from test dataset: 55 %\n",
            "Epoch number: 3, Mini-batchs:  1000, loss: 0.7228\n",
            "Epoch number: 3, Mini-batchs:  2000, loss: 0.9025\n",
            "Epoch number: 3, Mini-batchs:  3000, loss: 1.4619\n",
            "Epoch number: 3, Mini-batchs:  4000, loss: 1.4504\n",
            "Epoch number: 3, Mini-batchs:  5000, loss: 1.2936\n",
            "Epoch number: 3, Mini-batchs:  6000, loss: 1.3473\n",
            "LeNet accuracy from test dataset: 55 %\n",
            "Epoch number: 4, Mini-batchs:  1000, loss: 1.3717\n",
            "Epoch number: 4, Mini-batchs:  2000, loss: 1.4915\n",
            "Epoch number: 4, Mini-batchs:  3000, loss: 1.1663\n",
            "Epoch number: 4, Mini-batchs:  4000, loss: 1.4676\n",
            "Epoch number: 4, Mini-batchs:  5000, loss: 1.0225\n",
            "Epoch number: 4, Mini-batchs:  6000, loss: 1.6420\n",
            "LeNet accuracy from test dataset: 56 %\n",
            "Epoch number: 5, Mini-batchs:  1000, loss: 0.8065\n",
            "Epoch number: 5, Mini-batchs:  2000, loss: 1.6339\n",
            "Epoch number: 5, Mini-batchs:  3000, loss: 1.3581\n",
            "Epoch number: 5, Mini-batchs:  4000, loss: 1.5681\n",
            "Epoch number: 5, Mini-batchs:  5000, loss: 0.8642\n",
            "Epoch number: 5, Mini-batchs:  6000, loss: 1.1454\n",
            "LeNet accuracy from test dataset: 53 %\n",
            "Epoch number: 6, Mini-batchs:  1000, loss: 1.2514\n",
            "Epoch number: 6, Mini-batchs:  2000, loss: 1.1014\n",
            "Epoch number: 6, Mini-batchs:  3000, loss: 1.1274\n",
            "Epoch number: 6, Mini-batchs:  4000, loss: 1.3572\n",
            "Epoch number: 6, Mini-batchs:  5000, loss: 1.4951\n",
            "Epoch number: 6, Mini-batchs:  6000, loss: 0.7625\n",
            "LeNet accuracy from test dataset: 54 %\n",
            "Epoch number: 7, Mini-batchs:  1000, loss: 1.7679\n",
            "Epoch number: 7, Mini-batchs:  2000, loss: 0.8298\n",
            "Epoch number: 7, Mini-batchs:  3000, loss: 1.6722\n",
            "Epoch number: 7, Mini-batchs:  4000, loss: 1.2346\n",
            "Epoch number: 7, Mini-batchs:  5000, loss: 2.7633\n",
            "Epoch number: 7, Mini-batchs:  6000, loss: 0.9198\n",
            "LeNet accuracy from test dataset: 52 %\n",
            "Epoch number: 8, Mini-batchs:  1000, loss: 1.2069\n",
            "Epoch number: 8, Mini-batchs:  2000, loss: 1.7683\n",
            "Epoch number: 8, Mini-batchs:  3000, loss: 0.8042\n",
            "Epoch number: 8, Mini-batchs:  4000, loss: 0.7483\n",
            "Epoch number: 8, Mini-batchs:  5000, loss: 1.6464\n",
            "Epoch number: 8, Mini-batchs:  6000, loss: 0.8359\n",
            "LeNet accuracy from test dataset: 55 %\n",
            "Epoch number: 9, Mini-batchs:  1000, loss: 0.8814\n",
            "Epoch number: 9, Mini-batchs:  2000, loss: 1.4090\n",
            "Epoch number: 9, Mini-batchs:  3000, loss: 2.3641\n",
            "Epoch number: 9, Mini-batchs:  4000, loss: 1.1631\n",
            "Epoch number: 9, Mini-batchs:  5000, loss: 1.5460\n",
            "Epoch number: 9, Mini-batchs:  6000, loss: 2.0783\n",
            "LeNet accuracy from test dataset: 54 %\n",
            "Epoch number: 10, Mini-batchs:  1000, loss: 1.3765\n",
            "Epoch number: 10, Mini-batchs:  2000, loss: 1.3499\n",
            "Epoch number: 10, Mini-batchs:  3000, loss: 1.5999\n",
            "Epoch number: 10, Mini-batchs:  4000, loss: 0.5260\n",
            "Epoch number: 10, Mini-batchs:  5000, loss: 1.1632\n",
            "Epoch number: 10, Mini-batchs:  6000, loss: 1.2824\n",
            "LeNet accuracy from test dataset: 53 %\n"
          ],
          "name": "stdout"
        }
      ]
    },
    {
      "cell_type": "code",
      "metadata": {
        "id": "Rd-MEmcy2nvn"
      },
      "source": [
        "model_path = './cifar_model.pth'\n",
        "torch.save(leNet.state_dict(), model_path)"
      ],
      "execution_count": null,
      "outputs": []
    },
    {
      "cell_type": "code",
      "metadata": {
        "colab": {
          "base_uri": "https://localhost:8080/",
          "height": 172
        },
        "id": "YVWFHRF04mYg",
        "outputId": "10b97c6b-4f3c-4786-c396-8e5c70f9b7a8"
      },
      "source": [
        "# test LeNet\n",
        "\n",
        "# define a function that displays an image\n",
        "def imageshow(image):\n",
        "    # un-normalize the image\n",
        "    image = image/2 + 0.5     \n",
        "    npimage = image.numpy()\n",
        "    plt.imshow(np.transpose(npimage, (1, 2, 0)))\n",
        "    plt.show()\n",
        "\n",
        "# load test dataset images\n",
        "d_iter = iter(test_loader)\n",
        "im, labels = d_iter.next()\n",
        "\n",
        "# print images and ground truth\n",
        "imageshow(torchvision.utils.make_grid(im[:4]))\n",
        "print('Label: ', '   '.join('%5s' % classes[labels[j]] for j in range(4)))\n",
        "\n",
        "# load model\n",
        "lenet_cached = LeNet()\n",
        "lenet_cached.load_state_dict(torch.load(model_path))\n",
        "# model inference\n",
        "output = lenet_cached(im)\n",
        "\n",
        "# print predictions\n",
        "_, pred = torch.max(output, 1)\n",
        "\n",
        "print('Pred: ', '    '.join('%5s' % classes[pred[j]] for j in range(4)))"
      ],
      "execution_count": null,
      "outputs": [
        {
          "output_type": "display_data",
          "data": {
            "image/png": "[encoded data removed]",
            "text/plain": [
              "<Figure size 432x288 with 1 Axes>"
            ]
          },
          "metadata": {
            "tags": [],
            "needs_background": "light"
          }
        },
        {
          "output_type": "stream",
          "text": [
            "Label:  truck    ship    frog     cat\n",
            "Pred:  horse     ship     frog      cat\n"
          ],
          "name": "stdout"
        }
      ]
    },
    {
      "cell_type": "code",
      "metadata": {
        "colab": {
          "base_uri": "https://localhost:8080/"
        },
        "id": "0u6T4qpV6MKQ",
        "outputId": "a65c47ef-a61b-43cd-9eba-03e4f656abb9"
      },
      "source": [
        "correct = 0\n",
        "counter = 0\n",
        "with torch.no_grad():\n",
        "    for idx, (x, labels) in enumerate(test_loader):\n",
        "        output = lenet_cached(x)\n",
        "        _, pred = torch.max(output.data, 1)\n",
        "        counter += labels.size(0)\n",
        "        correct += (pred == labels).sum().item()\n",
        "print('Model accuracy from test dataset: %d %%' % (100 * correct / counter))"
      ],
      "execution_count": null,
      "outputs": [
        {
          "output_type": "stream",
          "text": [
            "Model accuracy from test dataset: 57 %\n"
          ],
          "name": "stdout"
        }
      ]
    },
    {
      "cell_type": "code",
      "metadata": {
        "colab": {
          "base_uri": "https://localhost:8080/"
        },
        "id": "5U6Ysi9k6gbt",
        "outputId": "4cdadd29-f42c-41a5-f704-8933166a0e43"
      },
      "source": [
        "class_correct = list(0. for i in range(10))\n",
        "class_counter = list(0. for i in range(10))\n",
        "\n",
        "with torch.no_grad():\n",
        "    for idx, (x, labels) in enumerate(test_loader):\n",
        "        output = lenet_cached(x)\n",
        "        _, pred = torch.max(output, 1)\n",
        "        c = (pred == labels).squeeze() # shape batch_size 10000\n",
        "        for i in range(10000):\n",
        "            labels_current = labels[i]\n",
        "            class_correct[labels_current] += c[i].item()\n",
        "            class_counter[labels_current] += 1\n",
        "            \n",
        "for i in range(10):\n",
        "    print('Model accuracy for class %5s : %2d %%' % (\n",
        "        classes[i], 100 * class_correct[i] / class_counter[i]))"
      ],
      "execution_count": null,
      "outputs": [
        {
          "output_type": "stream",
          "text": [
            "Model accuracy for class plane : 61 %\n",
            "Model accuracy for class   car : 66 %\n",
            "Model accuracy for class  bird : 66 %\n",
            "Model accuracy for class   cat : 29 %\n",
            "Model accuracy for class  deer : 32 %\n",
            "Model accuracy for class   dog : 55 %\n",
            "Model accuracy for class  frog : 65 %\n",
            "Model accuracy for class horse : 63 %\n",
            "Model accuracy for class  ship : 75 %\n",
            "Model accuracy for class truck : 57 %\n"
          ],
          "name": "stdout"
        }
      ]
    },
    {
      "cell_type": "code",
      "metadata": {
        "id": "A5eHv_mmBqV3"
      },
      "source": [
        ""
      ],
      "execution_count": null,
      "outputs": []
    }
  ]
}