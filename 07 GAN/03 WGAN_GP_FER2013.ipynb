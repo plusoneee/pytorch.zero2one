{
  "nbformat": 4,
  "nbformat_minor": 0,
  "metadata": {
    "colab": {
      "name": "Copy of WGAN-GP w/ FER2013.ipynb",
      "provenance": [],
      "collapsed_sections": []
    },
    "kernelspec": {
      "name": "python3",
      "display_name": "Python 3"
    },
    "language_info": {
      "name": "python"
    },
    "accelerator": "GPU"
  },
  "cells": [
    {
      "cell_type": "markdown",
      "metadata": {
        "id": "dkyMUB4yiKiW"
      },
      "source": [
        "# WGAN-GP "
      ]
    },
    {
      "cell_type": "markdown",
      "metadata": {
        "id": "xhO1Ibp7iHps"
      },
      "source": [
        "# Import"
      ]
    },
    {
      "cell_type": "code",
      "metadata": {
        "id": "xPV4LkdghUwZ"
      },
      "source": [
        "import os\n",
        "import torch\n",
        "import torch.nn as nn\n",
        "import torch.optim as optim\n",
        "import torchvision\n",
        "import torchvision.datasets as datasets\n",
        "import torchvision.transforms as transforms\n",
        "from torch.utils.data import DataLoader, Dataset\n",
        "from torch.utils.tensorboard import SummaryWriter\n",
        "import pandas as pd\n",
        "from skimage import io\n",
        "import matplotlib.pyplot as plt"
      ],
      "execution_count": null,
      "outputs": []
    },
    {
      "cell_type": "markdown",
      "metadata": {
        "id": "JE8NxPa2hjKu"
      },
      "source": [
        "## WGAN\n",
        "* Generator\n",
        "* Discriminator"
      ]
    },
    {
      "cell_type": "markdown",
      "metadata": {
        "id": "RuHxFk1Yhvfi"
      },
      "source": [
        "### Generator"
      ]
    },
    {
      "cell_type": "code",
      "metadata": {
        "id": "yJrnz2yhhbsx"
      },
      "source": [
        "class Generator(nn.Module):\n",
        "    def __init__(self, channels_noise, channels_img, features_g):\n",
        "        super(Generator, self).__init__()\n",
        "        self.net = nn.Sequential(\n",
        "            # Input: N x channels_noise x 1 x 1\n",
        "            self._block(channels_noise, features_g * 16, 4, 1, 0),  # img: 4x4\n",
        "            self._block(features_g * 16, features_g * 8, 4, 2, 1),  # img: 8x8\n",
        "            self._block(features_g * 8, features_g * 4, 4, 2, 1),  # img: 16x16\n",
        "            self._block(features_g * 4, features_g * 2, 4, 2, 1),  # img: 32x32\n",
        "            nn.ConvTranspose2d(\n",
        "                features_g * 2, channels_img, kernel_size=4, stride=2, padding=1\n",
        "            ),\n",
        "            # Output: N x channels_img x 64 x 64\n",
        "            nn.Tanh(),\n",
        "        )\n",
        "\n",
        "    def _block(self, in_channels, out_channels, kernel_size, stride, padding):\n",
        "        return nn.Sequential(\n",
        "            nn.ConvTranspose2d(\n",
        "                in_channels,\n",
        "                out_channels,\n",
        "                kernel_size,\n",
        "                stride,\n",
        "                padding,\n",
        "                bias=False,\n",
        "            ),\n",
        "            nn.BatchNorm2d(out_channels),\n",
        "            nn.ReLU(),\n",
        "        )\n",
        "\n",
        "    def forward(self, x):\n",
        "        return self.net(x)"
      ],
      "execution_count": null,
      "outputs": []
    },
    {
      "cell_type": "markdown",
      "metadata": {
        "id": "R4h6twIehyqI"
      },
      "source": [
        "## Discriminator"
      ]
    },
    {
      "cell_type": "code",
      "metadata": {
        "id": "WcPjiSjGheML"
      },
      "source": [
        "class Discriminator(nn.Module):\n",
        "    def __init__(self, channels_img, features_d):\n",
        "        super(Discriminator, self).__init__()\n",
        "        self.disc = nn.Sequential(\n",
        "            # input: N x channels_img x 64 x 64\n",
        "            nn.Conv2d(\n",
        "                channels_img, features_d, kernel_size=4, stride=2, padding=1\n",
        "            ),\n",
        "            nn.LeakyReLU(0.2),\n",
        "            # _block(in_channels, out_channels, kernel_size, stride, padding)\n",
        "            self._block(features_d, features_d * 2, 4, 2, 1),\n",
        "            self._block(features_d * 2, features_d * 4, 4, 2, 1),\n",
        "            self._block(features_d * 4, features_d * 8, 4, 2, 1),\n",
        "            # After all _block img output is 4x4 (Conv2d below makes into 1x1)\n",
        "            nn.Conv2d(features_d * 8, 1, kernel_size=4, stride=2, padding=0),\n",
        "        )\n",
        "\n",
        "    def _block(self, in_channels, out_channels, kernel_size, stride, padding):\n",
        "        return nn.Sequential(\n",
        "            nn.Conv2d(\n",
        "                in_channels,\n",
        "                out_channels,\n",
        "                kernel_size,\n",
        "                stride,\n",
        "                padding,\n",
        "                bias=False,\n",
        "            ),\n",
        "            nn.InstanceNorm2d(out_channels, affine=True),\n",
        "            nn.LeakyReLU(0.2),\n",
        "        )\n",
        "\n",
        "    def forward(self, x):\n",
        "        return self.disc(x)"
      ],
      "execution_count": null,
      "outputs": []
    },
    {
      "cell_type": "markdown",
      "metadata": {
        "id": "3xYJPQ_Hh2Nv"
      },
      "source": [
        "### Initialize Weights\n",
        "* Initializes weights according to the DCGAN paper"
      ]
    },
    {
      "cell_type": "code",
      "metadata": {
        "id": "ebROl8U6hgcg"
      },
      "source": [
        "def initialize_weights(model):\n",
        "    for m in model.modules():\n",
        "        if isinstance(m, (nn.Conv2d, nn.ConvTranspose2d, nn.BatchNorm2d)):\n",
        "            nn.init.normal_(m.weight.data, 0.0, 0.02)"
      ],
      "execution_count": null,
      "outputs": []
    },
    {
      "cell_type": "markdown",
      "metadata": {
        "id": "oVmO9OhNhp0w"
      },
      "source": [
        "## Gradient Penalty"
      ]
    },
    {
      "cell_type": "code",
      "metadata": {
        "id": "hKYnuokbhiAB"
      },
      "source": [
        "def gradient_penalty(critic, real, fake, device=\"cpu\"):\n",
        "    BATCH_SIZE, C, H, W = real.shape\n",
        "    alpha = torch.rand((BATCH_SIZE, 1, 1, 1)).repeat(1, C, H, W).to(device)\n",
        "    interpolated_images = real * alpha + fake * (1 - alpha)\n",
        "\n",
        "    # Calculate critic scores\n",
        "    mixed_scores = critic(interpolated_images)\n",
        "\n",
        "    # compute the gradient of the mixed scores \n",
        "    # with respect to the interpolated_images\n",
        "    gradient = torch.autograd.grad(\n",
        "        inputs=interpolated_images,\n",
        "        outputs=mixed_scores,\n",
        "        grad_outputs=torch.ones_like(mixed_scores),\n",
        "        create_graph=True,\n",
        "        retain_graph=True,\n",
        "    )\n",
        "\n",
        "    # take first element\n",
        "    gradient = gradient[0]\n",
        "    # flatten it \n",
        "    gradient = gradient.view(gradient.shape[0], -1)\n",
        "    # we take the L2 norm\n",
        "    gradient_norm = gradient.norm(2, dim=1)\n",
        "    # from paper\n",
        "    gradient_penalty = torch.mean((gradient_norm - 1) ** 2)\n",
        "    return gradient_penalty"
      ],
      "execution_count": null,
      "outputs": []
    },
    {
      "cell_type": "markdown",
      "metadata": {
        "id": "bYkZ5PR4iRgd"
      },
      "source": [
        "## Dataset Prepare"
      ]
    },
    {
      "cell_type": "code",
      "metadata": {
        "id": "GOTxItIjnTnU"
      },
      "source": [
        "# unzip FER2013 dataset (in google drive)\n",
        "!unzip '/content/drive/MyDrive/Datasets/FER2013/archive.zip'"
      ],
      "execution_count": null,
      "outputs": []
    },
    {
      "cell_type": "markdown",
      "metadata": {
        "id": "KhwxiCCkifFf"
      },
      "source": [
        "### 1. Transforms"
      ]
    },
    {
      "cell_type": "code",
      "metadata": {
        "id": "JR81BRvMihfl"
      },
      "source": [
        "IMAGE_SIZE = 64\n",
        "transform = transforms.Compose(\n",
        "    [\n",
        "        transforms.ToPILImage(),\n",
        "        transforms.Resize(IMAGE_SIZE),\n",
        "        transforms.ToTensor(),\n",
        "    ]\n",
        ")"
      ],
      "execution_count": null,
      "outputs": []
    },
    {
      "cell_type": "markdown",
      "metadata": {
        "id": "4AvatT7Gir5A"
      },
      "source": [
        "### 2. FER2013 Dataset & DataLoader"
      ]
    },
    {
      "cell_type": "code",
      "metadata": {
        "id": "-7hQDyi0l1ni"
      },
      "source": [
        "class FER2013(Dataset):\n",
        "    def __init__(self, root_dir, csv_file, transform=None):\n",
        "        self._root = root_dir\n",
        "        self._transform = transform\n",
        "        self._annotaions = pd.read_csv(csv_file)\n",
        "\n",
        "    def __len__(self):\n",
        "        return len(self._annotaions)\n",
        "    \n",
        "    def __getitem__(self, index):\n",
        "        \n",
        "        # Combined image path /root_dir/<expression>/image_filename.jpg\n",
        "        image_path = os.path.join(self._root, \n",
        "                                  self._annotaions['expression'][index], \n",
        "                                  self._annotaions['image'][index])\n",
        "        image = io.imread(image_path)\n",
        "        # get label by index\n",
        "        label = int(self._annotaions['label'][index])\n",
        "        # label value to tensor\n",
        "        label = torch.tensor(label)\n",
        "        # transform\n",
        "        if self._transform:\n",
        "            image = self._transform(image)\n",
        "        return (image, label)"
      ],
      "execution_count": null,
      "outputs": []
    },
    {
      "cell_type": "code",
      "metadata": {
        "id": "eNjYtvsjiVq5"
      },
      "source": [
        "BATCH_SIZE = 64\n",
        "ROOT_PATH = '/content/drive/MyDrive/Datasets/FER2013/'\n",
        "\n",
        "# create dataset\n",
        "fer2013_dataset = FER2013(\n",
        "    csv_file = ROOT_PATH + 'fer2013-train-annotaions.csv', \n",
        "    root_dir ='/content/train',\n",
        "    transform = transform\n",
        ")\n",
        "\n",
        "# create fer2013 dataloader\n",
        "loader = DataLoader(\n",
        "    fer2013_dataset,\n",
        "    batch_size=BATCH_SIZE,\n",
        "    shuffle=True,\n",
        ")"
      ],
      "execution_count": null,
      "outputs": []
    },
    {
      "cell_type": "code",
      "metadata": {
        "colab": {
          "base_uri": "https://localhost:8080/",
          "height": 171
        },
        "id": "x1xaEkWmm9Sm",
        "outputId": "d21b14e8-d436-4fca-a3d3-4ea935383f38"
      },
      "source": [
        "# show sample images.\n",
        "for (batch_images, batch_labels) in DataLoader(dataset = fer2013_dataset, batch_size = 4, shuffle = False):\n",
        "    print('Image Shape:', batch_images.shape) # shape (B, C, H, W)\n",
        "    print('Label Shape:', batch_labels.shape) \n",
        "\n",
        "    grid = torchvision.utils.make_grid(batch_images)\n",
        "    plt.imshow(grid.numpy().transpose((1, 2, 0)))\n",
        "\n",
        "    break"
      ],
      "execution_count": null,
      "outputs": [
        {
          "output_type": "stream",
          "name": "stdout",
          "text": [
            "Image Shape: torch.Size([4, 1, 64, 64])\n",
            "Label Shape: torch.Size([4])\n"
          ]
        },
        {
          "output_type": "display_data",
          "data": {
            "image/png": "[encoded data removed]",
            "text/plain": [
              "<Figure size 432x288 with 1 Axes>"
            ]
          },
          "metadata": {
            "needs_background": "light"
          }
        }
      ]
    },
    {
      "cell_type": "markdown",
      "metadata": {
        "id": "TNvyd56kiOcg"
      },
      "source": [
        "## Training Models"
      ]
    },
    {
      "cell_type": "markdown",
      "metadata": {
        "id": "ntEe-uZHjE7j"
      },
      "source": [
        "### Models\n",
        "\n",
        "* Initialize G and D, note: discriminator should be called critic,\n",
        "* According to WGAN paper (since it no longer outputs between [0, 1])"
      ]
    },
    {
      "cell_type": "code",
      "metadata": {
        "id": "UDpEajOchtRE"
      },
      "source": [
        "# Defined by WGAN paper\n",
        "Z_DIM = 100\n",
        "CHANNELS_IMG = 1\n",
        "FEATURES_CRITIC = 16\n",
        "FEATURES_GEN = 16\n",
        "\n",
        "device = \"cuda\" if torch.cuda.is_available() else \"cpu\"\n",
        "gen = Generator(Z_DIM, CHANNELS_IMG, FEATURES_GEN).to(device)\n",
        "critic = Discriminator(CHANNELS_IMG, FEATURES_CRITIC).to(device)\n",
        "initialize_weights(gen)\n",
        "initialize_weights(critic)"
      ],
      "execution_count": null,
      "outputs": []
    },
    {
      "cell_type": "markdown",
      "metadata": {
        "id": "fQLYLymZjj6I"
      },
      "source": [
        "### Optimizer"
      ]
    },
    {
      "cell_type": "code",
      "metadata": {
        "id": "O2kU0pgGi97d"
      },
      "source": [
        "# initializate optimizer\n",
        "# beta1 = 0. beta2 =0.9 by WGAN-GP paper\n",
        "LEARNING_RATE = 1e-4\n",
        "opt_gen = optim.Adam(gen.parameters(), lr=LEARNING_RATE, betas=(0.0, 0.9))\n",
        "opt_critic = optim.Adam(critic.parameters(), lr=LEARNING_RATE, betas=(0.0, 0.9))"
      ],
      "execution_count": null,
      "outputs": []
    },
    {
      "cell_type": "markdown",
      "metadata": {
        "id": "oixdPNJMjs88"
      },
      "source": [
        "### Tensorboard"
      ]
    },
    {
      "cell_type": "code",
      "metadata": {
        "id": "6LI7BQPXjmmt"
      },
      "source": [
        "# for tensorboard plotting\n",
        "ROOT_PATH = '/content/drive/MyDrive/Datasets/FER2013/'\n",
        "\n",
        "fixed_noise = torch.randn(32, Z_DIM, 1, 1).to(device)\n",
        "writer_real = SummaryWriter(f\"{ROOT_PATH}logs/GAN_MNIST/real\")\n",
        "writer_fake = SummaryWriter(f\"{ROOT_PATH}logs/GAN_MNIST/fake\")\n",
        "step = 0"
      ],
      "execution_count": null,
      "outputs": []
    },
    {
      "cell_type": "markdown",
      "metadata": {
        "id": "Ehq2syBWj3lB"
      },
      "source": [
        "### Training Processing"
      ]
    },
    {
      "cell_type": "code",
      "metadata": {
        "colab": {
          "base_uri": "https://localhost:8080/"
        },
        "id": "FCvF3KVSj7Iw",
        "outputId": "dad239b4-d4c1-416e-8287-fefb477871f4"
      },
      "source": [
        "# mode\n",
        "gen.train()\n",
        "critic.train()"
      ],
      "execution_count": null,
      "outputs": [
        {
          "output_type": "execute_result",
          "data": {
            "text/plain": [
              "Discriminator(\n",
              "  (disc): Sequential(\n",
              "    (0): Conv2d(1, 16, kernel_size=(4, 4), stride=(2, 2), padding=(1, 1))\n",
              "    (1): LeakyReLU(negative_slope=0.2)\n",
              "    (2): Sequential(\n",
              "      (0): Conv2d(16, 32, kernel_size=(4, 4), stride=(2, 2), padding=(1, 1), bias=False)\n",
              "      (1): InstanceNorm2d(32, eps=1e-05, momentum=0.1, affine=True, track_running_stats=False)\n",
              "      (2): LeakyReLU(negative_slope=0.2)\n",
              "    )\n",
              "    (3): Sequential(\n",
              "      (0): Conv2d(32, 64, kernel_size=(4, 4), stride=(2, 2), padding=(1, 1), bias=False)\n",
              "      (1): InstanceNorm2d(64, eps=1e-05, momentum=0.1, affine=True, track_running_stats=False)\n",
              "      (2): LeakyReLU(negative_slope=0.2)\n",
              "    )\n",
              "    (4): Sequential(\n",
              "      (0): Conv2d(64, 128, kernel_size=(4, 4), stride=(2, 2), padding=(1, 1), bias=False)\n",
              "      (1): InstanceNorm2d(128, eps=1e-05, momentum=0.1, affine=True, track_running_stats=False)\n",
              "      (2): LeakyReLU(negative_slope=0.2)\n",
              "    )\n",
              "    (5): Conv2d(128, 1, kernel_size=(4, 4), stride=(2, 2))\n",
              "  )\n",
              ")"
            ]
          },
          "metadata": {},
          "execution_count": 38
        }
      ]
    },
    {
      "cell_type": "code",
      "metadata": {
        "colab": {
          "base_uri": "https://localhost:8080/"
        },
        "id": "BcPXkML1j8Wn",
        "outputId": "75cb8947-f40c-4ed7-c00c-5b58ced2745a"
      },
      "source": [
        "NUM_EPOCHS = 100\n",
        "# defined by paper\n",
        "CRITIC_ITERATIONS = 5\n",
        "LAMBDA_GP = 10\n",
        "\n",
        "for epoch in range(NUM_EPOCHS):\n",
        "    for batch_idx, (real, _) in enumerate(loader):\n",
        "        real = real.to(device)\n",
        "        cur_batch_size = real.shape[0]\n",
        "\n",
        "        # Train Critic: \n",
        "        # max E[critic(real)] - E[critic(fake)]\n",
        "        # equivalent to minimizing the negative of that\n",
        "        # we need to training critic for more\n",
        "        for _ in range(CRITIC_ITERATIONS): \n",
        "            noise = torch.randn(cur_batch_size, Z_DIM, 1, 1).to(device)\n",
        "            fake = gen(noise)\n",
        "            critic_real = critic(real).reshape(-1) # reshape(-1) to flat\n",
        "            critic_fake = critic(fake).reshape(-1) # reshape(-1) to flat\n",
        "            gp = gradient_penalty(critic, real, fake, device=device)\n",
        "            \n",
        "            loss_critic = (\n",
        "                -(torch.mean(critic_real) - torch.mean(critic_fake)) + LAMBDA_GP * gp\n",
        "            )\n",
        "            critic.zero_grad()\n",
        "            loss_critic.backward(retain_graph=True)\n",
        "            opt_critic.step()\n",
        "\n",
        "        # Train Generator: \n",
        "        # max E[critic(gen_fake)] <-> min -E[critic(gen_fake)]\n",
        "        gen_fake = critic(fake).reshape(-1)\n",
        "        loss_gen = -torch.mean(gen_fake)\n",
        "        gen.zero_grad()\n",
        "        loss_gen.backward()\n",
        "        opt_gen.step()\n",
        "\n",
        "        # Print losses occasionally and print to tensorboard\n",
        "        if batch_idx % 100 == 0 and batch_idx > 0:\n",
        "            print(\n",
        "                f\"Epoch [{epoch}/{NUM_EPOCHS}] Batch {batch_idx}/{len(loader)} \\\n",
        "                  Loss D: {loss_critic:.4f}, loss G: {loss_gen:.4f}\"\n",
        "            )\n",
        "\n",
        "            with torch.no_grad():\n",
        "                fake = gen(fixed_noise)\n",
        "                # take out (up to) 32 examples\n",
        "                img_grid_real = torchvision.utils.make_grid(real[:32], normalize=True)\n",
        "                img_grid_fake = torchvision.utils.make_grid(fake[:32], normalize=True)\n",
        "                # add image to tensorboard\n",
        "                writer_real.add_image(\"Real\", img_grid_real, global_step=step)\n",
        "                writer_fake.add_image(\"Fake\", img_grid_fake, global_step=step)\n",
        "\n",
        "            step += 1"
      ],
      "execution_count": null,
      "outputs": [
        {
          "output_type": "stream",
          "name": "stdout",
          "text": [
            "Epoch [0/100] Batch 100/449                   Loss D: -30.6725, loss G: 32.6298\n",
            "Epoch [0/100] Batch 200/449                   Loss D: -24.7728, loss G: 35.4939\n",
            "Epoch [0/100] Batch 300/449                   Loss D: -15.3723, loss G: 36.4262\n",
            "Epoch [0/100] Batch 400/449                   Loss D: -10.1893, loss G: 31.4238\n",
            "Epoch [1/100] Batch 100/449                   Loss D: -6.5450, loss G: 32.5598\n",
            "Epoch [1/100] Batch 200/449                   Loss D: -4.6448, loss G: 29.0546\n",
            "Epoch [1/100] Batch 300/449                   Loss D: -4.1962, loss G: 28.9264\n",
            "Epoch [1/100] Batch 400/449                   Loss D: -3.6982, loss G: 28.0181\n",
            "Epoch [2/100] Batch 100/449                   Loss D: -2.6273, loss G: 27.9390\n",
            "Epoch [2/100] Batch 200/449                   Loss D: -2.4433, loss G: 23.1258\n",
            "Epoch [2/100] Batch 300/449                   Loss D: -2.4411, loss G: 24.7605\n",
            "Epoch [2/100] Batch 400/449                   Loss D: -2.2116, loss G: 24.7424\n",
            "Epoch [3/100] Batch 100/449                   Loss D: -1.7763, loss G: 24.5264\n",
            "Epoch [3/100] Batch 200/449                   Loss D: -1.9560, loss G: 22.8973\n",
            "Epoch [3/100] Batch 300/449                   Loss D: -1.9916, loss G: 24.9040\n",
            "Epoch [3/100] Batch 400/449                   Loss D: -2.6647, loss G: 23.4177\n",
            "Epoch [4/100] Batch 100/449                   Loss D: -2.8521, loss G: 23.3806\n",
            "Epoch [4/100] Batch 200/449                   Loss D: -1.5977, loss G: 23.3692\n",
            "Epoch [4/100] Batch 300/449                   Loss D: -1.9508, loss G: 22.8956\n",
            "Epoch [4/100] Batch 400/449                   Loss D: -2.3195, loss G: 23.6466\n",
            "Epoch [5/100] Batch 100/449                   Loss D: -2.0851, loss G: 23.6969\n",
            "Epoch [5/100] Batch 200/449                   Loss D: -2.1987, loss G: 21.8463\n",
            "Epoch [5/100] Batch 300/449                   Loss D: -1.3764, loss G: 25.4291\n",
            "Epoch [5/100] Batch 400/449                   Loss D: -1.7885, loss G: 24.8546\n",
            "Epoch [6/100] Batch 100/449                   Loss D: -1.7218, loss G: 22.7029\n",
            "Epoch [6/100] Batch 200/449                   Loss D: -2.2828, loss G: 25.3029\n",
            "Epoch [6/100] Batch 300/449                   Loss D: -2.0906, loss G: 21.2492\n",
            "Epoch [6/100] Batch 400/449                   Loss D: -1.9790, loss G: 24.8773\n",
            "Epoch [7/100] Batch 100/449                   Loss D: -2.5340, loss G: 20.6377\n",
            "Epoch [7/100] Batch 200/449                   Loss D: -1.7643, loss G: 23.1302\n",
            "Epoch [7/100] Batch 300/449                   Loss D: -2.1811, loss G: 24.4614\n",
            "Epoch [7/100] Batch 400/449                   Loss D: -2.2694, loss G: 23.4268\n",
            "Epoch [8/100] Batch 100/449                   Loss D: -1.9741, loss G: 24.3007\n",
            "Epoch [8/100] Batch 200/449                   Loss D: -2.2120, loss G: 22.7876\n",
            "Epoch [8/100] Batch 300/449                   Loss D: -1.8534, loss G: 21.8079\n",
            "Epoch [8/100] Batch 400/449                   Loss D: -1.8524, loss G: 25.6799\n",
            "Epoch [9/100] Batch 100/449                   Loss D: -1.6040, loss G: 22.7897\n",
            "Epoch [9/100] Batch 200/449                   Loss D: -1.7042, loss G: 22.4734\n",
            "Epoch [9/100] Batch 300/449                   Loss D: -1.3487, loss G: 21.9172\n",
            "Epoch [9/100] Batch 400/449                   Loss D: -1.4159, loss G: 22.6303\n",
            "Epoch [10/100] Batch 100/449                   Loss D: -1.8868, loss G: 23.4640\n",
            "Epoch [10/100] Batch 200/449                   Loss D: -1.2813, loss G: 23.2962\n",
            "Epoch [10/100] Batch 300/449                   Loss D: -1.4334, loss G: 21.9657\n",
            "Epoch [10/100] Batch 400/449                   Loss D: -1.9433, loss G: 21.3359\n",
            "Epoch [11/100] Batch 100/449                   Loss D: -1.1873, loss G: 22.8773\n",
            "Epoch [11/100] Batch 200/449                   Loss D: -1.3471, loss G: 20.6757\n",
            "Epoch [11/100] Batch 300/449                   Loss D: -1.3712, loss G: 21.6676\n",
            "Epoch [11/100] Batch 400/449                   Loss D: -1.4180, loss G: 22.9479\n",
            "Epoch [12/100] Batch 100/449                   Loss D: -1.4462, loss G: 20.9489\n",
            "Epoch [12/100] Batch 200/449                   Loss D: -1.2289, loss G: 21.2001\n",
            "Epoch [12/100] Batch 300/449                   Loss D: -1.2482, loss G: 20.6380\n",
            "Epoch [12/100] Batch 400/449                   Loss D: -1.2885, loss G: 22.1126\n",
            "Epoch [13/100] Batch 100/449                   Loss D: -1.2381, loss G: 21.3227\n",
            "Epoch [13/100] Batch 200/449                   Loss D: -1.4922, loss G: 21.8289\n",
            "Epoch [13/100] Batch 300/449                   Loss D: -1.6697, loss G: 20.5036\n",
            "Epoch [13/100] Batch 400/449                   Loss D: -1.3743, loss G: 19.5420\n",
            "Epoch [14/100] Batch 100/449                   Loss D: -0.9869, loss G: 21.2553\n",
            "Epoch [14/100] Batch 200/449                   Loss D: -1.1396, loss G: 22.0696\n",
            "Epoch [14/100] Batch 300/449                   Loss D: -1.5988, loss G: 17.9411\n",
            "Epoch [14/100] Batch 400/449                   Loss D: -1.3098, loss G: 20.5654\n",
            "Epoch [15/100] Batch 100/449                   Loss D: -1.1360, loss G: 18.7826\n",
            "Epoch [15/100] Batch 200/449                   Loss D: -1.8656, loss G: 21.5603\n",
            "Epoch [15/100] Batch 300/449                   Loss D: -1.1711, loss G: 19.2290\n",
            "Epoch [15/100] Batch 400/449                   Loss D: -1.7785, loss G: 18.1215\n",
            "Epoch [16/100] Batch 100/449                   Loss D: -1.2632, loss G: 18.5721\n",
            "Epoch [16/100] Batch 200/449                   Loss D: -1.4732, loss G: 18.6714\n",
            "Epoch [16/100] Batch 300/449                   Loss D: -1.1484, loss G: 18.5900\n",
            "Epoch [16/100] Batch 400/449                   Loss D: -0.8744, loss G: 18.2566\n",
            "Epoch [17/100] Batch 100/449                   Loss D: -1.2173, loss G: 16.4054\n",
            "Epoch [17/100] Batch 200/449                   Loss D: -1.4839, loss G: 21.6854\n",
            "Epoch [17/100] Batch 300/449                   Loss D: -1.7904, loss G: 19.7901\n",
            "Epoch [17/100] Batch 400/449                   Loss D: -1.0907, loss G: 17.3863\n",
            "Epoch [18/100] Batch 100/449                   Loss D: -1.3297, loss G: 17.7372\n",
            "Epoch [18/100] Batch 200/449                   Loss D: -0.8237, loss G: 18.1397\n",
            "Epoch [18/100] Batch 300/449                   Loss D: -1.1108, loss G: 16.3184\n",
            "Epoch [18/100] Batch 400/449                   Loss D: -1.3386, loss G: 15.1880\n",
            "Epoch [19/100] Batch 100/449                   Loss D: -1.7323, loss G: 16.2065\n",
            "Epoch [19/100] Batch 200/449                   Loss D: -1.3119, loss G: 18.9082\n",
            "Epoch [19/100] Batch 300/449                   Loss D: -1.4264, loss G: 17.5527\n",
            "Epoch [19/100] Batch 400/449                   Loss D: -1.4857, loss G: 18.4329\n",
            "Epoch [20/100] Batch 100/449                   Loss D: -1.2877, loss G: 16.5630\n",
            "Epoch [20/100] Batch 200/449                   Loss D: -1.1413, loss G: 17.7323\n",
            "Epoch [20/100] Batch 300/449                   Loss D: -1.3958, loss G: 16.9553\n",
            "Epoch [20/100] Batch 400/449                   Loss D: -1.8278, loss G: 17.9593\n",
            "Epoch [21/100] Batch 100/449                   Loss D: -1.0866, loss G: 13.8676\n",
            "Epoch [21/100] Batch 200/449                   Loss D: -1.6335, loss G: 14.7125\n",
            "Epoch [21/100] Batch 300/449                   Loss D: -1.1592, loss G: 16.4192\n",
            "Epoch [21/100] Batch 400/449                   Loss D: -0.9537, loss G: 16.5254\n",
            "Epoch [22/100] Batch 100/449                   Loss D: -1.0981, loss G: 13.0515\n",
            "Epoch [22/100] Batch 200/449                   Loss D: -0.7306, loss G: 14.7563\n",
            "Epoch [22/100] Batch 300/449                   Loss D: -1.6899, loss G: 11.9469\n",
            "Epoch [22/100] Batch 400/449                   Loss D: -0.9930, loss G: 17.1350\n",
            "Epoch [23/100] Batch 100/449                   Loss D: -0.9259, loss G: 18.3770\n",
            "Epoch [23/100] Batch 200/449                   Loss D: -1.2711, loss G: 17.8064\n",
            "Epoch [23/100] Batch 300/449                   Loss D: -0.9529, loss G: 12.8498\n",
            "Epoch [23/100] Batch 400/449                   Loss D: -1.3057, loss G: 14.6353\n",
            "Epoch [24/100] Batch 100/449                   Loss D: -1.2219, loss G: 10.4671\n",
            "Epoch [24/100] Batch 200/449                   Loss D: -1.2654, loss G: 13.4592\n",
            "Epoch [24/100] Batch 300/449                   Loss D: -1.8006, loss G: 11.9738\n",
            "Epoch [24/100] Batch 400/449                   Loss D: -0.8539, loss G: 12.6260\n",
            "Epoch [25/100] Batch 100/449                   Loss D: -1.3422, loss G: 15.3362\n",
            "Epoch [25/100] Batch 200/449                   Loss D: -0.9647, loss G: 10.1199\n",
            "Epoch [25/100] Batch 300/449                   Loss D: -1.9136, loss G: 7.7413\n",
            "Epoch [25/100] Batch 400/449                   Loss D: -1.5141, loss G: 5.3552\n",
            "Epoch [26/100] Batch 100/449                   Loss D: -0.6500, loss G: 11.8164\n",
            "Epoch [26/100] Batch 200/449                   Loss D: -0.8235, loss G: 7.0238\n",
            "Epoch [26/100] Batch 300/449                   Loss D: -0.4874, loss G: 9.3435\n",
            "Epoch [26/100] Batch 400/449                   Loss D: -0.8184, loss G: 10.8114\n",
            "Epoch [27/100] Batch 100/449                   Loss D: -1.3645, loss G: 11.8357\n",
            "Epoch [27/100] Batch 200/449                   Loss D: -0.8384, loss G: 10.5222\n",
            "Epoch [27/100] Batch 300/449                   Loss D: -1.4007, loss G: 8.8172\n",
            "Epoch [27/100] Batch 400/449                   Loss D: -0.8953, loss G: 6.0744\n",
            "Epoch [28/100] Batch 100/449                   Loss D: -0.9592, loss G: 3.8691\n",
            "Epoch [28/100] Batch 200/449                   Loss D: -1.1248, loss G: 5.6064\n",
            "Epoch [28/100] Batch 300/449                   Loss D: -1.0786, loss G: 11.0631\n",
            "Epoch [28/100] Batch 400/449                   Loss D: -0.7606, loss G: 4.8584\n",
            "Epoch [29/100] Batch 100/449                   Loss D: -1.1486, loss G: 11.2736\n",
            "Epoch [29/100] Batch 200/449                   Loss D: -1.2042, loss G: 8.0959\n",
            "Epoch [29/100] Batch 300/449                   Loss D: -0.9427, loss G: 4.7071\n",
            "Epoch [29/100] Batch 400/449                   Loss D: -0.8255, loss G: 9.0204\n",
            "Epoch [30/100] Batch 100/449                   Loss D: -1.0657, loss G: 7.3270\n",
            "Epoch [30/100] Batch 200/449                   Loss D: -0.8161, loss G: 11.0639\n",
            "Epoch [30/100] Batch 300/449                   Loss D: -1.2255, loss G: 6.8707\n",
            "Epoch [30/100] Batch 400/449                   Loss D: -0.8576, loss G: 0.5010\n",
            "Epoch [31/100] Batch 100/449                   Loss D: -1.2237, loss G: 6.6598\n",
            "Epoch [31/100] Batch 200/449                   Loss D: -0.7842, loss G: 6.3002\n",
            "Epoch [31/100] Batch 300/449                   Loss D: -0.8931, loss G: 5.5001\n",
            "Epoch [31/100] Batch 400/449                   Loss D: -0.7445, loss G: 6.5776\n",
            "Epoch [32/100] Batch 100/449                   Loss D: -1.0591, loss G: 7.6177\n",
            "Epoch [32/100] Batch 200/449                   Loss D: -0.5448, loss G: -3.7757\n",
            "Epoch [32/100] Batch 300/449                   Loss D: -1.3001, loss G: 8.1171\n",
            "Epoch [32/100] Batch 400/449                   Loss D: -1.0849, loss G: 6.9551\n",
            "Epoch [33/100] Batch 100/449                   Loss D: -0.6207, loss G: -2.5528\n",
            "Epoch [33/100] Batch 200/449                   Loss D: -1.8576, loss G: 4.1678\n",
            "Epoch [33/100] Batch 300/449                   Loss D: -0.6716, loss G: 8.5020\n",
            "Epoch [33/100] Batch 400/449                   Loss D: -1.0305, loss G: 4.2225\n",
            "Epoch [34/100] Batch 100/449                   Loss D: -0.9053, loss G: -1.9394\n",
            "Epoch [34/100] Batch 200/449                   Loss D: -0.6435, loss G: -0.6816\n",
            "Epoch [34/100] Batch 300/449                   Loss D: -1.0726, loss G: -4.5050\n",
            "Epoch [34/100] Batch 400/449                   Loss D: -0.7783, loss G: -3.8123\n",
            "Epoch [35/100] Batch 100/449                   Loss D: -0.6783, loss G: -6.5862\n",
            "Epoch [35/100] Batch 200/449                   Loss D: -0.3875, loss G: -5.3223\n",
            "Epoch [35/100] Batch 300/449                   Loss D: -0.5248, loss G: -8.8828\n",
            "Epoch [35/100] Batch 400/449                   Loss D: -1.3179, loss G: -8.2708\n",
            "Epoch [36/100] Batch 100/449                   Loss D: -0.0077, loss G: -8.5797\n",
            "Epoch [36/100] Batch 200/449                   Loss D: -0.8392, loss G: 3.6278\n",
            "Epoch [36/100] Batch 300/449                   Loss D: -0.9804, loss G: -11.5082\n",
            "Epoch [36/100] Batch 400/449                   Loss D: -0.4351, loss G: -10.2338\n",
            "Epoch [37/100] Batch 100/449                   Loss D: -0.8735, loss G: -9.8845\n",
            "Epoch [37/100] Batch 200/449                   Loss D: -0.2835, loss G: -13.3440\n",
            "Epoch [37/100] Batch 300/449                   Loss D: -1.1354, loss G: -15.7708\n",
            "Epoch [37/100] Batch 400/449                   Loss D: -0.4058, loss G: -11.4398\n",
            "Epoch [38/100] Batch 100/449                   Loss D: -0.6841, loss G: 2.7652\n",
            "Epoch [38/100] Batch 200/449                   Loss D: -0.4148, loss G: -2.9165\n",
            "Epoch [38/100] Batch 300/449                   Loss D: 0.0824, loss G: -9.8836\n",
            "Epoch [38/100] Batch 400/449                   Loss D: -0.4029, loss G: -15.5062\n",
            "Epoch [39/100] Batch 100/449                   Loss D: -0.5098, loss G: -14.6321\n",
            "Epoch [39/100] Batch 200/449                   Loss D: 0.0886, loss G: -15.5788\n",
            "Epoch [39/100] Batch 300/449                   Loss D: -0.7941, loss G: -16.0314\n",
            "Epoch [39/100] Batch 400/449                   Loss D: -0.6432, loss G: -19.4798\n",
            "Epoch [40/100] Batch 100/449                   Loss D: -0.4586, loss G: -18.0852\n",
            "Epoch [40/100] Batch 200/449                   Loss D: -0.2510, loss G: -9.8033\n",
            "Epoch [40/100] Batch 300/449                   Loss D: -0.1342, loss G: -15.6237\n",
            "Epoch [40/100] Batch 400/449                   Loss D: -0.2191, loss G: -15.1729\n",
            "Epoch [41/100] Batch 100/449                   Loss D: -0.1873, loss G: -24.8340\n",
            "Epoch [41/100] Batch 200/449                   Loss D: -0.5783, loss G: -30.1514\n",
            "Epoch [41/100] Batch 300/449                   Loss D: -0.2964, loss G: -28.1183\n",
            "Epoch [41/100] Batch 400/449                   Loss D: -0.1859, loss G: -29.7162\n",
            "Epoch [42/100] Batch 100/449                   Loss D: -0.3372, loss G: -38.1381\n",
            "Epoch [42/100] Batch 200/449                   Loss D: -0.3364, loss G: -37.5651\n",
            "Epoch [42/100] Batch 300/449                   Loss D: -0.4044, loss G: -33.7128\n",
            "Epoch [42/100] Batch 400/449                   Loss D: -0.5448, loss G: -22.7679\n",
            "Epoch [43/100] Batch 100/449                   Loss D: -0.7179, loss G: -22.9994\n",
            "Epoch [43/100] Batch 200/449                   Loss D: 0.1062, loss G: -20.4169\n",
            "Epoch [43/100] Batch 300/449                   Loss D: -0.1211, loss G: -32.2029\n",
            "Epoch [43/100] Batch 400/449                   Loss D: -0.6408, loss G: -27.1575\n",
            "Epoch [44/100] Batch 100/449                   Loss D: -0.0490, loss G: -19.7069\n",
            "Epoch [44/100] Batch 200/449                   Loss D: 0.4873, loss G: -28.4944\n",
            "Epoch [44/100] Batch 300/449                   Loss D: -0.3810, loss G: -30.5902\n",
            "Epoch [44/100] Batch 400/449                   Loss D: -0.0812, loss G: -18.8572\n",
            "Epoch [45/100] Batch 100/449                   Loss D: -0.2975, loss G: -23.0522\n",
            "Epoch [45/100] Batch 200/449                   Loss D: -0.1265, loss G: -29.0832\n",
            "Epoch [45/100] Batch 300/449                   Loss D: -0.2999, loss G: -27.9367\n",
            "Epoch [45/100] Batch 400/449                   Loss D: -0.9634, loss G: -33.3750\n",
            "Epoch [46/100] Batch 100/449                   Loss D: -0.4506, loss G: -35.6888\n",
            "Epoch [46/100] Batch 200/449                   Loss D: -0.4794, loss G: -34.0095\n",
            "Epoch [46/100] Batch 300/449                   Loss D: -0.2627, loss G: -25.2509\n",
            "Epoch [46/100] Batch 400/449                   Loss D: -0.2681, loss G: -27.1824\n",
            "Epoch [47/100] Batch 100/449                   Loss D: -0.4040, loss G: -27.0519\n",
            "Epoch [47/100] Batch 200/449                   Loss D: -0.5601, loss G: -24.6312\n",
            "Epoch [47/100] Batch 300/449                   Loss D: -0.2975, loss G: -26.1447\n",
            "Epoch [47/100] Batch 400/449                   Loss D: 0.4281, loss G: -37.0327\n",
            "Epoch [48/100] Batch 100/449                   Loss D: -0.0477, loss G: -28.7016\n",
            "Epoch [48/100] Batch 200/449                   Loss D: -0.1204, loss G: -28.3833\n",
            "Epoch [48/100] Batch 300/449                   Loss D: -0.1305, loss G: -25.7125\n",
            "Epoch [48/100] Batch 400/449                   Loss D: -0.4831, loss G: -30.2614\n",
            "Epoch [49/100] Batch 100/449                   Loss D: -0.5621, loss G: -31.7076\n",
            "Epoch [49/100] Batch 200/449                   Loss D: -0.2284, loss G: -36.1159\n",
            "Epoch [49/100] Batch 300/449                   Loss D: -0.2651, loss G: -27.7969\n",
            "Epoch [49/100] Batch 400/449                   Loss D: -0.3881, loss G: -33.7520\n",
            "Epoch [50/100] Batch 100/449                   Loss D: -0.8694, loss G: -39.2903\n",
            "Epoch [50/100] Batch 200/449                   Loss D: -0.1379, loss G: -25.6817\n",
            "Epoch [50/100] Batch 300/449                   Loss D: -0.0191, loss G: -37.7744\n",
            "Epoch [50/100] Batch 400/449                   Loss D: -1.1128, loss G: -40.8519\n",
            "Epoch [51/100] Batch 100/449                   Loss D: -0.5921, loss G: -41.3196\n",
            "Epoch [51/100] Batch 200/449                   Loss D: -0.6158, loss G: -44.5586\n",
            "Epoch [51/100] Batch 300/449                   Loss D: -0.4859, loss G: -39.4440\n",
            "Epoch [51/100] Batch 400/449                   Loss D: -0.2324, loss G: -36.7097\n",
            "Epoch [52/100] Batch 100/449                   Loss D: -0.0737, loss G: -43.9596\n",
            "Epoch [52/100] Batch 200/449                   Loss D: -0.6749, loss G: -39.8834\n",
            "Epoch [52/100] Batch 300/449                   Loss D: -0.3422, loss G: -45.9483\n",
            "Epoch [52/100] Batch 400/449                   Loss D: -0.4619, loss G: -29.4845\n",
            "Epoch [53/100] Batch 100/449                   Loss D: -0.4419, loss G: -32.9723\n",
            "Epoch [53/100] Batch 200/449                   Loss D: -0.7873, loss G: -42.9342\n",
            "Epoch [53/100] Batch 300/449                   Loss D: -0.2080, loss G: -37.9837\n"
          ]
        }
      ]
    },
    {
      "cell_type": "markdown",
      "metadata": {
        "id": "OMFVF_Vjpe5d"
      },
      "source": [
        "## Run Tensorboard"
      ]
    },
    {
      "cell_type": "code",
      "metadata": {
        "id": "D_Z_8XM_kzSB"
      },
      "source": [
        "%load_ext tensorboard\n",
        "%tensorboard --logdir PATH_TO_YOUR_TENSORBOARD_LOG_DIR"
      ],
      "execution_count": null,
      "outputs": []
    }
  ]
}