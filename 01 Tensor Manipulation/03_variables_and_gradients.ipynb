{
 "cells": [
  {
   "cell_type": "markdown",
   "metadata": {},
   "source": [
    "## PyTorch Gradients\n",
    "### Summary\n",
    "* Define original equation.\n",
    "* Sunstitute equation with `x` value.\n",
    "* Calculate gradients with `o.backward()`.\n",
    "* Access gradients of the `x` through `x.grad`."
   ]
  },
  {
   "cell_type": "code",
   "execution_count": 1,
   "metadata": {},
   "outputs": [],
   "source": [
    "# import \n",
    "import torch"
   ]
  },
  {
   "cell_type": "markdown",
   "metadata": {},
   "source": [
    "### Tensor\n",
    "If you set its attribute `.requires_grad` as `True`, it starts to track all operations on it.\n",
    "$$ y_i = 5(x_i + 1)^2 $$"
   ]
  },
  {
   "cell_type": "code",
   "execution_count": 2,
   "metadata": {},
   "outputs": [
    {
     "data": {
      "text/plain": [
       "tensor([1., 1.], requires_grad=True)"
      ]
     },
     "execution_count": 2,
     "metadata": {},
     "output_type": "execute_result"
    }
   ],
   "source": [
    "x = torch.ones(2, requires_grad=True)\n",
    "x"
   ]
  },
  {
   "cell_type": "markdown",
   "metadata": {},
   "source": [
    "$$ y_i|_{x_i=1} = 5(1+1)^2 = 5(4) = 20 $$"
   ]
  },
  {
   "cell_type": "code",
   "execution_count": 3,
   "metadata": {},
   "outputs": [
    {
     "data": {
      "text/plain": [
       "tensor([20., 20.], grad_fn=<MulBackward0>)"
      ]
     },
     "execution_count": 3,
     "metadata": {},
     "output_type": "execute_result"
    }
   ],
   "source": [
    "y = 5 * (x + 1) ** 2\n",
    "y"
   ]
  },
  {
   "cell_type": "markdown",
   "metadata": {},
   "source": [
    "Backwrd shuld be called only a scaler or with gradient with respect to the variable.\n",
    "* Let's reduce `y` to a scaler:\n",
    "$$ o = \\frac{1}{2} \\sum_{i}y_i$$ \n",
    "So we want to reduct `Y` which is what we have `[20, 20]` into a single value, and the easiest way we can do it is to have a mean of the entire value. "
   ]
  },
  {
   "cell_type": "code",
   "execution_count": 4,
   "metadata": {},
   "outputs": [
    {
     "data": {
      "text/plain": [
       "tensor(20., grad_fn=<MulBackward0>)"
      ]
     },
     "execution_count": 4,
     "metadata": {},
     "output_type": "execute_result"
    }
   ],
   "source": [
    "o = (1/2) * torch.sum(y) \n",
    "o "
   ]
  },
  {
   "cell_type": "markdown",
   "metadata": {},
   "source": [
    "We get 20 again because when we SUM Y is 20 plus 20 which is 40 and when we divide it by 2 we get (scaler) 20."
   ]
  },
  {
   "cell_type": "markdown",
   "metadata": {},
   "source": [
    "1. Recap `y` equation: $$y_i=5(x_i + 1)^2$$\n",
    "2. Recap `o` equation: $$o = \\frac{1}{2} \\sum_{i}y_i$$\n",
    "\n",
    "    We take the mean of `Y` which is a summation of `y` divide by two because there's only two elements. If y had 100 elements with SUM `Y` and divided by 100 becuase there's 100 elements.\n",
    "\n",
    "3. Substitute `y` into o equation: $$o = \\frac{1}{2} \\sum_{i}5(x_i + 1)^2$$ \n",
    "\n",
    "$$\\frac{∂o}{∂x_{i}} = \\frac{1}{2}[10(x_i+1)]$$\n",
    "$$\\frac{∂o}{∂x_{i}}|_{x_i=1} =\\frac{1}{2}[10(1+1)]=\\frac{10}{2}(2)=10$$\n",
    "\n",
    "When we do `backward` that it calculates the gradients."
   ]
  },
  {
   "cell_type": "code",
   "execution_count": 5,
   "metadata": {},
   "outputs": [],
   "source": [
    "o.backward() # calculates the gradients."
   ]
  },
  {
   "cell_type": "markdown",
   "metadata": {},
   "source": [
    "How do we access the gradients, we just do `x.grad`."
   ]
  },
  {
   "cell_type": "code",
   "execution_count": 6,
   "metadata": {},
   "outputs": [
    {
     "data": {
      "text/plain": [
       "tensor([10., 10.])"
      ]
     },
     "execution_count": 6,
     "metadata": {},
     "output_type": "execute_result"
    }
   ],
   "source": [
    "x.grad"
   ]
  }
 ],
 "metadata": {
  "kernelspec": {
   "display_name": "Python 3",
   "language": "python",
   "name": "python3"
  },
  "language_info": {
   "codemirror_mode": {
    "name": "ipython",
    "version": 3
   },
   "file_extension": ".py",
   "mimetype": "text/x-python",
   "name": "python",
   "nbconvert_exporter": "python",
   "pygments_lexer": "ipython3",
   "version": "3.7.4"
  }
 },
 "nbformat": 4,
 "nbformat_minor": 4
}
