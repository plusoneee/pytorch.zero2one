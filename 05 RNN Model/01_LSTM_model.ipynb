{
  "nbformat": 4,
  "nbformat_minor": 0,
  "metadata": {
    "colab": {
      "name": "dl_ch5.ipynb",
      "provenance": [],
      "collapsed_sections": []
    },
    "kernelspec": {
      "name": "python3",
      "display_name": "Python 3"
    },
    "language_info": {
      "name": "python"
    }
  },
  "cells": [
    {
      "cell_type": "code",
      "metadata": {
        "id": "a-qJj_KVJQth"
      },
      "source": [
        "import pandas as pd"
      ],
      "execution_count": null,
      "outputs": []
    },
    {
      "cell_type": "code",
      "metadata": {
        "id": "NhrAnJO-N8CL"
      },
      "source": [
        "df = pd.read_excel(r'上證指數.xlsx')"
      ],
      "execution_count": null,
      "outputs": []
    },
    {
      "cell_type": "code",
      "metadata": {
        "colab": {
          "base_uri": "https://localhost:8080/",
          "height": 419
        },
        "id": "UmVeve_NOGdc",
        "outputId": "48710f60-0278-497a-effd-aeec89c04e85"
      },
      "source": [
        "df"
      ],
      "execution_count": null,
      "outputs": [
        {
          "output_type": "execute_result",
          "data": {
            "text/html": [
              "<div>\n",
              "<style scoped>\n",
              "    .dataframe tbody tr th:only-of-type {\n",
              "        vertical-align: middle;\n",
              "    }\n",
              "\n",
              "    .dataframe tbody tr th {\n",
              "        vertical-align: top;\n",
              "    }\n",
              "\n",
              "    .dataframe thead th {\n",
              "        text-align: right;\n",
              "    }\n",
              "</style>\n",
              "<table border=\"1\" class=\"dataframe\">\n",
              "  <thead>\n",
              "    <tr style=\"text-align: right;\">\n",
              "      <th></th>\n",
              "      <th>名稱</th>\n",
              "      <th>代碼</th>\n",
              "      <th>日期</th>\n",
              "      <th>開盤</th>\n",
              "      <th>最高</th>\n",
              "      <th>最低</th>\n",
              "      <th>收盤</th>\n",
              "      <th>漲跌</th>\n",
              "    </tr>\n",
              "  </thead>\n",
              "  <tbody>\n",
              "    <tr>\n",
              "      <th>0</th>\n",
              "      <td>上證指數</td>\n",
              "      <td>980001</td>\n",
              "      <td>2017-01-03</td>\n",
              "      <td>3105.31</td>\n",
              "      <td>3136.46</td>\n",
              "      <td>3105.31</td>\n",
              "      <td>3135.92</td>\n",
              "      <td>1</td>\n",
              "    </tr>\n",
              "    <tr>\n",
              "      <th>1</th>\n",
              "      <td>上證指數</td>\n",
              "      <td>980001</td>\n",
              "      <td>2017-01-04</td>\n",
              "      <td>3133.79</td>\n",
              "      <td>3160.10</td>\n",
              "      <td>3130.11</td>\n",
              "      <td>3158.79</td>\n",
              "      <td>1</td>\n",
              "    </tr>\n",
              "    <tr>\n",
              "      <th>2</th>\n",
              "      <td>上證指數</td>\n",
              "      <td>980001</td>\n",
              "      <td>2017-01-05</td>\n",
              "      <td>3157.91</td>\n",
              "      <td>3168.50</td>\n",
              "      <td>3154.28</td>\n",
              "      <td>3165.41</td>\n",
              "      <td>1</td>\n",
              "    </tr>\n",
              "    <tr>\n",
              "      <th>3</th>\n",
              "      <td>上證指數</td>\n",
              "      <td>980001</td>\n",
              "      <td>2017-01-06</td>\n",
              "      <td>3163.78</td>\n",
              "      <td>3172.03</td>\n",
              "      <td>3153.03</td>\n",
              "      <td>3154.32</td>\n",
              "      <td>0</td>\n",
              "    </tr>\n",
              "    <tr>\n",
              "      <th>4</th>\n",
              "      <td>上證指數</td>\n",
              "      <td>980001</td>\n",
              "      <td>2017-01-09</td>\n",
              "      <td>3148.53</td>\n",
              "      <td>3173.14</td>\n",
              "      <td>3147.74</td>\n",
              "      <td>3171.24</td>\n",
              "      <td>1</td>\n",
              "    </tr>\n",
              "    <tr>\n",
              "      <th>...</th>\n",
              "      <td>...</td>\n",
              "      <td>...</td>\n",
              "      <td>...</td>\n",
              "      <td>...</td>\n",
              "      <td>...</td>\n",
              "      <td>...</td>\n",
              "      <td>...</td>\n",
              "      <td>...</td>\n",
              "    </tr>\n",
              "    <tr>\n",
              "      <th>177</th>\n",
              "      <td>上證指數</td>\n",
              "      <td>980001</td>\n",
              "      <td>2017-09-21</td>\n",
              "      <td>3364.70</td>\n",
              "      <td>3377.88</td>\n",
              "      <td>3356.88</td>\n",
              "      <td>3357.81</td>\n",
              "      <td>0</td>\n",
              "    </tr>\n",
              "    <tr>\n",
              "      <th>178</th>\n",
              "      <td>上證指數</td>\n",
              "      <td>980001</td>\n",
              "      <td>2017-09-22</td>\n",
              "      <td>3347.16</td>\n",
              "      <td>3356.45</td>\n",
              "      <td>3334.98</td>\n",
              "      <td>3352.53</td>\n",
              "      <td>0</td>\n",
              "    </tr>\n",
              "    <tr>\n",
              "      <th>179</th>\n",
              "      <td>上證指數</td>\n",
              "      <td>980001</td>\n",
              "      <td>2017-09-25</td>\n",
              "      <td>3344.59</td>\n",
              "      <td>3350.96</td>\n",
              "      <td>3334.94</td>\n",
              "      <td>3341.55</td>\n",
              "      <td>0</td>\n",
              "    </tr>\n",
              "    <tr>\n",
              "      <th>180</th>\n",
              "      <td>上證指數</td>\n",
              "      <td>980001</td>\n",
              "      <td>2017-09-26</td>\n",
              "      <td>3336.35</td>\n",
              "      <td>3347.16</td>\n",
              "      <td>3332.60</td>\n",
              "      <td>3343.58</td>\n",
              "      <td>1</td>\n",
              "    </tr>\n",
              "    <tr>\n",
              "      <th>181</th>\n",
              "      <td>上證指數</td>\n",
              "      <td>980001</td>\n",
              "      <td>2017-09-27</td>\n",
              "      <td>3340.82</td>\n",
              "      <td>3346.58</td>\n",
              "      <td>3340.30</td>\n",
              "      <td>3344.23</td>\n",
              "      <td>1</td>\n",
              "    </tr>\n",
              "  </tbody>\n",
              "</table>\n",
              "<p>182 rows × 8 columns</p>\n",
              "</div>"
            ],
            "text/plain": [
              "       名稱      代碼         日期       開盤       最高       最低       收盤  漲跌\n",
              "0    上證指數  980001 2017-01-03  3105.31  3136.46  3105.31  3135.92   1\n",
              "1    上證指數  980001 2017-01-04  3133.79  3160.10  3130.11  3158.79   1\n",
              "2    上證指數  980001 2017-01-05  3157.91  3168.50  3154.28  3165.41   1\n",
              "3    上證指數  980001 2017-01-06  3163.78  3172.03  3153.03  3154.32   0\n",
              "4    上證指數  980001 2017-01-09  3148.53  3173.14  3147.74  3171.24   1\n",
              "..    ...     ...        ...      ...      ...      ...      ...  ..\n",
              "177  上證指數  980001 2017-09-21  3364.70  3377.88  3356.88  3357.81   0\n",
              "178  上證指數  980001 2017-09-22  3347.16  3356.45  3334.98  3352.53   0\n",
              "179  上證指數  980001 2017-09-25  3344.59  3350.96  3334.94  3341.55   0\n",
              "180  上證指數  980001 2017-09-26  3336.35  3347.16  3332.60  3343.58   1\n",
              "181  上證指數  980001 2017-09-27  3340.82  3346.58  3340.30  3344.23   1\n",
              "\n",
              "[182 rows x 8 columns]"
            ]
          },
          "metadata": {
            "tags": []
          },
          "execution_count": 3
        }
      ]
    },
    {
      "cell_type": "code",
      "metadata": {
        "id": "LMBS_pycONvB"
      },
      "source": [
        "import torch\n",
        "import torch.utils.data as Data\n",
        "import numpy as np"
      ],
      "execution_count": null,
      "outputs": []
    },
    {
      "cell_type": "code",
      "metadata": {
        "id": "oZnZEin_RApL"
      },
      "source": [
        "class MydDataset(Data.Dataset):\n",
        "  def __init__(self, seq_length, file_path, train=True, transform=None):\n",
        "    df = pd.read_excel(file_path)\n",
        "    df_len = len(df) - 1\n",
        "    df_len -= (df_len % seq_length)\n",
        "    total_size = df_len//seq_length\n",
        "    train_size = int(total_size * 0.7)\n",
        "    \n",
        "    f = df.iloc[:(train_size*seq_length), 3:7]\n",
        "    l = df.iloc[1:(train_size*seq_length)+1, 7:] #label\n",
        "    data_size = train_size\n",
        "    if not train:\n",
        "      f = df.iloc[(train_size*seq_length):df_len, 3:7]\n",
        "      l = df.iloc[(train_size*seq_length)+1:df_len+1, 7:] #label\n",
        "      data_size = total_size - train_size\n",
        "    \n",
        "    self.features = np.array(f).astype('float32').reshape(data_size, seq_length, 4)\n",
        "    self.labels = np.array(l).astype('int').reshape(data_size, seq_length, 1)\n",
        "    self.transform = transform\n",
        "\n",
        "  def __len__(self):\n",
        "    return len(self.labels)\n",
        "\n",
        "  def __getitem__(self, idx):\n",
        "    if torch.is_tensor(idx):\n",
        "      idx = idx.tolist()\n",
        "\n",
        "    X = self.features[idx]\n",
        "    y = self.labels[idx]\n",
        "\n",
        "    if self.transform:\n",
        "      X = self.transform(X)\n",
        "      y = self.transform(y)\n",
        "\n",
        "    return X, y"
      ],
      "execution_count": null,
      "outputs": []
    },
    {
      "cell_type": "code",
      "metadata": {
        "id": "GQ4CouClRaqJ"
      },
      "source": [
        "def toTensor(x):\n",
        "  return torch.tensor(x)"
      ],
      "execution_count": null,
      "outputs": []
    },
    {
      "cell_type": "code",
      "metadata": {
        "id": "M4TFxlR1aJY1"
      },
      "source": [
        "train_dataset = MydDataset(file_path=r'上證指數.xlsx',\n",
        "                           seq_length=5,\n",
        "                           train=True,\n",
        "                           transform=toTensor)\n",
        "\n",
        "test_dataset = MydDataset(file_path=r'上證指數.xlsx',\n",
        "                           seq_length=5,\n",
        "                           train=False,\n",
        "                           transform=toTensor)\n"
      ],
      "execution_count": null,
      "outputs": []
    },
    {
      "cell_type": "code",
      "metadata": {
        "colab": {
          "base_uri": "https://localhost:8080/"
        },
        "id": "j1ff0nGnas2t",
        "outputId": "a2349c79-0a37-4d3d-e1b7-1451a82e37d5"
      },
      "source": [
        "fetures, labels = train_dataset[2:9]\n",
        "fetures.shape, labels.shape "
      ],
      "execution_count": null,
      "outputs": [
        {
          "output_type": "execute_result",
          "data": {
            "text/plain": [
              "(torch.Size([7, 5, 4]), torch.Size([7, 5, 1]))"
            ]
          },
          "metadata": {
            "tags": []
          },
          "execution_count": 8
        }
      ]
    },
    {
      "cell_type": "code",
      "metadata": {
        "id": "hfK_dmy5bEFl",
        "colab": {
          "base_uri": "https://localhost:8080/",
          "height": 232
        },
        "outputId": "c5970fcf-0c25-407a-f13a-2a1dbb795ee3"
      },
      "source": [
        "train_loader = Data.DataLoader(dataset=train_dataset, \n",
        "                               batch_size=5,\n",
        "                               shuffle=True)\n",
        "\n",
        "test_loader = Data.DataLoader(dataset=test_dataset, \n",
        "                               batch_size=5,\n",
        "                               shuffle=False)"
      ],
      "execution_count": null,
      "outputs": [
        {
          "output_type": "error",
          "ename": "NameError",
          "evalue": "ignored",
          "traceback": [
            "\u001b[0;31m---------------------------------------------------------------------------\u001b[0m",
            "\u001b[0;31mNameError\u001b[0m                                 Traceback (most recent call last)",
            "\u001b[0;32m<ipython-input-1-960c5b5af648>\u001b[0m in \u001b[0;36m<module>\u001b[0;34m()\u001b[0m\n\u001b[0;32m----> 1\u001b[0;31m train_loader = Data.DataLoader(dataset=train_dataset, \n\u001b[0m\u001b[1;32m      2\u001b[0m                                \u001b[0mbatch_size\u001b[0m\u001b[0;34m=\u001b[0m\u001b[0;36m5\u001b[0m\u001b[0;34m,\u001b[0m\u001b[0;34m\u001b[0m\u001b[0;34m\u001b[0m\u001b[0m\n\u001b[1;32m      3\u001b[0m                                shuffle=True)\n\u001b[1;32m      4\u001b[0m \u001b[0;34m\u001b[0m\u001b[0m\n\u001b[1;32m      5\u001b[0m test_loader = Data.DataLoader(dataset=test_dataset, \n",
            "\u001b[0;31mNameError\u001b[0m: name 'Data' is not defined"
          ]
        }
      ]
    },
    {
      "cell_type": "code",
      "metadata": {
        "colab": {
          "base_uri": "https://localhost:8080/"
        },
        "id": "HzmQVvJsbo43",
        "outputId": "2922105b-b718-4d97-b218-a232fd2509c9"
      },
      "source": [
        "for idx, (seqs, labels) in enumerate(train_loader):\n",
        "  print(seqs.shape)\n",
        "  seqs = seqs\n",
        "seqs"
      ],
      "execution_count": null,
      "outputs": [
        {
          "output_type": "stream",
          "text": [
            "torch.Size([5, 5, 4])\n",
            "torch.Size([5, 5, 4])\n",
            "torch.Size([5, 5, 4])\n",
            "torch.Size([5, 5, 4])\n",
            "torch.Size([5, 5, 4])\n"
          ],
          "name": "stdout"
        },
        {
          "output_type": "execute_result",
          "data": {
            "text/plain": [
              "tensor([[[3192.8899, 3193.0601, 3174.3101, 3182.8000],\n",
              "         [3179.2200, 3207.3101, 3174.7100, 3207.1299],\n",
              "         [3203.8601, 3215.9500, 3188.7700, 3212.4399],\n",
              "         [3203.8201, 3219.5200, 3195.2900, 3217.9600],\n",
              "         [3208.4600, 3223.3401, 3203.2100, 3212.6299]],\n",
              "\n",
              "        [[3101.2900, 3120.6599, 3100.3899, 3110.0601],\n",
              "         [3125.3301, 3143.2800, 3111.5601, 3117.1799],\n",
              "         [3108.4199, 3113.5200, 3097.6799, 3102.6201],\n",
              "         [3094.2300, 3110.3899, 3081.8501, 3105.5400],\n",
              "         [3102.1101, 3105.5100, 3084.8301, 3091.6599]],\n",
              "\n",
              "        [[3167.5701, 3174.5801, 3157.3301, 3161.6699],\n",
              "         [3156.6899, 3167.0300, 3136.2700, 3136.7500],\n",
              "         [3133.6001, 3144.9700, 3115.9800, 3119.2900],\n",
              "         [3116.0801, 3130.5100, 3102.1599, 3112.7600],\n",
              "         [3104.4900, 3105.1399, 3044.2900, 3103.4299]],\n",
              "\n",
              "        [[3272.1899, 3286.6699, 3265.7600, 3281.0000],\n",
              "         [3280.6201, 3295.1899, 3275.0500, 3286.6201],\n",
              "         [3285.4600, 3285.4600, 3265.0100, 3269.3899],\n",
              "         [3266.2200, 3290.3899, 3244.3999, 3288.9700],\n",
              "         [3283.8401, 3284.9299, 3262.2800, 3273.8301]],\n",
              "\n",
              "        [[3183.4199, 3193.4600, 3172.4600, 3191.2000],\n",
              "         [3183.6299, 3193.4399, 3170.7900, 3173.2000],\n",
              "         [3174.9800, 3188.7700, 3174.2800, 3188.0601],\n",
              "         [3176.9500, 3193.2400, 3171.5701, 3192.4299],\n",
              "         [3192.0000, 3196.2900, 3177.0200, 3195.9099]]])"
            ]
          },
          "metadata": {
            "tags": []
          },
          "execution_count": 20
        }
      ]
    },
    {
      "cell_type": "code",
      "metadata": {
        "id": "BShFRVzHbpzP"
      },
      "source": [
        "input_size = 4\n",
        "hidden_size = 32 # memory_cell\n",
        "num_layers = 1\n",
        "num_class = 1 # output_layer"
      ],
      "execution_count": null,
      "outputs": []
    },
    {
      "cell_type": "code",
      "metadata": {
        "id": "hAsz48V5ccpl"
      },
      "source": [
        "import torch.nn as nn\n",
        "from torch.autograd import Variable"
      ],
      "execution_count": null,
      "outputs": []
    },
    {
      "cell_type": "code",
      "metadata": {
        "id": "-23L94_5cltT"
      },
      "source": [
        "class RNN(nn.Module):\n",
        "  def __init__(self, input_size, hidden_size, num_layers, num_class):\n",
        "    super(RNN, self).__init__()\n",
        "    self.hidden_size = hidden_size\n",
        "    self.num_layers = num_layers\n",
        "    self.normal = nn.BatchNorm1d(5, affine=True) #batch_size\n",
        "    self.lstm = nn.LSTM(input_size, hidden_size, num_layers, batch_first=True) # batch_first batch 為第一個維度\n",
        "    self.fc = nn.Linear(hidden_size, num_class)\n",
        "    self.sigmoid = nn.Sigmoid()\n",
        "  \n",
        "  def forward(self, x):\n",
        "    h0 = Variable(torch.zeros(num_layers, x.size(0), hidden_size))\n",
        "    c0 = Variable(torch.zeros(num_layers, x.size(0), hidden_size))\n",
        "    out = self.normal(x)\n",
        "    out, (h, c) = self.lstm(out, (h0, c0))\n",
        "    out = self.fc(out)\n",
        "    out = self.sigmoid(out)\n",
        "\n",
        "    return out"
      ],
      "execution_count": null,
      "outputs": []
    },
    {
      "cell_type": "code",
      "metadata": {
        "colab": {
          "base_uri": "https://localhost:8080/"
        },
        "id": "LBJtS2ft5TTr",
        "outputId": "ad5de030-0af2-45ac-ffc4-f406b5cfdadb"
      },
      "source": [
        "rnn = RNN(input_size, hidden_size, num_layers, num_class)\n",
        "rnn"
      ],
      "execution_count": null,
      "outputs": [
        {
          "output_type": "execute_result",
          "data": {
            "text/plain": [
              "RNN(\n",
              "  (normal): BatchNorm1d(5, eps=1e-05, momentum=0.1, affine=True, track_running_stats=True)\n",
              "  (lstm): LSTM(4, 32, batch_first=True)\n",
              "  (fc): Linear(in_features=32, out_features=1, bias=True)\n",
              "  (sigmoid): Sigmoid()\n",
              ")"
            ]
          },
          "metadata": {
            "tags": []
          },
          "execution_count": 26
        }
      ]
    },
    {
      "cell_type": "code",
      "metadata": {
        "colab": {
          "base_uri": "https://localhost:8080/"
        },
        "id": "gZ0XJrwW5haq",
        "outputId": "42f23b6d-a039-40ee-d877-ff8074cb678f"
      },
      "source": [
        "output = rnn(seqs)\n",
        "output.size()"
      ],
      "execution_count": null,
      "outputs": [
        {
          "output_type": "execute_result",
          "data": {
            "text/plain": [
              "torch.Size([5, 5, 1])"
            ]
          },
          "metadata": {
            "tags": []
          },
          "execution_count": 29
        }
      ]
    },
    {
      "cell_type": "code",
      "metadata": {
        "id": "JsF_p2sU5u0w"
      },
      "source": [
        "import torch.optim as opt"
      ],
      "execution_count": null,
      "outputs": []
    },
    {
      "cell_type": "code",
      "metadata": {
        "id": "t3uwgiA9BlJB"
      },
      "source": [
        "loss_func = nn.BCELoss()\n",
        "optimizer = opt.Adam(rnn.parameters(), lr=0.001)"
      ],
      "execution_count": null,
      "outputs": []
    },
    {
      "cell_type": "code",
      "metadata": {
        "colab": {
          "base_uri": "https://localhost:8080/"
        },
        "id": "4rsVUIyQB376",
        "outputId": "716f6abb-1401-440e-94d5-21de54fb078e"
      },
      "source": [
        "for epoch in range(800):\n",
        "  for idx, (seqs, labels) in enumerate(train_loader):\n",
        "    seqs = Variable(seqs)\n",
        "    labels = Variable(labels)\n",
        "    optimizer.zero_grad()\n",
        "    outputs = rnn(seqs)\n",
        "    loss = loss_func(outputs, labels.float()) # crossentropy need float number\n",
        "    loss.backward()\n",
        "    optimizer.step()\n",
        "\n",
        "    if (epoch+1) % 100 == 0:\n",
        "      print('Epoch: %d, batch: %d, Loss: %.4f'%(epoch+1, idx+1, loss.data))"
      ],
      "execution_count": null,
      "outputs": [
        {
          "output_type": "stream",
          "text": [
            "Epoch: 100, batch: 1, Loss: 0.5538\n",
            "Epoch: 100, batch: 2, Loss: 0.5621\n",
            "Epoch: 100, batch: 3, Loss: 0.4573\n",
            "Epoch: 100, batch: 4, Loss: 0.4468\n",
            "Epoch: 100, batch: 5, Loss: 0.7158\n",
            "Epoch: 200, batch: 1, Loss: 0.5121\n",
            "Epoch: 200, batch: 2, Loss: 0.4541\n",
            "Epoch: 200, batch: 3, Loss: 0.4747\n",
            "Epoch: 200, batch: 4, Loss: 0.7025\n",
            "Epoch: 200, batch: 5, Loss: 0.4312\n",
            "Epoch: 300, batch: 1, Loss: 0.6983\n",
            "Epoch: 300, batch: 2, Loss: 0.3692\n",
            "Epoch: 300, batch: 3, Loss: 0.3496\n",
            "Epoch: 300, batch: 4, Loss: 0.5334\n",
            "Epoch: 300, batch: 5, Loss: 0.4219\n",
            "Epoch: 400, batch: 1, Loss: 0.5182\n",
            "Epoch: 400, batch: 2, Loss: 0.3651\n",
            "Epoch: 400, batch: 3, Loss: 0.2913\n",
            "Epoch: 400, batch: 4, Loss: 0.3024\n",
            "Epoch: 400, batch: 5, Loss: 0.4160\n",
            "Epoch: 500, batch: 1, Loss: 0.4135\n",
            "Epoch: 500, batch: 2, Loss: 0.3847\n",
            "Epoch: 500, batch: 3, Loss: 0.3823\n",
            "Epoch: 500, batch: 4, Loss: 0.3325\n",
            "Epoch: 500, batch: 5, Loss: 0.7146\n",
            "Epoch: 600, batch: 1, Loss: 0.3791\n",
            "Epoch: 600, batch: 2, Loss: 0.4165\n",
            "Epoch: 600, batch: 3, Loss: 0.4541\n",
            "Epoch: 600, batch: 4, Loss: 0.4183\n",
            "Epoch: 600, batch: 5, Loss: 0.3244\n",
            "Epoch: 700, batch: 1, Loss: 0.3577\n",
            "Epoch: 700, batch: 2, Loss: 0.2603\n",
            "Epoch: 700, batch: 3, Loss: 0.4227\n",
            "Epoch: 700, batch: 4, Loss: 0.2420\n",
            "Epoch: 700, batch: 5, Loss: 0.4094\n",
            "Epoch: 800, batch: 1, Loss: 0.4308\n",
            "Epoch: 800, batch: 2, Loss: 0.4074\n",
            "Epoch: 800, batch: 3, Loss: 0.2582\n",
            "Epoch: 800, batch: 4, Loss: 0.3360\n",
            "Epoch: 800, batch: 5, Loss: 0.2604\n"
          ],
          "name": "stdout"
        }
      ]
    },
    {
      "cell_type": "code",
      "metadata": {
        "colab": {
          "base_uri": "https://localhost:8080/"
        },
        "id": "DHPk7na7Ddzy",
        "outputId": "3daba5cf-09a1-410c-ffca-0340390264f1"
      },
      "source": [
        "correct = 0\n",
        "total = 0\n",
        "for seqs, labels in test_loader:\n",
        "  seqs = Variable(seqs)\n",
        "  outputs = rnn(seqs)\n",
        "  predicted = outputs.gt(0.5) # bool\n",
        "  total += (labels.size(0)*labels.size(1))\n",
        "  correct += (predicted == labels).sum()\n",
        "\n",
        "print('Acc: %.3f %%' % (100.0 * float(correct)//float(total)))"
      ],
      "execution_count": null,
      "outputs": [
        {
          "output_type": "stream",
          "text": [
            "Acc: 63.000 %\n"
          ],
          "name": "stdout"
        }
      ]
    },
    {
      "cell_type": "code",
      "metadata": {
        "id": "APvhcSnvGotd"
      },
      "source": [
        ""
      ],
      "execution_count": null,
      "outputs": []
    }
  ]
}