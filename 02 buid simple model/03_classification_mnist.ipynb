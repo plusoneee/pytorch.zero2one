{
 "cells": [
  {
   "cell_type": "code",
   "execution_count": 4,
   "metadata": {},
   "outputs": [],
   "source": [
    "import torch\n",
    "import torchvision.datasets as dsets\n",
    "import torchvision.transforms as transforms\n",
    "from torch.utils.data import DataLoader as DataLoader\n",
    "import torch.nn as nn\n",
    "import torch.optim as opt\n",
    "from torch.autograd import Variable"
   ]
  },
  {
   "cell_type": "code",
   "execution_count": 5,
   "metadata": {},
   "outputs": [],
   "source": [
    "train_dataset = dsets.MNIST(root='./data', train=True, transform=transforms.ToTensor(), download=True)\n",
    "test_dataset = dsets.MNIST(root='./data', train=False, transform=transforms.ToTensor(), download=False)"
   ]
  },
  {
   "cell_type": "code",
   "execution_count": 6,
   "metadata": {},
   "outputs": [
    {
     "data": {
      "text/plain": [
       "torch.Size([60000, 28, 28])"
      ]
     },
     "execution_count": 6,
     "metadata": {},
     "output_type": "execute_result"
    }
   ],
   "source": [
    "train_dataset.data.shape # 60000 count, 28x28"
   ]
  },
  {
   "cell_type": "code",
   "execution_count": 7,
   "metadata": {},
   "outputs": [
    {
     "data": {
      "image/png": "[encoded data removed]",
      "text/plain": [
       "<Figure size 432x288 with 1 Axes>"
      ]
     },
     "metadata": {
      "needs_background": "light"
     },
     "output_type": "display_data"
    }
   ],
   "source": [
    "import matplotlib.pyplot as plt\n",
    "plt.imshow(train_dataset.data[0], cmap='gray') # first image\n",
    "plt.title('%i' %train_dataset.targets[0])\n",
    "plt.show()"
   ]
  },
  {
   "cell_type": "code",
   "execution_count": 8,
   "metadata": {},
   "outputs": [],
   "source": [
    "batch_size = 100\n",
    "input_size = 28 * 28\n",
    "num_class = 10 #label: 0-9\n",
    "hidden_size = 500 # 500 nodes\n",
    "num_epoch = 5\n",
    "learning_rate = 0.001"
   ]
  },
  {
   "cell_type": "code",
   "execution_count": 9,
   "metadata": {},
   "outputs": [],
   "source": [
    "train_loader = DataLoader(dataset=train_dataset, \n",
    "                          batch_size=batch_size, \n",
    "                          shuffle=True)\n",
    "test_loader = DataLoader(dataset=test_dataset,\n",
    "                          batch_size=batch_size,\n",
    "                          shuffle=False)"
   ]
  },
  {
   "cell_type": "code",
   "execution_count": 10,
   "metadata": {},
   "outputs": [
    {
     "data": {
      "text/plain": [
       "torch.Size([10000])"
      ]
     },
     "execution_count": 10,
     "metadata": {},
     "output_type": "execute_result"
    }
   ],
   "source": [
    "test_y = test_dataset.targets\n",
    "test_y.shape # 10000 count"
   ]
  },
  {
   "cell_type": "code",
   "execution_count": 11,
   "metadata": {},
   "outputs": [],
   "source": [
    "class Model(nn.Module):\n",
    "    def __init__(self, input_size, hidden_size, num_class):\n",
    "        super(Model, self).__init__()\n",
    "        self.fc_1 = nn.Linear(input_size, hidden_size)\n",
    "        self.relu = nn.ReLU()\n",
    "        self.fc_2 = nn.Linear(hidden_size, num_class)\n",
    "        \n",
    "    def forward(self, x):\n",
    "        out = self.fc_1(x)\n",
    "        out = self.relu(out)\n",
    "        out = self.fc_2(out)\n",
    "        return out"
   ]
  },
  {
   "cell_type": "code",
   "execution_count": 12,
   "metadata": {},
   "outputs": [
    {
     "name": "stdout",
     "output_type": "stream",
     "text": [
      "Model(\n",
      "  (fc_1): Linear(in_features=784, out_features=500, bias=True)\n",
      "  (relu): ReLU()\n",
      "  (fc_2): Linear(in_features=500, out_features=10, bias=True)\n",
      ")\n"
     ]
    }
   ],
   "source": [
    "model = Model(input_size=input_size, hidden_size=hidden_size, num_class=num_class)\n",
    "print(model)"
   ]
  },
  {
   "cell_type": "code",
   "execution_count": 13,
   "metadata": {},
   "outputs": [],
   "source": [
    "loss_func = nn.CrossEntropyLoss()\n",
    "optimizer = opt.Adam(model.parameters(), lr=learning_rate)"
   ]
  },
  {
   "cell_type": "code",
   "execution_count": 14,
   "metadata": {},
   "outputs": [
    {
     "name": "stdout",
     "output_type": "stream",
     "text": [
      "Epoch: 1, Batch: 100, Loss: 0.4368975758552551\n",
      "Epoch: 1, Batch: 200, Loss: 0.27841126918792725\n",
      "Epoch: 1, Batch: 300, Loss: 0.2847064137458801\n",
      "Epoch: 1, Batch: 400, Loss: 0.14572454988956451\n",
      "Epoch: 1, Batch: 500, Loss: 0.10392508655786514\n",
      "Epoch: 1, Batch: 600, Loss: 0.09990541636943817\n",
      "Epoch: 2, Batch: 100, Loss: 0.15500298142433167\n",
      "Epoch: 2, Batch: 200, Loss: 0.21916614472866058\n",
      "Epoch: 2, Batch: 300, Loss: 0.10973300784826279\n",
      "Epoch: 2, Batch: 400, Loss: 0.08755508065223694\n",
      "Epoch: 2, Batch: 500, Loss: 0.17618834972381592\n",
      "Epoch: 2, Batch: 600, Loss: 0.06609180569648743\n",
      "Epoch: 3, Batch: 100, Loss: 0.13912972807884216\n",
      "Epoch: 3, Batch: 200, Loss: 0.09400290250778198\n",
      "Epoch: 3, Batch: 300, Loss: 0.0839344710111618\n",
      "Epoch: 3, Batch: 400, Loss: 0.06767314672470093\n",
      "Epoch: 3, Batch: 500, Loss: 0.12001815438270569\n",
      "Epoch: 3, Batch: 600, Loss: 0.09195330739021301\n",
      "Epoch: 4, Batch: 100, Loss: 0.03426831588149071\n",
      "Epoch: 4, Batch: 200, Loss: 0.02733268216252327\n",
      "Epoch: 4, Batch: 300, Loss: 0.07544830441474915\n",
      "Epoch: 4, Batch: 400, Loss: 0.06599736213684082\n",
      "Epoch: 4, Batch: 500, Loss: 0.041493020951747894\n",
      "Epoch: 4, Batch: 600, Loss: 0.07262589037418365\n",
      "Epoch: 5, Batch: 100, Loss: 0.03398124873638153\n",
      "Epoch: 5, Batch: 200, Loss: 0.05379113554954529\n",
      "Epoch: 5, Batch: 300, Loss: 0.03754570707678795\n",
      "Epoch: 5, Batch: 400, Loss: 0.033424925059080124\n",
      "Epoch: 5, Batch: 500, Loss: 0.008823233656585217\n",
      "Epoch: 5, Batch: 600, Loss: 0.01045050099492073\n"
     ]
    }
   ],
   "source": [
    "# train model\n",
    "for epoch in range(num_epoch):\n",
    "    for i, (images, labels) in enumerate(train_loader):\n",
    "        # images are 100(batch_size) * 28*28 tensor.\n",
    "        images = Variable(images.view(-1, 28*28)) # -1 means 100 here\n",
    "        labels = Variable(labels)\n",
    "        \n",
    "        optimizer.zero_grad()\n",
    "        output = model(images) # forward pass\n",
    "        loss = loss_func(output, labels) # loss\n",
    "        \n",
    "        # backward\n",
    "        loss.backward()\n",
    "        optimizer.step()\n",
    "        \n",
    "        if (i+1) % 100 == 0:\n",
    "            print('Epoch: {}, Batch: {}, Loss: {}'.format(epoch+1, i+1, loss.data))"
   ]
  },
  {
   "cell_type": "code",
   "execution_count": 15,
   "metadata": {},
   "outputs": [
    {
     "name": "stdout",
     "output_type": "stream",
     "text": [
      "accuracy: 98.00999999999999 %\n"
     ]
    }
   ],
   "source": [
    "# calculate accuracy\n",
    "\n",
    "correct = 0\n",
    "total = 0\n",
    "for images, labels in test_loader:\n",
    "    images = Variable(images.view(-1, 28*28))\n",
    "    labels = Variable(labels)\n",
    "    \n",
    "    # output is 100x10 matrix;\n",
    "    output = model(images)\n",
    "    \n",
    "    # 1 means max by column;\n",
    "    # _ is -> value; predicted -> label(index).\n",
    "    _, predicted = torch.max(output.data, 1) \n",
    "    \n",
    "    total += labels.size(0) # len; total is 100  here.\n",
    "    correct += (predicted == labels).sum()\n",
    "    \n",
    "print('accuracy: {} %'.format(float(correct)/ float(total) * 100))"
   ]
  },
  {
   "cell_type": "code",
   "execution_count": 16,
   "metadata": {},
   "outputs": [
    {
     "data": {
      "image/png": "[encoded data removed]",
      "text/plain": [
       "<Figure size 432x288 with 1 Axes>"
      ]
     },
     "metadata": {
      "needs_background": "light"
     },
     "output_type": "display_data"
    }
   ],
   "source": [
    "plt.imshow(images.data[0].view(28, 28), cmap='gray')\n",
    "plt.title(int(labels[0]))\n",
    "plt.show()"
   ]
  },
  {
   "cell_type": "code",
   "execution_count": 37,
   "metadata": {},
   "outputs": [],
   "source": [
    "#1 method save model weight\n",
    "torch.save(model.state_dict(), 'model.pkl')\n",
    "model = Model(input_size, hidden_size, num_class)\n",
    "# load weight\n",
    "model.load_state_dict(torch.load('model.pkl'))"
   ]
  },
  {
   "cell_type": "code",
   "execution_count": 40,
   "metadata": {},
   "outputs": [],
   "source": [
    "#2 method save model\n",
    "torch.save(model, 'model2.pkl')\n",
    "model3 = torch.load('model2.pkl')"
   ]
  },
  {
   "cell_type": "markdown",
   "metadata": {},
   "source": [
    "### Other way building model"
   ]
  },
  {
   "cell_type": "code",
   "execution_count": 19,
   "metadata": {},
   "outputs": [
    {
     "name": "stdout",
     "output_type": "stream",
     "text": [
      "Sequential(\n",
      "  (0): Linear(in_features=784, out_features=500, bias=True)\n",
      "  (1): ReLU()\n",
      "  (2): Linear(in_features=500, out_features=10, bias=True)\n",
      ")\n"
     ]
    }
   ],
   "source": [
    "model_easyway = nn.Sequential(\n",
    "    nn.Linear(input_size, hidden_size),\n",
    "    nn.ReLU(),\n",
    "    nn.Linear(hidden_size, num_class)\n",
    ")\n",
    "print(model_easyway)"
   ]
  },
  {
   "cell_type": "code",
   "execution_count": 21,
   "metadata": {},
   "outputs": [
    {
     "name": "stdout",
     "output_type": "stream",
     "text": [
      "Epoch: 1, Batch: 100, Loss: 0.35251015424728394\n",
      "Epoch: 1, Batch: 200, Loss: 0.31007587909698486\n",
      "Epoch: 1, Batch: 300, Loss: 0.21771490573883057\n",
      "Epoch: 1, Batch: 400, Loss: 0.14278611540794373\n",
      "Epoch: 1, Batch: 500, Loss: 0.2827369272708893\n",
      "Epoch: 1, Batch: 600, Loss: 0.08428749442100525\n",
      "Epoch: 2, Batch: 100, Loss: 0.09439954161643982\n",
      "Epoch: 2, Batch: 200, Loss: 0.19932690262794495\n",
      "Epoch: 2, Batch: 300, Loss: 0.22997543215751648\n",
      "Epoch: 2, Batch: 400, Loss: 0.07815054059028625\n",
      "Epoch: 2, Batch: 500, Loss: 0.05686445161700249\n",
      "Epoch: 2, Batch: 600, Loss: 0.06547123193740845\n",
      "Epoch: 3, Batch: 100, Loss: 0.0334070585668087\n",
      "Epoch: 3, Batch: 200, Loss: 0.0350540429353714\n",
      "Epoch: 3, Batch: 300, Loss: 0.07758684456348419\n",
      "Epoch: 3, Batch: 400, Loss: 0.06483740359544754\n",
      "Epoch: 3, Batch: 500, Loss: 0.06323257833719254\n",
      "Epoch: 3, Batch: 600, Loss: 0.06947433203458786\n",
      "Epoch: 4, Batch: 100, Loss: 0.036823540925979614\n",
      "Epoch: 4, Batch: 200, Loss: 0.04389040917158127\n",
      "Epoch: 4, Batch: 300, Loss: 0.032566580921411514\n",
      "Epoch: 4, Batch: 400, Loss: 0.01773233339190483\n",
      "Epoch: 4, Batch: 500, Loss: 0.02207851968705654\n",
      "Epoch: 4, Batch: 600, Loss: 0.10990441590547562\n",
      "Epoch: 5, Batch: 100, Loss: 0.0651884526014328\n",
      "Epoch: 5, Batch: 200, Loss: 0.04977795481681824\n",
      "Epoch: 5, Batch: 300, Loss: 0.017512785270810127\n",
      "Epoch: 5, Batch: 400, Loss: 0.018363608047366142\n",
      "Epoch: 5, Batch: 500, Loss: 0.05875054746866226\n",
      "Epoch: 5, Batch: 600, Loss: 0.03894755244255066\n"
     ]
    }
   ],
   "source": [
    "loss_func = nn.CrossEntropyLoss()\n",
    "optimizer = opt.Adam(model_easyway.parameters(), lr=learning_rate)\n",
    "\n",
    "# train model\n",
    "for epoch in range(num_epoch):\n",
    "    for i, (images, labels) in enumerate(train_loader):\n",
    "        # images are 100(batch_size) * 28*28 tensor.\n",
    "        images = Variable(images.view(-1, 28*28)) # -1 means 100 here\n",
    "        labels = Variable(labels)\n",
    "        \n",
    "        optimizer.zero_grad()\n",
    "        output = model_easyway(images) # forward pass\n",
    "        loss = loss_func(output, labels) # loss\n",
    "        \n",
    "        # backward\n",
    "        loss.backward()\n",
    "        optimizer.step()\n",
    "        \n",
    "        if (i+1) % 100 == 0:\n",
    "            print('Epoch: {}, Batch: {}, Loss: {}'.format(epoch+1, i+1, loss.data))"
   ]
  },
  {
   "cell_type": "code",
   "execution_count": 22,
   "metadata": {},
   "outputs": [
    {
     "name": "stdout",
     "output_type": "stream",
     "text": [
      "accuracy: 97.82 %\n"
     ]
    }
   ],
   "source": [
    "# calculate accuracy\n",
    "\n",
    "correct = 0\n",
    "total = 0\n",
    "for images, labels in test_loader:\n",
    "    images = Variable(images.view(-1, 28*28))\n",
    "    labels = Variable(labels)\n",
    "    \n",
    "    # output is 100x10 matrix;\n",
    "    output = model_easyway(images)\n",
    "    \n",
    "    # 1 means max by column;\n",
    "    # _ is -> value; predicted -> label(index).\n",
    "    _, predicted = torch.max(output.data, 1) \n",
    "    \n",
    "    total += labels.size(0) # len; total is 100  here.\n",
    "    correct += (predicted == labels).sum()\n",
    "    \n",
    "print('accuracy: {} %'.format(float(correct)/ float(total) * 100))"
   ]
  },
  {
   "cell_type": "code",
   "execution_count": null,
   "metadata": {},
   "outputs": [],
   "source": []
  }
 ],
 "metadata": {
  "kernelspec": {
   "display_name": "Python 3",
   "language": "python",
   "name": "python3"
  },
  "language_info": {
   "codemirror_mode": {
    "name": "ipython",
    "version": 3
   },
   "file_extension": ".py",
   "mimetype": "text/x-python",
   "name": "python",
   "nbconvert_exporter": "python",
   "pygments_lexer": "ipython3",
   "version": "3.7.4"
  }
 },
 "nbformat": 4,
 "nbformat_minor": 4
}
