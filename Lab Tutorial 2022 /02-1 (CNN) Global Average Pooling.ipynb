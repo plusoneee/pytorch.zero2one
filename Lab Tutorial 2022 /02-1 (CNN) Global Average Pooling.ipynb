{
  "cells": [
    {
      "cell_type": "markdown",
      "metadata": {
        "id": "2aS835h4iYEr"
      },
      "source": [
        "# (CNN) Global Average Pooling\n",
        "\n",
        "Most of the networks used the `Convolutional layers` as feature extractors and then fed into `fully connected layers`, followed by an output layer. **Global average pooling means that you average each feature map separately.**\n",
        "\n",
        "\n",
        "* PyTorch provides a slightly more versatile module called `nn.AdaptiveAvgPool2d()`, which averages a grid of activations into whatever sized destination you require.\n"
      ]
    },
    {
      "cell_type": "code",
      "execution_count": 109,
      "metadata": {
        "id": "GOYGdp--h43s"
      },
      "outputs": [],
      "source": [
        "import torch\n",
        "import torch.nn as nn\n",
        "\n",
        "def count_parameters(model):\n",
        "    print('Total Parameters:')\n",
        "    return sum(p.numel() for p in model.parameters() if p.requires_grad)\n",
        "\n",
        "def fed_image_to_model(myModel, batch_size=1, width=28, height=28):\n",
        "    print(myModel)\n",
        "    print(f'Fed an image ({batch_size}, {1}, {height}, {width}) to Model')\n",
        "    x = torch.rand([batch_size, 1, height, width])  \n",
        "    output = myModel(x)"
      ]
    },
    {
      "cell_type": "markdown",
      "metadata": {
        "id": "YTq0nTDElpXR"
      },
      "source": [
        "## 01 Fed into Fully Connected Layer"
      ]
    },
    {
      "cell_type": "code",
      "execution_count": 105,
      "metadata": {
        "id": "3MIkctcvkVo-"
      },
      "outputs": [],
      "source": [
        "class CNNwithFullyConnected(nn.Module):\n",
        "    def __init__(self):\n",
        "        super(CNNwithFullyConnected, self).__init__()\n",
        "        \n",
        "        self.conv = nn.Sequential(\n",
        "            nn.Conv2d(in_channels=1, out_channels=64, kernel_size=3, stride=1, padding=1),\n",
        "            nn.ReLU(),\n",
        "            nn.Conv2d(in_channels=64, out_channels=128, kernel_size=3, padding=1),\n",
        "            nn.ReLU(),\n",
        "        )\n",
        "\n",
        "        self.flatten = nn.Flatten()\n",
        "\n",
        "        self.fullyconected = nn.Sequential(   \n",
        "            nn.Linear(in_features=28*28*128, out_features=1024),\n",
        "            nn.ReLU(),\n",
        "            nn.Linear(1024, 10)\n",
        "        )\n",
        "\n",
        "    def forward(self, x):\n",
        "        output = self.conv(x)\n",
        "        print('After Conv Layer (without AdaptiveAvgPooliong):', output.shape)\n",
        "        output = self.flatten(output)\n",
        "        print('After Flatten:', output.shape)\n",
        "        output = self.fullyconected(output)\n",
        "        print('After Output Layer:', output.shape)\n",
        "        return output"
      ]
    },
    {
      "cell_type": "code",
      "execution_count": 106,
      "metadata": {
        "id": "UFlDfDvyk4bz"
      },
      "outputs": [],
      "source": [
        "model = CNNwithFullyConnected()"
      ]
    },
    {
      "cell_type": "code",
      "execution_count": 110,
      "metadata": {
        "colab": {
          "base_uri": "https://localhost:8080/"
        },
        "id": "cIb5cfYBmlKZ",
        "outputId": "d5a9e048-36ee-4d22-a2c2-92758141fddb"
      },
      "outputs": [
        {
          "name": "stdout",
          "output_type": "stream",
          "text": [
            "CNNwithFullyConnected(\n",
            "  (conv): Sequential(\n",
            "    (0): Conv2d(1, 64, kernel_size=(3, 3), stride=(1, 1), padding=(1, 1))\n",
            "    (1): ReLU()\n",
            "    (2): Conv2d(64, 128, kernel_size=(3, 3), stride=(1, 1), padding=(1, 1))\n",
            "    (3): ReLU()\n",
            "  )\n",
            "  (flatten): Flatten(start_dim=1, end_dim=-1)\n",
            "  (fullyconected): Sequential(\n",
            "    (0): Linear(in_features=100352, out_features=1024, bias=True)\n",
            "    (1): ReLU()\n",
            "    (2): Linear(in_features=1024, out_features=10, bias=True)\n",
            "  )\n",
            ")\n",
            "Fed an image (1, 1, 28, 28) to Model\n",
            "After Conv Layer (without AdaptiveAvgPooliong): torch.Size([1, 128, 28, 28])\n",
            "After Flatten: torch.Size([1, 100352])\n",
            "After Output Layer: torch.Size([1, 10])\n"
          ]
        }
      ],
      "source": [
        "fed_image_to_model(model)"
      ]
    },
    {
      "cell_type": "code",
      "execution_count": 111,
      "metadata": {
        "colab": {
          "base_uri": "https://localhost:8080/"
        },
        "id": "KWdiXdxRk7vu",
        "outputId": "357141f7-1259-485d-e575-c0a1627b9721"
      },
      "outputs": [
        {
          "name": "stdout",
          "output_type": "stream",
          "text": [
            "Total Parameters:\n"
          ]
        },
        {
          "data": {
            "text/plain": [
              "102846218"
            ]
          },
          "execution_count": 111,
          "metadata": {},
          "output_type": "execute_result"
        }
      ],
      "source": [
        "count_parameters(model) "
      ]
    },
    {
      "cell_type": "markdown",
      "metadata": {
        "id": "98_IAmDPp8Ve"
      },
      "source": [
        "## 02 Using Adaptive Avg Pooling\n",
        "<img src=\"https://peltarion.com/static/global_average_pooling_a.png\" width=\"600\" />\n",
        "\n",
        "Image source [here](https://peltarion.com/knowledge-center/modeling-view/build-an-ai-model/blocks/global-average-pooling-2d)."
      ]
    },
    {
      "cell_type": "code",
      "execution_count": 118,
      "metadata": {
        "id": "AhA2h9gmlVAb"
      },
      "outputs": [],
      "source": [
        "class CNNwithGloabalAvGPooling(nn.Module):\n",
        "    def __init__(self):\n",
        "        super(CNNwithGloabalAvGPooling, self).__init__()\n",
        "        \n",
        "        self.conv = nn.Sequential(\n",
        "            nn.Conv2d(in_channels=1, out_channels=64, kernel_size=3, stride=1, padding=1),\n",
        "            nn.ReLU(),\n",
        "            nn.Conv2d(in_channels=64, out_channels=128, kernel_size=3, padding=1),\n",
        "            nn.ReLU()\n",
        "        )\n",
        "\n",
        "        self.avgpooling = nn.AdaptiveAvgPool2d((1,1))\n",
        "        self.flatten = nn.Flatten()\n",
        "        self.linear_layer = nn.Sequential(\n",
        "            nn.Linear(in_features=128, out_features=32),\n",
        "            nn.ReLU(),\n",
        "            nn.Linear(32, 10)\n",
        "        )\n",
        "        \n",
        "    def forward(self, x):\n",
        "        output = self.conv(x)\n",
        "        print('After Conv Layer:', output.shape)\n",
        "        output = self.avgpooling(output)\n",
        "        print('After AdaptiveAvgPooling:', output.shape)\n",
        "        output = self.flatten(output)\n",
        "        print('After Flatten:', output.shape)\n",
        "        output = self.linear_layer(output)\n",
        "        print('After Output Layer:', output.shape)\n",
        "        return output"
      ]
    },
    {
      "cell_type": "code",
      "execution_count": 115,
      "metadata": {
        "id": "n8EkbCBDo5YZ"
      },
      "outputs": [],
      "source": [
        "model2 = CNNwithGloabalAvGPooling()"
      ]
    },
    {
      "cell_type": "code",
      "execution_count": 117,
      "metadata": {
        "colab": {
          "base_uri": "https://localhost:8080/"
        },
        "id": "NpV179O1ouSQ",
        "outputId": "3a405ff6-3e67-41f0-b0d4-795f8dab3137"
      },
      "outputs": [
        {
          "name": "stdout",
          "output_type": "stream",
          "text": [
            "CNNwithGloabalAvGPooling(\n",
            "  (conv): Sequential(\n",
            "    (0): Conv2d(1, 64, kernel_size=(3, 3), stride=(1, 1), padding=(1, 1))\n",
            "    (1): ReLU()\n",
            "    (2): Conv2d(64, 128, kernel_size=(3, 3), stride=(1, 1), padding=(1, 1))\n",
            "    (3): ReLU()\n",
            "  )\n",
            "  (avgpooling): AdaptiveAvgPool2d(output_size=(1, 1))\n",
            "  (flatten): Flatten(start_dim=1, end_dim=-1)\n",
            "  (linear_layer): Sequential(\n",
            "    (0): Linear(in_features=128, out_features=32, bias=True)\n",
            "    (1): ReLU()\n",
            "    (2): Linear(in_features=32, out_features=10, bias=True)\n",
            "  )\n",
            ")\n",
            "Fed an image (1, 1, 28, 28) to Model\n",
            "After Conv Layer: torch.Size([1, 128, 28, 28])\n",
            "After AdaptiveAvgPool: torch.Size([1, 128, 1, 1])\n",
            "After Flatten: torch.Size([1, 128])\n",
            "After Output Layer: torch.Size([1, 10])\n"
          ]
        }
      ],
      "source": [
        "fed_image_to_model(model2)"
      ]
    },
    {
      "cell_type": "code",
      "execution_count": 119,
      "metadata": {
        "colab": {
          "base_uri": "https://localhost:8080/"
        },
        "id": "GfW_fDo7ovsC",
        "outputId": "61ff9421-89ce-4e69-d976-bd04735a7e41"
      },
      "outputs": [
        {
          "name": "stdout",
          "output_type": "stream",
          "text": [
            "Total Parameters:\n"
          ]
        },
        {
          "data": {
            "text/plain": [
              "78954"
            ]
          },
          "execution_count": 119,
          "metadata": {},
          "output_type": "execute_result"
        }
      ],
      "source": [
        "count_parameters(model2)"
      ]
    },
    {
      "cell_type": "markdown",
      "metadata": {
        "id": "n6dsWw_JuwzK"
      },
      "source": [
        "## Examples"
      ]
    },
    {
      "cell_type": "code",
      "execution_count": 123,
      "metadata": {
        "colab": {
          "base_uri": "https://localhost:8080/"
        },
        "id": "qo3KhDWruyHW",
        "outputId": "1b312e94-db9c-4f86-d54f-f046ab486a3e"
      },
      "outputs": [
        {
          "name": "stdout",
          "output_type": "stream",
          "text": [
            "torch.Size([1, 128, 5, 7])\n",
            "torch.Size([1, 128, 7, 7])\n",
            "torch.Size([1, 128, 28, 7])\n"
          ]
        }
      ],
      "source": [
        "image = torch.rand(1, 128, 28, 28)\n",
        "\n",
        "# target output size of 5x7\n",
        "m = nn.AdaptiveAvgPool2d((5,7))\n",
        "output = m(image)\n",
        "print(output.shape)\n",
        "\n",
        "# target output size of 7x7 (square)\n",
        "m = nn.AdaptiveAvgPool2d(7)\n",
        "output = m(image)\n",
        "print(output.shape)\n",
        "\n",
        "# target output size of 28x7\n",
        "m = nn.AdaptiveAvgPool2d((None, 7))\n",
        "output = m(image)\n",
        "print(output.shape)"
      ]
    }
  ],
  "metadata": {
    "colab": {
      "collapsed_sections": [],
      "name": "02-1 (CNN) Global Average Pooling.ipynb",
      "provenance": []
    },
    "kernelspec": {
      "display_name": "Python 3",
      "name": "python3"
    },
    "language_info": {
      "name": "python"
    }
  },
  "nbformat": 4,
  "nbformat_minor": 0
}
