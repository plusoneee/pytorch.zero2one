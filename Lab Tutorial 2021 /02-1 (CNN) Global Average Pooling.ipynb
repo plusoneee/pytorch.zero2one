{
  "nbformat": 4,
  "nbformat_minor": 0,
  "metadata": {
    "colab": {
      "name": "02-1 (CNN) Global Average Pooling.ipynb",
      "provenance": [],
      "collapsed_sections": []
    },
    "kernelspec": {
      "name": "python3",
      "display_name": "Python 3"
    },
    "language_info": {
      "name": "python"
    }
  },
  "cells": [
    {
      "cell_type": "markdown",
      "source": [
        "# (CNN) Global Average Pooling\n",
        "\n",
        "Most of the networks used the `Convolutional layers` as feature extractors and then fed into `fully connected layers`, followed by an output layer. **Global average pooling means that you average each feature map separately.**\n",
        "\n",
        "\n",
        "* PyTorch provides a slightly more versatile module called `nn.AdaptiveAvgPool2d()`, which averages a grid of activations into whatever sized destination you require.\n"
      ],
      "metadata": {
        "id": "2aS835h4iYEr"
      }
    },
    {
      "cell_type": "code",
      "execution_count": 109,
      "metadata": {
        "id": "GOYGdp--h43s"
      },
      "outputs": [],
      "source": [
        "import torch\n",
        "import torch.nn as nn\n",
        "\n",
        "def count_parameters(model):\n",
        "    print('Total Parameters:')\n",
        "    return sum(p.numel() for p in model.parameters() if p.requires_grad)\n",
        "\n",
        "def fed_image_to_model(myModel, batch_size=1, width=28, height=28):\n",
        "    print(myModel)\n",
        "    print(f'Fed an image ({batch_size}, {1}, {height}, {width}) to Model')\n",
        "    x = torch.rand([batch_size, 1, height, width])  \n",
        "    output = myModel(x)"
      ]
    },
    {
      "cell_type": "markdown",
      "source": [
        "## 01 Fed into Fully Connected Layer"
      ],
      "metadata": {
        "id": "YTq0nTDElpXR"
      }
    },
    {
      "cell_type": "code",
      "source": [
        "class CNNwithFullyConnected(nn.Module):\n",
        "    def __init__(self):\n",
        "        super(CNNwithFullyConnected, self).__init__()\n",
        "        \n",
        "        self.conv = nn.Sequential(\n",
        "            nn.Conv2d(in_channels=1, out_channels=64, kernel_size=3, stride=1, padding=1),\n",
        "            nn.ReLU(),\n",
        "            nn.Conv2d(in_channels=64, out_channels=128, kernel_size=3, padding=1),\n",
        "            nn.ReLU(),\n",
        "        )\n",
        "\n",
        "        self.flatten = nn.Flatten()\n",
        "\n",
        "        self.fullyconected = nn.Sequential(   \n",
        "            nn.Linear(in_features=28*28*128, out_features=1024),\n",
        "            nn.ReLU(),\n",
        "            nn.Linear(1024, 10)\n",
        "        )\n",
        "\n",
        "    def forward(self, x):\n",
        "        output = self.conv(x)\n",
        "        print('After Conv Layer (without AdaptiveAvgPooliong):', output.shape)\n",
        "        output = self.flatten(output)\n",
        "        print('After Flatten:', output.shape)\n",
        "        output = self.fullyconected(output)\n",
        "        print('After Output Layer:', output.shape)\n",
        "        return output"
      ],
      "metadata": {
        "id": "3MIkctcvkVo-"
      },
      "execution_count": 105,
      "outputs": []
    },
    {
      "cell_type": "code",
      "source": [
        "model = CNNwithFullyConnected()"
      ],
      "metadata": {
        "id": "UFlDfDvyk4bz"
      },
      "execution_count": 106,
      "outputs": []
    },
    {
      "cell_type": "code",
      "source": [
        "fed_image_to_model(model)"
      ],
      "metadata": {
        "colab": {
          "base_uri": "https://localhost:8080/"
        },
        "id": "cIb5cfYBmlKZ",
        "outputId": "d5a9e048-36ee-4d22-a2c2-92758141fddb"
      },
      "execution_count": 110,
      "outputs": [
        {
          "output_type": "stream",
          "name": "stdout",
          "text": [
            "CNNwithFullyConnected(\n",
            "  (conv): Sequential(\n",
            "    (0): Conv2d(1, 64, kernel_size=(3, 3), stride=(1, 1), padding=(1, 1))\n",
            "    (1): ReLU()\n",
            "    (2): Conv2d(64, 128, kernel_size=(3, 3), stride=(1, 1), padding=(1, 1))\n",
            "    (3): ReLU()\n",
            "  )\n",
            "  (flatten): Flatten(start_dim=1, end_dim=-1)\n",
            "  (fullyconected): Sequential(\n",
            "    (0): Linear(in_features=100352, out_features=1024, bias=True)\n",
            "    (1): ReLU()\n",
            "    (2): Linear(in_features=1024, out_features=10, bias=True)\n",
            "  )\n",
            ")\n",
            "Fed an image (1, 1, 28, 28) to Model\n",
            "After Conv Layer (without AdaptiveAvgPooliong): torch.Size([1, 128, 28, 28])\n",
            "After Flatten: torch.Size([1, 100352])\n",
            "After Output Layer: torch.Size([1, 10])\n"
          ]
        }
      ]
    },
    {
      "cell_type": "code",
      "source": [
        "count_parameters(model) "
      ],
      "metadata": {
        "colab": {
          "base_uri": "https://localhost:8080/"
        },
        "id": "KWdiXdxRk7vu",
        "outputId": "357141f7-1259-485d-e575-c0a1627b9721"
      },
      "execution_count": 111,
      "outputs": [
        {
          "output_type": "stream",
          "name": "stdout",
          "text": [
            "Total Parameters:\n"
          ]
        },
        {
          "output_type": "execute_result",
          "data": {
            "text/plain": [
              "102846218"
            ]
          },
          "metadata": {},
          "execution_count": 111
        }
      ]
    },
    {
      "cell_type": "markdown",
      "source": [
        "## 02 Using Adaptive Avg Pooling\n",
        "\n",
        "![Imgur](https://i.imgur.com/AMCXGyh.png)"
      ],
      "metadata": {
        "id": "98_IAmDPp8Ve"
      }
    },
    {
      "cell_type": "code",
      "source": [
        "class CNNwithGloabalAvGPooling(nn.Module):\n",
        "    def __init__(self):\n",
        "        super(CNNwithGloabalAvGPooling, self).__init__()\n",
        "        \n",
        "        self.conv = nn.Sequential(\n",
        "            nn.Conv2d(in_channels=1, out_channels=64, kernel_size=3, stride=1, padding=1),\n",
        "            nn.ReLU(),\n",
        "            nn.Conv2d(in_channels=64, out_channels=128, kernel_size=3, padding=1),\n",
        "            nn.ReLU()\n",
        "        )\n",
        "\n",
        "        self.avgpooling = nn.AdaptiveAvgPool2d((1,1))\n",
        "        self.flatten = nn.Flatten()\n",
        "        self.linear_layer = nn.Sequential(\n",
        "            nn.Linear(in_features=128, out_features=32),\n",
        "            nn.ReLU(),\n",
        "            nn.Linear(32, 10)\n",
        "        )\n",
        "        \n",
        "    def forward(self, x):\n",
        "        output = self.conv(x)\n",
        "        print('After Conv Layer:', output.shape)\n",
        "        output = self.avgpooling(output)\n",
        "        print('After AdaptiveAvgPooling:', output.shape)\n",
        "        output = self.flatten(output)\n",
        "        print('After Flatten:', output.shape)\n",
        "        output = self.linear_layer(output)\n",
        "        print('After Output Layer:', output.shape)\n",
        "        return output"
      ],
      "metadata": {
        "id": "AhA2h9gmlVAb"
      },
      "execution_count": 118,
      "outputs": []
    },
    {
      "cell_type": "code",
      "source": [
        "model2 = CNNwithGloabalAvGPooling()"
      ],
      "metadata": {
        "id": "n8EkbCBDo5YZ"
      },
      "execution_count": 115,
      "outputs": []
    },
    {
      "cell_type": "code",
      "source": [
        "fed_image_to_model(model2)"
      ],
      "metadata": {
        "colab": {
          "base_uri": "https://localhost:8080/"
        },
        "id": "NpV179O1ouSQ",
        "outputId": "3a405ff6-3e67-41f0-b0d4-795f8dab3137"
      },
      "execution_count": 117,
      "outputs": [
        {
          "output_type": "stream",
          "name": "stdout",
          "text": [
            "CNNwithGloabalAvGPooling(\n",
            "  (conv): Sequential(\n",
            "    (0): Conv2d(1, 64, kernel_size=(3, 3), stride=(1, 1), padding=(1, 1))\n",
            "    (1): ReLU()\n",
            "    (2): Conv2d(64, 128, kernel_size=(3, 3), stride=(1, 1), padding=(1, 1))\n",
            "    (3): ReLU()\n",
            "  )\n",
            "  (avgpooling): AdaptiveAvgPool2d(output_size=(1, 1))\n",
            "  (flatten): Flatten(start_dim=1, end_dim=-1)\n",
            "  (linear_layer): Sequential(\n",
            "    (0): Linear(in_features=128, out_features=32, bias=True)\n",
            "    (1): ReLU()\n",
            "    (2): Linear(in_features=32, out_features=10, bias=True)\n",
            "  )\n",
            ")\n",
            "Fed an image (1, 1, 28, 28) to Model\n",
            "After Conv Layer: torch.Size([1, 128, 28, 28])\n",
            "After AdaptiveAvgPool: torch.Size([1, 128, 1, 1])\n",
            "After Flatten: torch.Size([1, 128])\n",
            "After Output Layer: torch.Size([1, 10])\n"
          ]
        }
      ]
    },
    {
      "cell_type": "code",
      "source": [
        "count_parameters(model2)"
      ],
      "metadata": {
        "colab": {
          "base_uri": "https://localhost:8080/"
        },
        "id": "GfW_fDo7ovsC",
        "outputId": "61ff9421-89ce-4e69-d976-bd04735a7e41"
      },
      "execution_count": 119,
      "outputs": [
        {
          "output_type": "stream",
          "name": "stdout",
          "text": [
            "Total Parameters:\n"
          ]
        },
        {
          "output_type": "execute_result",
          "data": {
            "text/plain": [
              "78954"
            ]
          },
          "metadata": {},
          "execution_count": 119
        }
      ]
    },
    {
      "cell_type": "markdown",
      "source": [
        "## Examples"
      ],
      "metadata": {
        "id": "n6dsWw_JuwzK"
      }
    },
    {
      "cell_type": "code",
      "source": [
        "image = torch.rand(1, 128, 28, 28)\n",
        "\n",
        "# target output size of 5x7\n",
        "m = nn.AdaptiveAvgPool2d((5,7))\n",
        "output = m(image)\n",
        "print(output.shape)\n",
        "\n",
        "# target output size of 7x7 (square)\n",
        "m = nn.AdaptiveAvgPool2d(7)\n",
        "output = m(image)\n",
        "print(output.shape)\n",
        "\n",
        "# target output size of 28x7\n",
        "m = nn.AdaptiveAvgPool2d((None, 7))\n",
        "output = m(image)\n",
        "print(output.shape)"
      ],
      "metadata": {
        "colab": {
          "base_uri": "https://localhost:8080/"
        },
        "id": "qo3KhDWruyHW",
        "outputId": "1b312e94-db9c-4f86-d54f-f046ab486a3e"
      },
      "execution_count": 123,
      "outputs": [
        {
          "output_type": "stream",
          "name": "stdout",
          "text": [
            "torch.Size([1, 128, 5, 7])\n",
            "torch.Size([1, 128, 7, 7])\n",
            "torch.Size([1, 128, 28, 7])\n"
          ]
        }
      ]
    }
  ]
}