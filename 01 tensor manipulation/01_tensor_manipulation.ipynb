{
  "nbformat": 4,
  "nbformat_minor": 0,
  "metadata": {
    "colab": {
      "name": "01 tensor manipulation.ipynb",
      "provenance": [],
      "collapsed_sections": []
    },
    "kernelspec": {
      "name": "python3",
      "display_name": "Python 3"
    }
  },
  "cells": [
    {
      "cell_type": "code",
      "metadata": {
        "id": "k8pyotBUrO8C"
      },
      "source": [
        "import torch"
      ],
      "execution_count": null,
      "outputs": []
    },
    {
      "cell_type": "code",
      "metadata": {
        "colab": {
          "base_uri": "https://localhost:8080/"
        },
        "id": "xvMZrQ4trQ9q",
        "outputId": "7ec94202-6a60-4b3e-ab52-947986e35c70"
      },
      "source": [
        "z = torch.Tensor(4, 5)\n",
        "z"
      ],
      "execution_count": null,
      "outputs": [
        {
          "output_type": "execute_result",
          "data": {
            "text/plain": [
              "tensor([[-2.2265e+30,  3.0878e-41,  7.0065e-44,  6.8664e-44,  6.3058e-44],\n",
              "        [ 6.7262e-44,  7.1466e-44,  6.3058e-44,  6.7262e-44,  7.2868e-44],\n",
              "        [ 1.1771e-43,  6.8664e-44,  6.8664e-44,  8.1275e-44,  7.2868e-44],\n",
              "        [ 7.8473e-44,  8.1275e-44,  7.0065e-44,  7.5670e-44,  6.4460e-44]])"
            ]
          },
          "metadata": {
            "tags": []
          },
          "execution_count": 2
        }
      ]
    },
    {
      "cell_type": "code",
      "metadata": {
        "colab": {
          "base_uri": "https://localhost:8080/"
        },
        "id": "pAjTkW8EraUt",
        "outputId": "d2f7a5ff-2666-46af-d8b3-8a9db5c2d43e"
      },
      "source": [
        "z.dtype"
      ],
      "execution_count": null,
      "outputs": [
        {
          "output_type": "execute_result",
          "data": {
            "text/plain": [
              "torch.float32"
            ]
          },
          "metadata": {
            "tags": []
          },
          "execution_count": 3
        }
      ]
    },
    {
      "cell_type": "code",
      "metadata": {
        "id": "wC3u8IIlrzPG"
      },
      "source": [
        "a = torch.FloatTensor(4, 5)\n",
        "b = torch.FloatTensor([[2, 4], [3, 5]])"
      ],
      "execution_count": null,
      "outputs": []
    },
    {
      "cell_type": "code",
      "metadata": {
        "colab": {
          "base_uri": "https://localhost:8080/"
        },
        "id": "KglutKveEnrM",
        "outputId": "2b7f0482-67fe-4574-b0c4-6624c21523f2"
      },
      "source": [
        "a"
      ],
      "execution_count": null,
      "outputs": [
        {
          "output_type": "execute_result",
          "data": {
            "text/plain": [
              "tensor([[-1.3108e+31,  3.0878e-41,  7.0065e-44,  6.8664e-44,  6.3058e-44],\n",
              "        [ 6.7262e-44,  7.1466e-44,  6.3058e-44,  6.7262e-44,  7.2868e-44],\n",
              "        [ 1.1771e-43,  6.8664e-44,  6.8664e-44,  8.1275e-44,  7.2868e-44],\n",
              "        [ 7.9874e-44,  8.1275e-44,  7.2868e-44,  7.2868e-44,  6.4460e-44]])"
            ]
          },
          "metadata": {
            "tags": []
          },
          "execution_count": 50
        }
      ]
    },
    {
      "cell_type": "code",
      "metadata": {
        "colab": {
          "base_uri": "https://localhost:8080/"
        },
        "id": "InVsXaN8Embr",
        "outputId": "4a39248d-06e1-46e1-91f8-d79b916d285d"
      },
      "source": [
        "b"
      ],
      "execution_count": null,
      "outputs": [
        {
          "output_type": "execute_result",
          "data": {
            "text/plain": [
              "tensor([[2., 4.],\n",
              "        [3., 5.]])"
            ]
          },
          "metadata": {
            "tags": []
          },
          "execution_count": 51
        }
      ]
    },
    {
      "cell_type": "code",
      "metadata": {
        "colab": {
          "base_uri": "https://localhost:8080/"
        },
        "id": "3_A1BcmbsbtX",
        "outputId": "983f7739-8928-4900-f901-5542e6932b24"
      },
      "source": [
        "a.dtype"
      ],
      "execution_count": null,
      "outputs": [
        {
          "output_type": "execute_result",
          "data": {
            "text/plain": [
              "torch.float32"
            ]
          },
          "metadata": {
            "tags": []
          },
          "execution_count": 52
        }
      ]
    },
    {
      "cell_type": "code",
      "metadata": {
        "colab": {
          "base_uri": "https://localhost:8080/"
        },
        "id": "qWAGsLelsi29",
        "outputId": "a6dadc22-beeb-43d5-b4fd-e101de87385d"
      },
      "source": [
        "b.dtype"
      ],
      "execution_count": null,
      "outputs": [
        {
          "output_type": "execute_result",
          "data": {
            "text/plain": [
              "torch.float32"
            ]
          },
          "metadata": {
            "tags": []
          },
          "execution_count": 53
        }
      ]
    },
    {
      "cell_type": "code",
      "metadata": {
        "colab": {
          "base_uri": "https://localhost:8080/"
        },
        "id": "7GE7FOoPsj2a",
        "outputId": "8ae4050f-88e4-46e8-af5e-d99a8cc2bfcb"
      },
      "source": [
        "a = torch.IntTensor(4, 5)\n",
        "b = torch.IntTensor([[2, 4], [3, 5]])"
      ],
      "execution_count": null,
      "outputs": [
        {
          "output_type": "execute_result",
          "data": {
            "text/plain": [
              "(tensor([[-236923008,      22035,         50,         49,         45],\n",
              "         [        48,         51,         45,         48,         52],\n",
              "         [        84,         49,         49,         58,         52],\n",
              "         [        56,         58,         50,         54,         46]],\n",
              "        dtype=torch.int32), tensor([[2, 4],\n",
              "         [3, 5]], dtype=torch.int32))"
            ]
          },
          "metadata": {
            "tags": []
          },
          "execution_count": 7
        }
      ]
    },
    {
      "cell_type": "code",
      "metadata": {
        "colab": {
          "base_uri": "https://localhost:8080/"
        },
        "id": "XeY9SEFlEqpJ",
        "outputId": "7f714975-4c96-45c2-c6df-b8ad9621d71f"
      },
      "source": [
        "a"
      ],
      "execution_count": null,
      "outputs": [
        {
          "output_type": "execute_result",
          "data": {
            "text/plain": [
              "tensor([[-1.3108e+31,  3.0878e-41,  7.0065e-44,  6.8664e-44,  6.3058e-44],\n",
              "        [ 6.7262e-44,  7.1466e-44,  6.3058e-44,  6.7262e-44,  7.2868e-44],\n",
              "        [ 1.1771e-43,  6.8664e-44,  6.8664e-44,  8.1275e-44,  7.2868e-44],\n",
              "        [ 7.9874e-44,  8.1275e-44,  7.2868e-44,  7.2868e-44,  6.4460e-44]])"
            ]
          },
          "metadata": {
            "tags": []
          },
          "execution_count": 54
        }
      ]
    },
    {
      "cell_type": "code",
      "metadata": {
        "colab": {
          "base_uri": "https://localhost:8080/"
        },
        "id": "XohF7tl_Erve",
        "outputId": "39181173-6de5-4fcf-c273-0cfea5eab102"
      },
      "source": [
        "b"
      ],
      "execution_count": null,
      "outputs": [
        {
          "output_type": "execute_result",
          "data": {
            "text/plain": [
              "tensor([[2., 4.],\n",
              "        [3., 5.]])"
            ]
          },
          "metadata": {
            "tags": []
          },
          "execution_count": 55
        }
      ]
    },
    {
      "cell_type": "code",
      "metadata": {
        "colab": {
          "base_uri": "https://localhost:8080/"
        },
        "id": "SHRdUx2r4VPq",
        "outputId": "7fb767f1-9622-45b0-b048-f7b59f5850f6"
      },
      "source": [
        "y = a + z\n",
        "y"
      ],
      "execution_count": null,
      "outputs": [
        {
          "output_type": "execute_result",
          "data": {
            "text/plain": [
              "tensor([[-1.5335e+31,  6.1755e-41,  1.4013e-43,  1.3733e-43,  1.2612e-43],\n",
              "        [ 1.3452e-43,  1.4293e-43,  1.2612e-43,  1.3452e-43,  1.4574e-43],\n",
              "        [ 2.3542e-43,  1.3733e-43,  1.3733e-43,  1.6255e-43,  1.4574e-43],\n",
              "        [ 1.5835e-43,  1.6255e-43,  1.4293e-43,  1.4854e-43,  1.2892e-43]])"
            ]
          },
          "metadata": {
            "tags": []
          },
          "execution_count": 56
        }
      ]
    },
    {
      "cell_type": "code",
      "metadata": {
        "colab": {
          "base_uri": "https://localhost:8080/"
        },
        "id": "kkReAyON4pay",
        "outputId": "d03299ec-60e1-4117-b7e0-76168428b478"
      },
      "source": [
        "y.dtype"
      ],
      "execution_count": null,
      "outputs": [
        {
          "output_type": "execute_result",
          "data": {
            "text/plain": [
              "torch.float32"
            ]
          },
          "metadata": {
            "tags": []
          },
          "execution_count": 57
        }
      ]
    },
    {
      "cell_type": "code",
      "metadata": {
        "colab": {
          "base_uri": "https://localhost:8080/"
        },
        "id": "42v47RbC4xt2",
        "outputId": "043e9b7f-f699-40f8-beda-dc3d91eb7aef"
      },
      "source": [
        "torch.add(a, z)"
      ],
      "execution_count": null,
      "outputs": [
        {
          "output_type": "execute_result",
          "data": {
            "text/plain": [
              "tensor([[-1.5335e+31,  6.1755e-41,  1.4013e-43,  1.3733e-43,  1.2612e-43],\n",
              "        [ 1.3452e-43,  1.4293e-43,  1.2612e-43,  1.3452e-43,  1.4574e-43],\n",
              "        [ 2.3542e-43,  1.3733e-43,  1.3733e-43,  1.6255e-43,  1.4574e-43],\n",
              "        [ 1.5835e-43,  1.6255e-43,  1.4293e-43,  1.4854e-43,  1.2892e-43]])"
            ]
          },
          "metadata": {
            "tags": []
          },
          "execution_count": 58
        }
      ]
    },
    {
      "cell_type": "code",
      "metadata": {
        "colab": {
          "base_uri": "https://localhost:8080/"
        },
        "id": "akrBUQEC5AzW",
        "outputId": "e8709d69-d430-4354-8fe2-6e909a58fb65"
      },
      "source": [
        "a = torch.rand(4, 5)\n",
        "a"
      ],
      "execution_count": null,
      "outputs": [
        {
          "output_type": "execute_result",
          "data": {
            "text/plain": [
              "tensor([[0.5662, 0.3340, 0.3637, 0.6589, 0.4047],\n",
              "        [0.7796, 0.6923, 0.3761, 0.2988, 0.8019],\n",
              "        [0.0608, 0.7104, 0.2265, 0.2430, 0.0540],\n",
              "        [0.4433, 0.9275, 0.1360, 0.1504, 0.3233]])"
            ]
          },
          "metadata": {
            "tags": []
          },
          "execution_count": 59
        }
      ]
    },
    {
      "cell_type": "code",
      "metadata": {
        "colab": {
          "base_uri": "https://localhost:8080/"
        },
        "id": "o7P2usAc5ONh",
        "outputId": "c4999822-9a52-4d86-91b8-b711989f7c7c"
      },
      "source": [
        "a.dtype"
      ],
      "execution_count": null,
      "outputs": [
        {
          "output_type": "execute_result",
          "data": {
            "text/plain": [
              "torch.float32"
            ]
          },
          "metadata": {
            "tags": []
          },
          "execution_count": 60
        }
      ]
    },
    {
      "cell_type": "code",
      "metadata": {
        "colab": {
          "base_uri": "https://localhost:8080/"
        },
        "id": "YY_KPPS45axB",
        "outputId": "b27337b2-70f9-404e-8179-884a35f1a87a"
      },
      "source": [
        "b = a.numpy()\n",
        "b"
      ],
      "execution_count": null,
      "outputs": [
        {
          "output_type": "execute_result",
          "data": {
            "text/plain": [
              "array([[0.5662462 , 0.33399266, 0.3636843 , 0.6588772 , 0.40472096],\n",
              "       [0.7795508 , 0.69228077, 0.37605894, 0.29876608, 0.8018946 ],\n",
              "       [0.06076509, 0.7104141 , 0.22653908, 0.24303794, 0.05397725],\n",
              "       [0.44328988, 0.9275205 , 0.13598108, 0.1504373 , 0.3233266 ]],\n",
              "      dtype=float32)"
            ]
          },
          "metadata": {
            "tags": []
          },
          "execution_count": 61
        }
      ]
    },
    {
      "cell_type": "code",
      "metadata": {
        "id": "NkhXk9Ds5tWF"
      },
      "source": [
        "import numpy as np"
      ],
      "execution_count": null,
      "outputs": []
    },
    {
      "cell_type": "code",
      "metadata": {
        "colab": {
          "base_uri": "https://localhost:8080/"
        },
        "id": "O8Cwh4uG5zLi",
        "outputId": "f0fdc6c7-6c87-4b85-c6f5-0817b4334e6c"
      },
      "source": [
        "a = np.ones(5)\n",
        "b = torch.from_numpy(a)"
      ],
      "execution_count": null,
      "outputs": [
        {
          "output_type": "execute_result",
          "data": {
            "text/plain": [
              "(array([1., 1., 1., 1., 1.]),\n",
              " tensor([1., 1., 1., 1., 1.], dtype=torch.float64))"
            ]
          },
          "metadata": {
            "tags": []
          },
          "execution_count": 15
        }
      ]
    },
    {
      "cell_type": "code",
      "metadata": {
        "colab": {
          "base_uri": "https://localhost:8080/"
        },
        "id": "-0FZZ2Y3EvF4",
        "outputId": "249e436d-f75f-4b85-8ebb-0a3771d2b87e"
      },
      "source": [
        "a"
      ],
      "execution_count": null,
      "outputs": [
        {
          "output_type": "execute_result",
          "data": {
            "text/plain": [
              "tensor([[0.5662, 0.3340, 0.3637, 0.6589, 0.4047],\n",
              "        [0.7796, 0.6923, 0.3761, 0.2988, 0.8019],\n",
              "        [0.0608, 0.7104, 0.2265, 0.2430, 0.0540],\n",
              "        [0.4433, 0.9275, 0.1360, 0.1504, 0.3233]])"
            ]
          },
          "metadata": {
            "tags": []
          },
          "execution_count": 65
        }
      ]
    },
    {
      "cell_type": "code",
      "metadata": {
        "colab": {
          "base_uri": "https://localhost:8080/"
        },
        "id": "dvyQyCGUEwGu",
        "outputId": "db2774e5-8a7a-4125-85d2-e40ce7bff49f"
      },
      "source": [
        "b"
      ],
      "execution_count": null,
      "outputs": [
        {
          "output_type": "execute_result",
          "data": {
            "text/plain": [
              "array([[0.5662462 , 0.33399266, 0.3636843 , 0.6588772 , 0.40472096],\n",
              "       [0.7795508 , 0.69228077, 0.37605894, 0.29876608, 0.8018946 ],\n",
              "       [0.06076509, 0.7104141 , 0.22653908, 0.24303794, 0.05397725],\n",
              "       [0.44328988, 0.9275205 , 0.13598108, 0.1504373 , 0.3233266 ]],\n",
              "      dtype=float32)"
            ]
          },
          "metadata": {
            "tags": []
          },
          "execution_count": 66
        }
      ]
    },
    {
      "cell_type": "code",
      "metadata": {
        "colab": {
          "base_uri": "https://localhost:8080/",
          "height": 181
        },
        "id": "SDt0cenz6BdO",
        "outputId": "a9e171ed-6a55-4d0f-d7bb-319568d1cc51"
      },
      "source": [
        ""
      ],
      "execution_count": null,
      "outputs": [
        {
          "output_type": "error",
          "ename": "TypeError",
          "evalue": "ignored",
          "traceback": [
            "\u001b[0;31m---------------------------------------------------------------------------\u001b[0m",
            "\u001b[0;31mTypeError\u001b[0m                                 Traceback (most recent call last)",
            "\u001b[0;32m<ipython-input-67-e9b00c1f11c1>\u001b[0m in \u001b[0;36m<module>\u001b[0;34m()\u001b[0m\n\u001b[0;32m----> 1\u001b[0;31m \u001b[0mnp\u001b[0m\u001b[0;34m.\u001b[0m\u001b[0madd\u001b[0m\u001b[0;34m(\u001b[0m\u001b[0ma\u001b[0m\u001b[0;34m,\u001b[0m \u001b[0;36m1\u001b[0m\u001b[0;34m,\u001b[0m \u001b[0mout\u001b[0m\u001b[0;34m=\u001b[0m\u001b[0ma\u001b[0m\u001b[0;34m)\u001b[0m\u001b[0;34m\u001b[0m\u001b[0;34m\u001b[0m\u001b[0m\n\u001b[0m\u001b[1;32m      2\u001b[0m \u001b[0ma\u001b[0m\u001b[0;34m,\u001b[0m \u001b[0mb\u001b[0m\u001b[0;34m\u001b[0m\u001b[0;34m\u001b[0m\u001b[0m\n",
            "\u001b[0;31mTypeError\u001b[0m: return arrays must be of ArrayType"
          ]
        }
      ]
    },
    {
      "cell_type": "code",
      "metadata": {
        "id": "DVvLK8ZyE0B-"
      },
      "source": [
        "a"
      ],
      "execution_count": null,
      "outputs": []
    },
    {
      "cell_type": "code",
      "metadata": {
        "colab": {
          "base_uri": "https://localhost:8080/"
        },
        "id": "kMnm_SbE6Xda",
        "outputId": "2f7a5036-a7be-4173-eac4-b2ed39d4ddf9"
      },
      "source": [
        "c = b + torch.FloatTensor([1,2,3,4,5])\n",
        "c.dtype"
      ],
      "execution_count": null,
      "outputs": [
        {
          "output_type": "execute_result",
          "data": {
            "text/plain": [
              "torch.float64"
            ]
          },
          "metadata": {
            "tags": []
          },
          "execution_count": 17
        }
      ]
    },
    {
      "cell_type": "code",
      "metadata": {
        "colab": {
          "base_uri": "https://localhost:8080/"
        },
        "id": "mn-fLT0K7DFM",
        "outputId": "2bbf169e-ebec-4774-f37e-ba605168760b"
      },
      "source": [
        "c = c.float()\n",
        "c.dtype"
      ],
      "execution_count": null,
      "outputs": [
        {
          "output_type": "execute_result",
          "data": {
            "text/plain": [
              "torch.float32"
            ]
          },
          "metadata": {
            "tags": []
          },
          "execution_count": 18
        }
      ]
    },
    {
      "cell_type": "code",
      "metadata": {
        "colab": {
          "base_uri": "https://localhost:8080/"
        },
        "id": "9NfvyRyS7K5o",
        "outputId": "402473e2-e5d3-487c-b54c-b3974b885e93"
      },
      "source": [
        "c = c.double()\n",
        "c.dtype"
      ],
      "execution_count": null,
      "outputs": [
        {
          "output_type": "execute_result",
          "data": {
            "text/plain": [
              "torch.float64"
            ]
          },
          "metadata": {
            "tags": []
          },
          "execution_count": 19
        }
      ]
    },
    {
      "cell_type": "code",
      "metadata": {
        "colab": {
          "base_uri": "https://localhost:8080/"
        },
        "id": "vQv4S8DB7R6X",
        "outputId": "ea81cd39-bb62-4480-cf1a-aa3952b62f61"
      },
      "source": [
        "c = c.int()\n",
        "c.dtype"
      ],
      "execution_count": null,
      "outputs": [
        {
          "output_type": "execute_result",
          "data": {
            "text/plain": [
              "torch.int32"
            ]
          },
          "metadata": {
            "tags": []
          },
          "execution_count": 20
        }
      ]
    },
    {
      "cell_type": "code",
      "metadata": {
        "colab": {
          "base_uri": "https://localhost:8080/"
        },
        "id": "RzIHQHKt7cWO",
        "outputId": "73590bd4-4011-4e39-e080-2297f04bd268"
      },
      "source": [
        "x = torch.zeros([2, 1, 2, 1, 2])\n",
        "x.size()"
      ],
      "execution_count": null,
      "outputs": [
        {
          "output_type": "execute_result",
          "data": {
            "text/plain": [
              "torch.Size([2, 1, 2, 1, 2])"
            ]
          },
          "metadata": {
            "tags": []
          },
          "execution_count": 21
        }
      ]
    },
    {
      "cell_type": "code",
      "metadata": {
        "colab": {
          "base_uri": "https://localhost:8080/"
        },
        "id": "07dr2Hlq75sT",
        "outputId": "3fbd8dd4-6281-4a88-e477-d8ff2df8ebde"
      },
      "source": [
        "x"
      ],
      "execution_count": null,
      "outputs": [
        {
          "output_type": "execute_result",
          "data": {
            "text/plain": [
              "tensor([[[[[0., 0.]],\n",
              "\n",
              "          [[0., 0.]]]],\n",
              "\n",
              "\n",
              "\n",
              "        [[[[0., 0.]],\n",
              "\n",
              "          [[0., 0.]]]]])"
            ]
          },
          "metadata": {
            "tags": []
          },
          "execution_count": 22
        }
      ]
    },
    {
      "cell_type": "code",
      "metadata": {
        "colab": {
          "base_uri": "https://localhost:8080/"
        },
        "id": "-6m9784W8JzL",
        "outputId": "fcf0e7bf-6d76-4bc5-e877-5e883a132e07"
      },
      "source": [
        "y = torch.squeeze(x)\n",
        "y.size(), y"
      ],
      "execution_count": null,
      "outputs": [
        {
          "output_type": "execute_result",
          "data": {
            "text/plain": [
              "(torch.Size([2, 2, 2]), tensor([[[0., 0.],\n",
              "          [0., 0.]],\n",
              " \n",
              "         [[0., 0.],\n",
              "          [0., 0.]]]))"
            ]
          },
          "metadata": {
            "tags": []
          },
          "execution_count": 23
        }
      ]
    },
    {
      "cell_type": "code",
      "metadata": {
        "colab": {
          "base_uri": "https://localhost:8080/"
        },
        "id": "uCrCbprT8d2K",
        "outputId": "e991517a-f7eb-4670-8edf-886eac5f0d05"
      },
      "source": [
        "y = torch.squeeze(x, 0)\n",
        "y.size()"
      ],
      "execution_count": null,
      "outputs": [
        {
          "output_type": "execute_result",
          "data": {
            "text/plain": [
              "torch.Size([2, 1, 2, 1, 2])"
            ]
          },
          "metadata": {
            "tags": []
          },
          "execution_count": 24
        }
      ]
    },
    {
      "cell_type": "code",
      "metadata": {
        "colab": {
          "base_uri": "https://localhost:8080/"
        },
        "id": "jBKiYbnx97VA",
        "outputId": "dc25faa4-8b60-4e9d-d152-0f66fcea1585"
      },
      "source": [
        "y = torch.squeeze(y, 1)\n",
        "y.size()"
      ],
      "execution_count": null,
      "outputs": [
        {
          "output_type": "execute_result",
          "data": {
            "text/plain": [
              "torch.Size([2, 2, 1, 2])"
            ]
          },
          "metadata": {
            "tags": []
          },
          "execution_count": 25
        }
      ]
    },
    {
      "cell_type": "code",
      "metadata": {
        "colab": {
          "base_uri": "https://localhost:8080/"
        },
        "id": "Sr9FofWh98ie",
        "outputId": "da7742fb-2597-4e9e-cf3c-b45c94e68bf3"
      },
      "source": [
        "y = torch.squeeze(y, 2)\n",
        "y.size()"
      ],
      "execution_count": null,
      "outputs": [
        {
          "output_type": "execute_result",
          "data": {
            "text/plain": [
              "torch.Size([2, 2, 2])"
            ]
          },
          "metadata": {
            "tags": []
          },
          "execution_count": 26
        }
      ]
    },
    {
      "cell_type": "code",
      "metadata": {
        "colab": {
          "base_uri": "https://localhost:8080/"
        },
        "id": "SNnYs9lg-HrU",
        "outputId": "ac1fa9d8-c4cf-4775-b4ba-8dee147ff5a4"
      },
      "source": [
        "torch.abs(torch.FloatTensor([-1, -2, 3]))"
      ],
      "execution_count": null,
      "outputs": [
        {
          "output_type": "execute_result",
          "data": {
            "text/plain": [
              "tensor([1., 2., 3.])"
            ]
          },
          "metadata": {
            "tags": []
          },
          "execution_count": 27
        }
      ]
    },
    {
      "cell_type": "code",
      "metadata": {
        "colab": {
          "base_uri": "https://localhost:8080/"
        },
        "id": "0NgDGLyi-oou",
        "outputId": "e9522567-7a09-49b1-bdf9-03e9297669d4"
      },
      "source": [
        "a = torch.randn(4)\n",
        "a"
      ],
      "execution_count": null,
      "outputs": [
        {
          "output_type": "execute_result",
          "data": {
            "text/plain": [
              "tensor([-0.3870, -0.7763, -2.4466,  1.4560])"
            ]
          },
          "metadata": {
            "tags": []
          },
          "execution_count": 28
        }
      ]
    },
    {
      "cell_type": "code",
      "metadata": {
        "colab": {
          "base_uri": "https://localhost:8080/"
        },
        "id": "7Ovg7xBX-3XO",
        "outputId": "48a136ab-cb5d-4ab6-a4d8-f1c62623322f"
      },
      "source": [
        "b = torch.add(a, 20)\n",
        "b"
      ],
      "execution_count": null,
      "outputs": [
        {
          "output_type": "execute_result",
          "data": {
            "text/plain": [
              "tensor([19.6130, 19.2237, 17.5534, 21.4560])"
            ]
          },
          "metadata": {
            "tags": []
          },
          "execution_count": 29
        }
      ]
    },
    {
      "cell_type": "code",
      "metadata": {
        "colab": {
          "base_uri": "https://localhost:8080/"
        },
        "id": "hVcHbLry_Cnq",
        "outputId": "f8cbd0c0-cdd1-4513-bc3a-09c1207b21d4"
      },
      "source": [
        "c = torch.mul(a, 0.1)\n",
        "c"
      ],
      "execution_count": null,
      "outputs": [
        {
          "output_type": "execute_result",
          "data": {
            "text/plain": [
              "tensor([-0.0387, -0.0776, -0.2447,  0.1456])"
            ]
          },
          "metadata": {
            "tags": []
          },
          "execution_count": 30
        }
      ]
    },
    {
      "cell_type": "code",
      "metadata": {
        "colab": {
          "base_uri": "https://localhost:8080/"
        },
        "id": "vbCT-tL2_MuS",
        "outputId": "4f6544ef-4d71-4311-a461-519027f80a8c"
      },
      "source": [
        "d = torch.mul(a, b)\n",
        "d"
      ],
      "execution_count": null,
      "outputs": [
        {
          "output_type": "execute_result",
          "data": {
            "text/plain": [
              "tensor([ -7.5900, -14.9237, -42.9465,  31.2395])"
            ]
          },
          "metadata": {
            "tags": []
          },
          "execution_count": 31
        }
      ]
    },
    {
      "cell_type": "code",
      "metadata": {
        "colab": {
          "base_uri": "https://localhost:8080/"
        },
        "id": "0q_PM7lh_aIW",
        "outputId": "3964b5a8-75de-4cf7-8789-1f648130e0f3"
      },
      "source": [
        "x = torch.rand(2, 3)\n",
        "y = torch.rand(3, 2)\n",
        "x, y"
      ],
      "execution_count": null,
      "outputs": [
        {
          "output_type": "execute_result",
          "data": {
            "text/plain": [
              "(tensor([[0.0302, 0.7010, 0.4771],\n",
              "         [0.0294, 0.2630, 0.0467]]), tensor([[0.9685, 0.7876],\n",
              "         [0.8229, 0.5334],\n",
              "         [0.2337, 0.1866]]))"
            ]
          },
          "metadata": {
            "tags": []
          },
          "execution_count": 32
        }
      ]
    },
    {
      "cell_type": "code",
      "metadata": {
        "colab": {
          "base_uri": "https://localhost:8080/"
        },
        "id": "gsowd0K3_rcD",
        "outputId": "9bd183d1-e628-4d69-8ff8-3caf3eacdb09"
      },
      "source": [
        "d = torch.matmul(x, y)\n",
        "d"
      ],
      "execution_count": null,
      "outputs": [
        {
          "output_type": "execute_result",
          "data": {
            "text/plain": [
              "tensor([[0.7176, 0.4867],\n",
              "        [0.2558, 0.1721]])"
            ]
          },
          "metadata": {
            "tags": []
          },
          "execution_count": 33
        }
      ]
    },
    {
      "cell_type": "code",
      "metadata": {
        "colab": {
          "base_uri": "https://localhost:8080/"
        },
        "id": "tdXRsBgT_9T1",
        "outputId": "bf315687-b0d9-41aa-d706-cc79300e02d1"
      },
      "source": [
        "d = torch.matmul(y, x)\n",
        "d"
      ],
      "execution_count": null,
      "outputs": [
        {
          "output_type": "execute_result",
          "data": {
            "text/plain": [
              "tensor([[0.0524, 0.8861, 0.4989],\n",
              "        [0.0405, 0.7171, 0.4175],\n",
              "        [0.0125, 0.2129, 0.1202]])"
            ]
          },
          "metadata": {
            "tags": []
          },
          "execution_count": 34
        }
      ]
    },
    {
      "cell_type": "code",
      "metadata": {
        "colab": {
          "base_uri": "https://localhost:8080/"
        },
        "id": "y7QLQG4BALXR",
        "outputId": "95a56a73-2afc-410b-f9b5-9a55dfdfb449"
      },
      "source": [
        "y.size()"
      ],
      "execution_count": null,
      "outputs": [
        {
          "output_type": "execute_result",
          "data": {
            "text/plain": [
              "torch.Size([3, 2])"
            ]
          },
          "metadata": {
            "tags": []
          },
          "execution_count": 35
        }
      ]
    },
    {
      "cell_type": "code",
      "metadata": {
        "colab": {
          "base_uri": "https://localhost:8080/"
        },
        "id": "YG19dNq9AsWw",
        "outputId": "1d07ce86-b2da-4dbe-efb1-5e8b13882acd"
      },
      "source": [
        "y.mean()"
      ],
      "execution_count": null,
      "outputs": [
        {
          "output_type": "execute_result",
          "data": {
            "text/plain": [
              "tensor(0.5888)"
            ]
          },
          "metadata": {
            "tags": []
          },
          "execution_count": 36
        }
      ]
    },
    {
      "cell_type": "code",
      "metadata": {
        "colab": {
          "base_uri": "https://localhost:8080/"
        },
        "id": "GbvuBQ4PA1Tc",
        "outputId": "7b245e80-a14c-4f7c-f13c-4b2b07682b44"
      },
      "source": [
        "k = y.mean()\n",
        "k.data.dtype"
      ],
      "execution_count": null,
      "outputs": [
        {
          "output_type": "execute_result",
          "data": {
            "text/plain": [
              "torch.float32"
            ]
          },
          "metadata": {
            "tags": []
          },
          "execution_count": 37
        }
      ]
    },
    {
      "cell_type": "code",
      "metadata": {
        "colab": {
          "base_uri": "https://localhost:8080/"
        },
        "id": "AmSuMB9QBGz2",
        "outputId": "87dd0c02-bfda-4109-cec8-a84ee505bd42"
      },
      "source": [
        "torch.mean(y)"
      ],
      "execution_count": null,
      "outputs": [
        {
          "output_type": "execute_result",
          "data": {
            "text/plain": [
              "tensor(0.5888)"
            ]
          },
          "metadata": {
            "tags": []
          },
          "execution_count": 38
        }
      ]
    },
    {
      "cell_type": "code",
      "metadata": {
        "colab": {
          "base_uri": "https://localhost:8080/"
        },
        "id": "CT1jiW1DBWb8",
        "outputId": "4b95195e-acf1-4bda-b1c7-40afc89edf8b"
      },
      "source": [
        "torch.mean(y, 0)"
      ],
      "execution_count": null,
      "outputs": [
        {
          "output_type": "execute_result",
          "data": {
            "text/plain": [
              "tensor([0.6750, 0.5025])"
            ]
          },
          "metadata": {
            "tags": []
          },
          "execution_count": 39
        }
      ]
    },
    {
      "cell_type": "code",
      "metadata": {
        "colab": {
          "base_uri": "https://localhost:8080/"
        },
        "id": "p7va4DqNBgiC",
        "outputId": "1bc2f693-0238-4dcb-ca75-532b9a2f1b54"
      },
      "source": [
        "torch.mean(y, 1)"
      ],
      "execution_count": null,
      "outputs": [
        {
          "output_type": "execute_result",
          "data": {
            "text/plain": [
              "tensor([0.8780, 0.6781, 0.2101])"
            ]
          },
          "metadata": {
            "tags": []
          },
          "execution_count": 40
        }
      ]
    },
    {
      "cell_type": "code",
      "metadata": {
        "colab": {
          "base_uri": "https://localhost:8080/"
        },
        "id": "mWgA32SiCD-Z",
        "outputId": "a3b46e4e-1554-472a-9c58-989fee9ef70a"
      },
      "source": [
        "y"
      ],
      "execution_count": null,
      "outputs": [
        {
          "output_type": "execute_result",
          "data": {
            "text/plain": [
              "tensor([[0.9685, 0.7876],\n",
              "        [0.8229, 0.5334],\n",
              "        [0.2337, 0.1866]])"
            ]
          },
          "metadata": {
            "tags": []
          },
          "execution_count": 41
        }
      ]
    },
    {
      "cell_type": "code",
      "metadata": {
        "colab": {
          "base_uri": "https://localhost:8080/"
        },
        "id": "M59BErBRCiGM",
        "outputId": "de5f984e-75b1-4119-eb42-983aa2d2902e"
      },
      "source": [
        "x = torch.Tensor([\n",
        "  [1, 2],\n",
        "  [3, 4],\n",
        "])\n",
        "\n",
        "y = torch.Tensor([\n",
        "  [1, 1],\n",
        "  [4, 4]\n",
        "])\n",
        "\n",
        "x, y"
      ],
      "execution_count": null,
      "outputs": [
        {
          "output_type": "execute_result",
          "data": {
            "text/plain": [
              "(tensor([[1., 2.],\n",
              "         [3., 4.]]), tensor([[1., 1.],\n",
              "         [4., 4.]]))"
            ]
          },
          "metadata": {
            "tags": []
          },
          "execution_count": 42
        }
      ]
    },
    {
      "cell_type": "code",
      "metadata": {
        "colab": {
          "base_uri": "https://localhost:8080/"
        },
        "id": "iDajz3i9DEz0",
        "outputId": "5ad65290-eda4-463e-c47e-08380b89d30b"
      },
      "source": [
        "torch.eq(x, y)"
      ],
      "execution_count": null,
      "outputs": [
        {
          "output_type": "execute_result",
          "data": {
            "text/plain": [
              "tensor([[ True, False],\n",
              "        [False,  True]])"
            ]
          },
          "metadata": {
            "tags": []
          },
          "execution_count": 43
        }
      ]
    },
    {
      "cell_type": "code",
      "metadata": {
        "colab": {
          "base_uri": "https://localhost:8080/"
        },
        "id": "p3VyQTPDDNUf",
        "outputId": "11bfe713-739b-44bb-9c69-c8866ed8d554"
      },
      "source": [
        "torch.equal(y, y)"
      ],
      "execution_count": null,
      "outputs": [
        {
          "output_type": "execute_result",
          "data": {
            "text/plain": [
              "True"
            ]
          },
          "metadata": {
            "tags": []
          },
          "execution_count": 44
        }
      ]
    },
    {
      "cell_type": "code",
      "metadata": {
        "colab": {
          "base_uri": "https://localhost:8080/"
        },
        "id": "AyZmUkV9DaIV",
        "outputId": "3a4874d5-78f9-4b89-b13d-0ea7180a0697"
      },
      "source": [
        "torch.ge(x, y)"
      ],
      "execution_count": null,
      "outputs": [
        {
          "output_type": "execute_result",
          "data": {
            "text/plain": [
              "tensor([[ True,  True],\n",
              "        [False,  True]])"
            ]
          },
          "metadata": {
            "tags": []
          },
          "execution_count": 45
        }
      ]
    },
    {
      "cell_type": "code",
      "metadata": {
        "colab": {
          "base_uri": "https://localhost:8080/"
        },
        "id": "ZGF_Gvt_DeBD",
        "outputId": "c5f0c11a-bf0a-450c-c4a0-61e195744474"
      },
      "source": [
        "torch.le(x, y)"
      ],
      "execution_count": null,
      "outputs": [
        {
          "output_type": "execute_result",
          "data": {
            "text/plain": [
              "tensor([[ True, False],\n",
              "        [ True,  True]])"
            ]
          },
          "metadata": {
            "tags": []
          },
          "execution_count": 46
        }
      ]
    },
    {
      "cell_type": "code",
      "metadata": {
        "colab": {
          "base_uri": "https://localhost:8080/"
        },
        "id": "xqdv0u28Dr6T",
        "outputId": "c840171a-ec04-47e3-b10c-695b72d72f65"
      },
      "source": [
        "torch.gt(x, y)"
      ],
      "execution_count": null,
      "outputs": [
        {
          "output_type": "execute_result",
          "data": {
            "text/plain": [
              "tensor([[False,  True],\n",
              "        [False, False]])"
            ]
          },
          "metadata": {
            "tags": []
          },
          "execution_count": 47
        }
      ]
    }
  ]
}