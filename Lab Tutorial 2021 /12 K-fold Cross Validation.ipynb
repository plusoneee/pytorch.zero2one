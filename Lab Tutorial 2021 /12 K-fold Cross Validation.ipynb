{
  "nbformat": 4,
  "nbformat_minor": 0,
  "metadata": {
    "colab": {
      "name": "K-fold Cross Validation.ipynb",
      "provenance": [],
      "collapsed_sections": []
    },
    "kernelspec": {
      "name": "python3",
      "display_name": "Python 3"
    },
    "language_info": {
      "name": "python"
    },
    "accelerator": "GPU"
  },
  "cells": [
    {
      "cell_type": "markdown",
      "metadata": {
        "id": "qkRsD5qjZhhn"
      },
      "source": [
        "# K-fold Cross Validation"
      ]
    },
    {
      "cell_type": "markdown",
      "metadata": {
        "id": "3Ege3cQBZkfn"
      },
      "source": [
        "## Import"
      ]
    },
    {
      "cell_type": "code",
      "metadata": {
        "colab": {
          "base_uri": "https://localhost:8080/"
        },
        "id": "4WGxOAnwV73X",
        "outputId": "faa97a38-d001-412c-c142-f76e04a2f3ab"
      },
      "source": [
        "import torch\n",
        "\n",
        "from torchvision.datasets import MNIST\n",
        "from torchvision import transforms\n",
        "from torch.utils.data import DataLoader, ConcatDataset, SubsetRandomSampler\n",
        "import torch.nn as nn\n",
        "import torch.optim as opt\n",
        "from torch.autograd import Variable\n",
        "from sklearn.model_selection import KFold\n",
        "\n",
        "print(torch.__version__)"
      ],
      "execution_count": 1,
      "outputs": [
        {
          "output_type": "stream",
          "name": "stdout",
          "text": [
            "1.9.0+cu102\n"
          ]
        }
      ]
    },
    {
      "cell_type": "markdown",
      "metadata": {
        "id": "JxnbIzVqZl98"
      },
      "source": [
        "## Set the Device"
      ]
    },
    {
      "cell_type": "code",
      "metadata": {
        "id": "1t_lIm-pZec-"
      },
      "source": [
        "torch.cuda.get_device_name()\n",
        "device = torch.device('cuda' if torch.cuda.is_available() else 'cpu')"
      ],
      "execution_count": 2,
      "outputs": []
    },
    {
      "cell_type": "markdown",
      "metadata": {
        "id": "QGiO6RHBZyc-"
      },
      "source": [
        "## Dataset - MNIS"
      ]
    },
    {
      "cell_type": "code",
      "metadata": {
        "colab": {
          "base_uri": "https://localhost:8080/"
        },
        "id": "-Q9ehQnOZqlZ",
        "outputId": "4e0a29ca-f347-46d8-8782-11102fd42519"
      },
      "source": [
        "train_dataset = MNIST(root = './data', train=True, download=True, transform=transforms.ToTensor())\n",
        "test_dataset= MNIST(root = './data', train=False, download=False, transform=transforms.ToTensor())\n",
        "\n",
        "dataset = ConcatDataset([train_dataset, test_dataset])"
      ],
      "execution_count": 3,
      "outputs": [
        {
          "output_type": "stream",
          "name": "stderr",
          "text": [
            "/usr/local/lib/python3.7/dist-packages/torchvision/datasets/mnist.py:498: UserWarning: The given NumPy array is not writeable, and PyTorch does not support non-writeable tensors. This means you can write to the underlying (supposedly non-writeable) NumPy array using the tensor. You may want to copy the array to protect its data or make it writeable before converting it to a tensor. This type of warning will be suppressed for the rest of this program. (Triggered internally at  /pytorch/torch/csrc/utils/tensor_numpy.cpp:180.)\n",
            "  return torch.from_numpy(parsed.astype(m[2], copy=False)).view(*s)\n"
          ]
        }
      ]
    },
    {
      "cell_type": "markdown",
      "metadata": {
        "id": "5N7o84CxaIVD"
      },
      "source": [
        "## Model - CNN"
      ]
    },
    {
      "cell_type": "code",
      "metadata": {
        "id": "ETMYprKeaBvI"
      },
      "source": [
        "class CNN(nn.Module):\n",
        "    def __init__(self):\n",
        "        super(CNN, self).__init__()\n",
        "        self.conv_layers = nn.Sequential(\n",
        "            nn.Conv2d(in_channels=1, out_channels=64, kernel_size=3, stride=1, padding=1),\n",
        "            nn.ReLU(),\n",
        "            nn.Conv2d(in_channels=64, out_channels=128, kernel_size=3, padding=1),\n",
        "            nn.ReLU(),\n",
        "            nn.MaxPool2d(stride=2, kernel_size=2)\n",
        "        )\n",
        "        \n",
        "        self.dense = nn.Sequential(\n",
        "            nn.Linear(in_features=14*14*128, out_features=1024),\n",
        "            nn.ReLU(),\n",
        "            nn.Linear(1024, 10)\n",
        "        )\n",
        "\n",
        "\n",
        "    def init_weights(self):\n",
        "        for m in self.modules():\n",
        "            if isinstance(m, nn.Conv2d) or isinstance(m, nn.Linear):\n",
        "                m.reset_parameters()\n",
        "\n",
        "    def forward(self, x):\n",
        "        output = self.conv_layers(x)\n",
        "        output = output.view(-1, 14*14*128)\n",
        "        output = self.dense(output)\n",
        "        return output"
      ],
      "execution_count": 4,
      "outputs": []
    },
    {
      "cell_type": "code",
      "metadata": {
        "id": "ocYlqbSKcZsN"
      },
      "source": [
        "# model = CNN()\n",
        "# model.init_weights()\n",
        "# model.to(device)"
      ],
      "execution_count": 5,
      "outputs": []
    },
    {
      "cell_type": "markdown",
      "metadata": {
        "id": "EGE0JRIPetOO"
      },
      "source": [
        "## Run K-Fold Cross Validation"
      ]
    },
    {
      "cell_type": "code",
      "metadata": {
        "id": "AR-GywIbep3N"
      },
      "source": [
        "k_folds = 5\n",
        "num_epochs = 3\n",
        "learning_rate = 0.001\n",
        "\n",
        "# loss function\n",
        "loss_func = nn.CrossEntropyLoss()\n",
        "\n",
        "# for fold results\n",
        "results = {}\n",
        "\n",
        "# set fixed random seed\n",
        "torch.manual_seed(87)\n",
        "\n",
        "# define the k-fold cross validator\n",
        "kfold = KFold(n_splits=k_folds, shuffle=True)"
      ],
      "execution_count": 6,
      "outputs": []
    },
    {
      "cell_type": "code",
      "metadata": {
        "colab": {
          "base_uri": "https://localhost:8080/"
        },
        "id": "l7W4CGq4e-JP",
        "outputId": "83f27072-4169-43db-ad1d-4d8f04d84f69"
      },
      "source": [
        "# k-fold cross validation model evaluation\n",
        "\n",
        "for fold, (train_ids, test_ids) in enumerate(kfold.split(test_dataset)):\n",
        "    \n",
        "    print(f'\\n============== Fold: {fold+1} Start ==============')\n",
        "    # Sample elements randomly from a given list of ids.\n",
        "    train_subsampler = SubsetRandomSampler(train_ids)\n",
        "    test_subsampler = SubsetRandomSampler(test_ids)\n",
        "\n",
        "    # define data loader for training and testing data in this fold\n",
        "    trainloader = DataLoader(\n",
        "        dataset,\n",
        "        batch_size=64,\n",
        "        sampler=train_subsampler\n",
        "    )\n",
        "\n",
        "    testloader = DataLoader(\n",
        "        dataset,\n",
        "        batch_size=64,\n",
        "        sampler=test_subsampler\n",
        "    )\n",
        "\n",
        "    # init the model\n",
        "    model = CNN()\n",
        "    model.init_weights()\n",
        "    model.to(device)\n",
        "\n",
        "    # Initialize optimizer\n",
        "    optimizer = opt.Adam(model.parameters(), lr=learning_rate)\n",
        "\n",
        "    # run training loop\n",
        "    for epoch in range(0, num_epochs):\n",
        "        this_epoch_loss = 0.0\n",
        "        for idx, (images, labels) in enumerate(trainloader):\n",
        "            \n",
        "            images = Variable(images).to(device)\n",
        "            labels = Variable(labels).to(device)\n",
        "\n",
        "            # zero the gradients\n",
        "            optimizer.zero_grad()\n",
        "\n",
        "            # perform forward pass\n",
        "            outputs = model(images)\n",
        "\n",
        "            # compute loss\n",
        "            loss = loss_func(outputs, labels)\n",
        "\n",
        "            # backward pass\n",
        "            loss.backward()\n",
        "            # optimization\n",
        "            optimizer.step()\n",
        "            \n",
        "            this_epoch_loss += loss.item()\n",
        "        print(f'- Epoch {epoch+1} loss: %.3f' % (this_epoch_loss/len(trainloader.sampler)) )\n",
        "\n",
        "    # Process is complete.\n",
        "    print('\\n- Training process has finished. \\n- Saving trained model.')\n",
        "    # Saving the model\n",
        "    save_path = f'./model-fold-{fold}.pth'\n",
        "    torch.save(model.state_dict(), save_path)\n",
        "\n",
        "    # evaluation for this fold\n",
        "    correct, total = 0, 0\n",
        "    with torch.no_grad():\n",
        "        for idx, (images, labels) in enumerate(testloader):\n",
        "            images = Variable(images.to(device))\n",
        "            outputs = model(images)\n",
        "\n",
        "            _, pred = torch.max(outputs.data, 1)\n",
        "            correct += (pred == labels.to(device)).sum()\n",
        "            total += labels.size(0)\n",
        "\n",
        "        print('\\n* Accuracy for Fold %d: %.3f%%' %(fold+1, 100.0 * float(correct)/float(total)))\n",
        "        results[fold+1] = 100.0 * float(correct)/float(total)\n",
        "\n",
        "    print(f'=============== Fold: {fold+1} End ===============')\n",
        "\n",
        "# Print fold results\n",
        "print(f'\\nK-fold Cross Validtaion results for {k_folds} folds')\n",
        "sum = 0.0\n",
        "for key, value in results.items():\n",
        "    print(f'* Fold {key}: {value} %')\n",
        "    sum += value\n",
        "    \n",
        "print(f'* Average: {sum/len(results.items())} %')"
      ],
      "execution_count": 8,
      "outputs": [
        {
          "output_type": "stream",
          "name": "stdout",
          "text": [
            "\n",
            "============== Fold: 1 Start ==============\n",
            "- Epoch 1 loss: 0.006\n",
            "- Epoch 2 loss: 0.001\n",
            "- Epoch 3 loss: 0.001\n",
            "\n",
            "- Training process has finished. \n",
            "- Saving trained model.\n",
            "\n",
            "* Accuracy for Fold 1: 97.150%\n",
            "=============== Fold: 1 End ===============\n",
            "\n",
            "============== Fold: 2 Start ==============\n",
            "- Epoch 1 loss: 0.007\n",
            "- Epoch 2 loss: 0.001\n",
            "- Epoch 3 loss: 0.001\n",
            "\n",
            "- Training process has finished. \n",
            "- Saving trained model.\n",
            "\n",
            "* Accuracy for Fold 2: 97.600%\n",
            "=============== Fold: 2 End ===============\n",
            "\n",
            "============== Fold: 3 Start ==============\n",
            "- Epoch 1 loss: 0.008\n",
            "- Epoch 2 loss: 0.002\n",
            "- Epoch 3 loss: 0.001\n",
            "\n",
            "- Training process has finished. \n",
            "- Saving trained model.\n",
            "\n",
            "* Accuracy for Fold 3: 97.250%\n",
            "=============== Fold: 3 End ===============\n",
            "\n",
            "============== Fold: 4 Start ==============\n",
            "- Epoch 1 loss: 0.007\n",
            "- Epoch 2 loss: 0.002\n",
            "- Epoch 3 loss: 0.001\n",
            "\n",
            "- Training process has finished. \n",
            "- Saving trained model.\n",
            "\n",
            "* Accuracy for Fold 4: 97.650%\n",
            "=============== Fold: 4 End ===============\n",
            "\n",
            "============== Fold: 5 Start ==============\n",
            "- Epoch 1 loss: 0.006\n",
            "- Epoch 2 loss: 0.001\n",
            "- Epoch 3 loss: 0.001\n",
            "\n",
            "- Training process has finished. \n",
            "- Saving trained model.\n",
            "\n",
            "* Accuracy for Fold 5: 96.650%\n",
            "=============== Fold: 5 End ===============\n",
            "\n",
            "K-fold Cross Validtaion results for 5 folds\n",
            "* Fold 1: 97.15 %\n",
            "* Fold 2: 97.6 %\n",
            "* Fold 3: 97.25 %\n",
            "* Fold 4: 97.65 %\n",
            "* Fold 5: 96.65 %\n",
            "* Average: 97.25999999999999 %\n"
          ]
        }
      ]
    }
  ]
}