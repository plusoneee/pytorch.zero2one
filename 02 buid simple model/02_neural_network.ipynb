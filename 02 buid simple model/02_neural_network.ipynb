{
  "nbformat": 4,
  "nbformat_minor": 0,
  "metadata": {
    "colab": {
      "name": "03 neural network.ipynb",
      "provenance": [],
      "collapsed_sections": []
    },
    "kernelspec": {
      "name": "python3",
      "display_name": "Python 3"
    },
    "language_info": {
      "name": "python"
    },
    "accelerator": "GPU"
  },
  "cells": [
    {
      "cell_type": "code",
      "metadata": {
        "colab": {
          "base_uri": "https://localhost:8080/"
        },
        "id": "OSGgxh9thYFv",
        "outputId": "b79711b2-8d8a-43ac-9864-8f996a676756"
      },
      "source": [
        "!wget www.di.ens.fr/~lelarge/MNIST.tar.gz\n",
        "!tar -zxvf MNIST.tar.gz\n",
        "from torchvision.datasets import MNIST\n",
        "import torchvision.transforms as transforms\n",
        "train_dataset = MNIST(root = './', train=True, download=True, transform=transforms.ToTensor())\n",
        "test_dataset= MNIST(root = './', train=False, download=True, transform=transforms.ToTensor())"
      ],
      "execution_count": null,
      "outputs": [
        {
          "output_type": "stream",
          "text": [
            "--2021-03-27 08:25:06--  http://www.di.ens.fr/~lelarge/MNIST.tar.gz\n",
            "Resolving www.di.ens.fr (www.di.ens.fr)... 129.199.99.14\n",
            "Connecting to www.di.ens.fr (www.di.ens.fr)|129.199.99.14|:80... connected.\n",
            "HTTP request sent, awaiting response... 302 Found\n",
            "Location: https://www.di.ens.fr/~lelarge/MNIST.tar.gz [following]\n",
            "--2021-03-27 08:25:06--  https://www.di.ens.fr/~lelarge/MNIST.tar.gz\n",
            "Connecting to www.di.ens.fr (www.di.ens.fr)|129.199.99.14|:443... connected.\n",
            "HTTP request sent, awaiting response... 200 OK\n",
            "Length: unspecified [application/x-gzip]\n",
            "Saving to: ‘MNIST.tar.gz’\n",
            "\n",
            "MNIST.tar.gz            [         <=>        ]  33.20M  18.9MB/s    in 1.8s    \n",
            "\n",
            "2021-03-27 08:25:08 (18.9 MB/s) - ‘MNIST.tar.gz’ saved [34813078]\n",
            "\n",
            "MNIST/\n",
            "MNIST/raw/\n",
            "MNIST/raw/train-labels-idx1-ubyte\n",
            "MNIST/raw/t10k-labels-idx1-ubyte.gz\n",
            "MNIST/raw/t10k-labels-idx1-ubyte\n",
            "MNIST/raw/t10k-images-idx3-ubyte.gz\n",
            "MNIST/raw/train-images-idx3-ubyte\n",
            "MNIST/raw/train-labels-idx1-ubyte.gz\n",
            "MNIST/raw/t10k-images-idx3-ubyte\n",
            "MNIST/raw/train-images-idx3-ubyte.gz\n",
            "MNIST/processed/\n",
            "MNIST/processed/training.pt\n",
            "MNIST/processed/test.pt\n"
          ],
          "name": "stdout"
        }
      ]
    },
    {
      "cell_type": "code",
      "metadata": {
        "colab": {
          "base_uri": "https://localhost:8080/"
        },
        "id": "kvOEjiVzhuJX",
        "outputId": "327c44cb-13ae-4878-dd0c-cffb42f2f5f7"
      },
      "source": [
        "train_dataset"
      ],
      "execution_count": null,
      "outputs": [
        {
          "output_type": "execute_result",
          "data": {
            "text/plain": [
              "Dataset MNIST\n",
              "    Number of datapoints: 60000\n",
              "    Root location: ./\n",
              "    Split: Train\n",
              "    StandardTransform\n",
              "Transform: ToTensor()"
            ]
          },
          "metadata": {
            "tags": []
          },
          "execution_count": 2
        }
      ]
    },
    {
      "cell_type": "code",
      "metadata": {
        "colab": {
          "base_uri": "https://localhost:8080/"
        },
        "id": "jVhEj-2xiGVl",
        "outputId": "f248d617-627b-45be-eae4-fd15871f202b"
      },
      "source": [
        "train_dataset.data.shape"
      ],
      "execution_count": null,
      "outputs": [
        {
          "output_type": "execute_result",
          "data": {
            "text/plain": [
              "torch.Size([60000, 28, 28])"
            ]
          },
          "metadata": {
            "tags": []
          },
          "execution_count": 3
        }
      ]
    },
    {
      "cell_type": "code",
      "metadata": {
        "id": "HV97kmVmjQ7v"
      },
      "source": [
        "import matplotlib.pyplot as plt"
      ],
      "execution_count": null,
      "outputs": []
    },
    {
      "cell_type": "code",
      "metadata": {
        "colab": {
          "base_uri": "https://localhost:8080/",
          "height": 298
        },
        "id": "vPO2-h0_krp6",
        "outputId": "63044a1c-64db-49a0-8132-61fcce932abd"
      },
      "source": [
        "plt.imshow(train_dataset.data[0].numpy(), cmap='gray') # numpy(): tensor to numpy array\n",
        "plt.title('Label: %i' %train_dataset.targets[0])"
      ],
      "execution_count": null,
      "outputs": [
        {
          "output_type": "execute_result",
          "data": {
            "text/plain": [
              "Text(0.5, 1.0, 'Label: 5')"
            ]
          },
          "metadata": {
            "tags": []
          },
          "execution_count": 5
        },
        {
          "output_type": "display_data",
          "data": {
            "image/png": "[encoded data removed]",
            "text/plain": [
              "<Figure size 432x288 with 1 Axes>"
            ]
          },
          "metadata": {
            "tags": [],
            "needs_background": "light"
          }
        }
      ]
    },
    {
      "cell_type": "code",
      "metadata": {
        "id": "VlP66dXulBy6"
      },
      "source": [
        "input_size = 28 * 28\n",
        "hidden_size = 500\n",
        "num_classes = 10\n",
        "num_epoch = 5\n",
        "batch_size = 100 # 每累積100筆loss 更新一次parameters\n",
        "learnin_rate = 0.001"
      ],
      "execution_count": null,
      "outputs": []
    },
    {
      "cell_type": "code",
      "metadata": {
        "id": "qR0b6hGwn5Wl"
      },
      "source": [
        "import torch.utils.data as Data"
      ],
      "execution_count": null,
      "outputs": []
    },
    {
      "cell_type": "code",
      "metadata": {
        "id": "Wh02IiX9oPFh"
      },
      "source": [
        "train_loader = Data.DataLoader(dataset=train_dataset, \n",
        "                               batch_size=batch_size, \n",
        "                               shuffle=True)\n",
        "test_loader = Data.DataLoader(dataset=test_dataset, \n",
        "                               batch_size=batch_size, \n",
        "                               shuffle=False) # shuffle=False"
      ],
      "execution_count": null,
      "outputs": []
    },
    {
      "cell_type": "code",
      "metadata": {
        "id": "FnhLIC0JuJi1"
      },
      "source": [
        "import torch.nn as nn"
      ],
      "execution_count": null,
      "outputs": []
    },
    {
      "cell_type": "code",
      "metadata": {
        "id": "ZlOCyCK0uSRh"
      },
      "source": [
        "class Model(nn.Module):\n",
        "  def __init__(self, input_size, hidden_size, num_classes):\n",
        "    super(Model, self).__init__()\n",
        "    self.fc1 = nn.Linear(input_size, hidden_size)\n",
        "    self.relu = nn.ReLU()\n",
        "    self.fc2 = nn.Linear(hidden_size, num_classes)\n",
        "  \n",
        "  def forward(self, x):\n",
        "    out = self.fc1(x)\n",
        "    out = self.relu(out)\n",
        "    out = self.fc2(out)\n",
        "    return out"
      ],
      "execution_count": null,
      "outputs": []
    },
    {
      "cell_type": "code",
      "metadata": {
        "id": "hXaF-Bb5wAYH"
      },
      "source": [
        "model = Model(input_size, hidden_size, num_classes)"
      ],
      "execution_count": null,
      "outputs": []
    },
    {
      "cell_type": "code",
      "metadata": {
        "id": "u0jOpab9wHrI"
      },
      "source": [
        "import torch.optim as opt\n",
        "from torch.autograd import Variable"
      ],
      "execution_count": null,
      "outputs": []
    },
    {
      "cell_type": "code",
      "metadata": {
        "id": "jYKbygl-wRST"
      },
      "source": [
        "loss_fn = nn.CrossEntropyLoss()\n",
        "optimizer = opt.Adam(model.parameters(), lr=learnin_rate)"
      ],
      "execution_count": null,
      "outputs": []
    },
    {
      "cell_type": "code",
      "metadata": {
        "colab": {
          "base_uri": "https://localhost:8080/"
        },
        "id": "IOeGH4JewlnU",
        "outputId": "262226d0-6045-498c-def5-a434f6e961c5"
      },
      "source": [
        "for epoch in range(num_epoch):\n",
        "  for idx, (images, labels) in enumerate(train_loader):\n",
        "    images = Variable(images.view(-1, 28*28))\n",
        "    labels = Variable(labels)\n",
        "\n",
        "    optimizer.zero_grad()\n",
        "    outputs = model(images)\n",
        "    loss = loss_fn(outputs, labels)\n",
        "    loss.backward()\n",
        "    optimizer.step()\n",
        "\n",
        "    if (idx+1)%100 == 0:\n",
        "      print(\"Epoch: %d, Batch: %d, Loss: %.4f\" %(epoch+1, idx+1, loss.data))"
      ],
      "execution_count": null,
      "outputs": [
        {
          "output_type": "stream",
          "text": [
            "Epoch: 1, Batch: 100, Loss: 0.3406\n",
            "Epoch: 1, Batch: 200, Loss: 0.2624\n",
            "Epoch: 1, Batch: 300, Loss: 0.1060\n",
            "Epoch: 1, Batch: 400, Loss: 0.1223\n",
            "Epoch: 1, Batch: 500, Loss: 0.2213\n",
            "Epoch: 1, Batch: 600, Loss: 0.1936\n",
            "Epoch: 2, Batch: 100, Loss: 0.1508\n",
            "Epoch: 2, Batch: 200, Loss: 0.1790\n",
            "Epoch: 2, Batch: 300, Loss: 0.0994\n",
            "Epoch: 2, Batch: 400, Loss: 0.1255\n",
            "Epoch: 2, Batch: 500, Loss: 0.1330\n",
            "Epoch: 2, Batch: 600, Loss: 0.0928\n",
            "Epoch: 3, Batch: 100, Loss: 0.0287\n",
            "Epoch: 3, Batch: 200, Loss: 0.0229\n",
            "Epoch: 3, Batch: 300, Loss: 0.0781\n",
            "Epoch: 3, Batch: 400, Loss: 0.0525\n",
            "Epoch: 3, Batch: 500, Loss: 0.0781\n",
            "Epoch: 3, Batch: 600, Loss: 0.1811\n",
            "Epoch: 4, Batch: 100, Loss: 0.0387\n",
            "Epoch: 4, Batch: 200, Loss: 0.0306\n",
            "Epoch: 4, Batch: 300, Loss: 0.0992\n",
            "Epoch: 4, Batch: 400, Loss: 0.0258\n",
            "Epoch: 4, Batch: 500, Loss: 0.1028\n",
            "Epoch: 4, Batch: 600, Loss: 0.0675\n",
            "Epoch: 5, Batch: 100, Loss: 0.1370\n",
            "Epoch: 5, Batch: 200, Loss: 0.0137\n",
            "Epoch: 5, Batch: 300, Loss: 0.0457\n",
            "Epoch: 5, Batch: 400, Loss: 0.1464\n",
            "Epoch: 5, Batch: 500, Loss: 0.0313\n",
            "Epoch: 5, Batch: 600, Loss: 0.0407\n"
          ],
          "name": "stdout"
        }
      ]
    },
    {
      "cell_type": "code",
      "metadata": {
        "id": "55PvFonAyqV2"
      },
      "source": [
        "import torch"
      ],
      "execution_count": null,
      "outputs": []
    },
    {
      "cell_type": "code",
      "metadata": {
        "colab": {
          "base_uri": "https://localhost:8080/"
        },
        "id": "zTG94N6JzHxh",
        "outputId": "f42a6b32-a949-4c41-b576-6d4b79394018"
      },
      "source": [
        "correct = 0\n",
        "total = 0\n",
        "for images, labels in test_loader:\n",
        "  images = Variable(images.view(-1, 28*28))\n",
        "  labels = Variable(labels) # torch.Size([100]) batch_size\n",
        "  outputs = model(images) # torch.Size([100, 10]) # batch_size, num_classes\n",
        "  _, pred = torch.max(outputs.data, 1) # 1=(from) row\n",
        "  \n",
        "  correct += (pred == labels).sum() # 猜對量sum\n",
        "  total += labels.size(0)\n",
        "\n",
        "print('Accuracy:%.3f%%' %(100.0 * float(correct)/float(total)))"
      ],
      "execution_count": null,
      "outputs": [
        {
          "output_type": "stream",
          "text": [
            "Accuracy:98.000%\n"
          ],
          "name": "stdout"
        }
      ]
    },
    {
      "cell_type": "code",
      "metadata": {
        "colab": {
          "base_uri": "https://localhost:8080/"
        },
        "id": "uF4b3GZM1T6P",
        "outputId": "a41840df-d17e-487f-b7ae-cdd11d899879"
      },
      "source": [
        "for images, labels in test_loader:\n",
        "  print(images.shape)\n",
        "  print(labels.shape)\n",
        "  break"
      ],
      "execution_count": null,
      "outputs": [
        {
          "output_type": "stream",
          "text": [
            "torch.Size([100, 1, 28, 28])\n",
            "torch.Size([100])\n"
          ],
          "name": "stdout"
        }
      ]
    },
    {
      "cell_type": "code",
      "metadata": {
        "colab": {
          "base_uri": "https://localhost:8080/",
          "height": 366
        },
        "id": "FxXX0Aic56k5",
        "outputId": "ecb29c0b-3588-423f-894d-77cf32f0f18b"
      },
      "source": [
        "plt.imshow(images[1][0].numpy(), cmap='gray') # (28*28)\n",
        "plt.title(labels[1].data)\n",
        "plt.show()\n",
        "images_flat = Variable(images[:2].view(-1, 28*28))\n",
        "outputs = model(images_flat)\n",
        "print(outputs)\n",
        "_, pred_y = torch.max(outputs.data, 1)\n",
        "print(pred_y)"
      ],
      "execution_count": null,
      "outputs": [
        {
          "output_type": "display_data",
          "data": {
            "image/png": "[encoded data removed]",
            "text/plain": [
              "<Figure size 432x288 with 1 Axes>"
            ]
          },
          "metadata": {
            "tags": [],
            "needs_background": "light"
          }
        },
        {
          "output_type": "stream",
          "text": [
            "tensor([[ -4.5792,  -9.7316,  -1.6107,   1.0856, -13.9382,  -4.7645, -15.8785,\n",
            "           9.2851,  -4.2097,  -2.5133],\n",
            "        [ -4.5253,   2.7164,  12.6961,   0.0681, -17.7882,  -4.1420,  -6.5493,\n",
            "         -18.0402,  -1.8836, -15.8143]], grad_fn=<AddmmBackward>)\n",
            "tensor([7, 2])\n"
          ],
          "name": "stdout"
        }
      ]
    },
    {
      "cell_type": "code",
      "metadata": {
        "id": "nGy9XRzr6b5A"
      },
      "source": [
        "torch.save(model.state_dict(), \"model.pkl\")"
      ],
      "execution_count": null,
      "outputs": []
    },
    {
      "cell_type": "code",
      "metadata": {
        "colab": {
          "base_uri": "https://localhost:8080/"
        },
        "id": "Enok8YbWBKMd",
        "outputId": "8c65de8d-bbff-4d73-a11e-ebf4d06d1b3c"
      },
      "source": [
        "model2 = Model(input_size, hidden_size, num_classes)\n",
        "model2.load_state_dict(torch.load('model.pkl'))"
      ],
      "execution_count": null,
      "outputs": [
        {
          "output_type": "execute_result",
          "data": {
            "text/plain": [
              "<All keys matched successfully>"
            ]
          },
          "metadata": {
            "tags": []
          },
          "execution_count": 20
        }
      ]
    },
    {
      "cell_type": "code",
      "metadata": {
        "colab": {
          "base_uri": "https://localhost:8080/"
        },
        "id": "1YndssUYCl-8",
        "outputId": "744ab217-f7b3-4524-d98a-a9bc49675442"
      },
      "source": [
        "correct = 0\n",
        "total = 0\n",
        "for images, labels in test_loader:\n",
        "  images = Variable(images.view(-1, 28*28))\n",
        "  labels = Variable(labels) # torch.Size([100]) batch_size\n",
        "  outputs = model2(images) # torch.Size([100, 10]) # batch_size, num_classes\n",
        "  _, pred = torch.max(outputs.data, 1) # 1=(from) row\n",
        "  \n",
        "  correct += (pred == labels).sum() # 猜對量sum\n",
        "  total += labels.size(0)\n",
        "\n",
        "print('Accuracy:%.3f%%' %(100.0 * float(correct)/float(total)))"
      ],
      "execution_count": null,
      "outputs": [
        {
          "output_type": "stream",
          "text": [
            "Accuracy:98.000%\n"
          ],
          "name": "stdout"
        }
      ]
    },
    {
      "cell_type": "code",
      "metadata": {
        "id": "K7vOpofTCri0"
      },
      "source": [
        "torch.save(model2, 'model2.pkl')"
      ],
      "execution_count": null,
      "outputs": []
    },
    {
      "cell_type": "code",
      "metadata": {
        "id": "EvKzK2KADsdb"
      },
      "source": [
        "model3 = torch.load('model2.pkl')"
      ],
      "execution_count": null,
      "outputs": []
    },
    {
      "cell_type": "code",
      "metadata": {
        "colab": {
          "base_uri": "https://localhost:8080/"
        },
        "id": "NkEOAXRTEFgZ",
        "outputId": "d4817a13-5117-4476-ae98-f68482094a32"
      },
      "source": [
        "correct = 0\n",
        "total = 0\n",
        "for images, labels in test_loader:\n",
        "  images = Variable(images.view(-1, 28*28))\n",
        "  labels = Variable(labels) # torch.Size([100]) batch_size\n",
        "  outputs = model3(images) # torch.Size([100, 10]) # batch_size, num_classes\n",
        "  _, pred = torch.max(outputs.data, 1) # 1=(from) row\n",
        "  \n",
        "  correct += (pred == labels).sum() # 猜對量sum\n",
        "  total += labels.size(0)\n",
        "\n",
        "print('Accuracy:%.3f%%' %(100.0 * float(correct)/float(total)))"
      ],
      "execution_count": null,
      "outputs": [
        {
          "output_type": "stream",
          "text": [
            "Accuracy:98.000%\n"
          ],
          "name": "stdout"
        }
      ]
    },
    {
      "cell_type": "code",
      "metadata": {
        "colab": {
          "base_uri": "https://localhost:8080/"
        },
        "id": "_H7f2KKxEGS9",
        "outputId": "22b3096e-16aa-4645-c6d1-01a2c34792d4"
      },
      "source": [
        "model4 = nn.Sequential(\n",
        "      nn.Linear(input_size, hidden_size),\n",
        "      nn.ReLU(),\n",
        "      nn.Linear(hidden_size, num_classes)\n",
        ")\n",
        "print(model)\n",
        "print(model4)"
      ],
      "execution_count": null,
      "outputs": [
        {
          "output_type": "stream",
          "text": [
            "Model(\n",
            "  (fc1): Linear(in_features=784, out_features=500, bias=True)\n",
            "  (relu): ReLU()\n",
            "  (fc2): Linear(in_features=500, out_features=10, bias=True)\n",
            ")\n",
            "Sequential(\n",
            "  (0): Linear(in_features=784, out_features=500, bias=True)\n",
            "  (1): ReLU()\n",
            "  (2): Linear(in_features=500, out_features=10, bias=True)\n",
            ")\n"
          ],
          "name": "stdout"
        }
      ]
    },
    {
      "cell_type": "code",
      "metadata": {
        "id": "Jvz6FXwOj7Zh"
      },
      "source": [
        "# optimizer = opt.SGD(model4.parameters(), lr=learnin_rate, momentum=0.5)\n",
        "# optimizer = opt.Adagrad(model4.parameters(), lr=learnin_rate)\n",
        "# optimizer = opt.RMSprop(model4.parameters(), lr=learnin_rate)\n",
        "optimizer = opt.Adam(model4.parameters(), lr=learnin_rate, betas=(0.9, 0.999))"
      ],
      "execution_count": null,
      "outputs": []
    },
    {
      "cell_type": "code",
      "metadata": {
        "colab": {
          "base_uri": "https://localhost:8080/"
        },
        "id": "jVlhuEEQkPfb",
        "outputId": "11764180-6e84-43ce-fc5f-7bdcb05729a8"
      },
      "source": [
        "for epoch in range(num_epoch):\n",
        "  for idx, (images, labels) in enumerate(train_loader):\n",
        "    images = Variable(images.view(-1, 28*28))\n",
        "    labels = Variable(labels)\n",
        "\n",
        "    optimizer.zero_grad()\n",
        "    outputs = model4(images)\n",
        "    loss = loss_fn(outputs, labels)\n",
        "    loss.backward()\n",
        "    optimizer.step()\n",
        "\n",
        "    if (idx+1)%100 == 0:\n",
        "      print(\"Epoch: %d, Batch: %d, Loss: %.4f\" %(epoch+1, idx+1, loss.data))"
      ],
      "execution_count": null,
      "outputs": [
        {
          "output_type": "stream",
          "text": [
            "Epoch: 1, Batch: 100, Loss: 0.2694\n",
            "Epoch: 1, Batch: 200, Loss: 0.1991\n",
            "Epoch: 1, Batch: 300, Loss: 0.1504\n",
            "Epoch: 1, Batch: 400, Loss: 0.2243\n",
            "Epoch: 1, Batch: 500, Loss: 0.1614\n",
            "Epoch: 1, Batch: 600, Loss: 0.1209\n",
            "Epoch: 2, Batch: 100, Loss: 0.0587\n",
            "Epoch: 2, Batch: 200, Loss: 0.0860\n",
            "Epoch: 2, Batch: 300, Loss: 0.1362\n",
            "Epoch: 2, Batch: 400, Loss: 0.0230\n",
            "Epoch: 2, Batch: 500, Loss: 0.0758\n",
            "Epoch: 2, Batch: 600, Loss: 0.0671\n",
            "Epoch: 3, Batch: 100, Loss: 0.0854\n",
            "Epoch: 3, Batch: 200, Loss: 0.0300\n",
            "Epoch: 3, Batch: 300, Loss: 0.1250\n",
            "Epoch: 3, Batch: 400, Loss: 0.1147\n",
            "Epoch: 3, Batch: 500, Loss: 0.0387\n",
            "Epoch: 3, Batch: 600, Loss: 0.0237\n",
            "Epoch: 4, Batch: 100, Loss: 0.0786\n",
            "Epoch: 4, Batch: 200, Loss: 0.0584\n",
            "Epoch: 4, Batch: 300, Loss: 0.0549\n",
            "Epoch: 4, Batch: 400, Loss: 0.1246\n",
            "Epoch: 4, Batch: 500, Loss: 0.0396\n",
            "Epoch: 4, Batch: 600, Loss: 0.0545\n",
            "Epoch: 5, Batch: 100, Loss: 0.0548\n",
            "Epoch: 5, Batch: 200, Loss: 0.1226\n",
            "Epoch: 5, Batch: 300, Loss: 0.0177\n",
            "Epoch: 5, Batch: 400, Loss: 0.0598\n",
            "Epoch: 5, Batch: 500, Loss: 0.0221\n",
            "Epoch: 5, Batch: 600, Loss: 0.0466\n"
          ],
          "name": "stdout"
        }
      ]
    },
    {
      "cell_type": "code",
      "metadata": {
        "id": "jHQzygwykZ4g"
      },
      "source": [
        ""
      ],
      "execution_count": null,
      "outputs": []
    }
  ]
}