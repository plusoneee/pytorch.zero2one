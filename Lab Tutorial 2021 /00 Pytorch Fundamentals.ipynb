{
  "nbformat": 4,
  "nbformat_minor": 0,
  "metadata": {
    "colab": {
      "name": "00 Pytorch Fundamentals.ipynb",
      "provenance": [],
      "collapsed_sections": [],
      "toc_visible": true
    },
    "kernelspec": {
      "name": "python3",
      "display_name": "Python 3"
    },
    "language_info": {
      "name": "python"
    },
    "accelerator": "GPU"
  },
  "cells": [
    {
      "cell_type": "markdown",
      "metadata": {
        "id": "pdb7L9_9fmIF"
      },
      "source": [
        "## Pytorch Fundamentals\n",
        "\n",
        "* Introduction to tensors\n",
        "* Gettings information from tensors\n",
        "* Manipulating tensors\n",
        "* Accessing GPU"
      ]
    },
    {
      "cell_type": "markdown",
      "metadata": {
        "id": "2L1EQs8Gh0Z5"
      },
      "source": [
        "## Introduction to tensors\n",
        "* Scalar: a single number\n",
        "* Vector: a number with direction\n",
        "* Matrix: a `2-dim` array of numbers\n",
        "* Tensor: an `n-dim` array of number \n"
      ]
    },
    {
      "cell_type": "code",
      "metadata": {
        "colab": {
          "base_uri": "https://localhost:8080/"
        },
        "id": "wLV48w2Ridcz",
        "outputId": "4bbfad15-3d57-4dc3-b5d0-3ce7742a02d9"
      },
      "source": [
        "import torch\n",
        "print(torch.__version__)"
      ],
      "execution_count": 1,
      "outputs": [
        {
          "output_type": "stream",
          "text": [
            "1.9.0+cu102\n"
          ],
          "name": "stdout"
        }
      ]
    },
    {
      "cell_type": "code",
      "metadata": {
        "colab": {
          "base_uri": "https://localhost:8080/"
        },
        "id": "SfnfKQw9i0Fp",
        "outputId": "670cd954-d9c9-4173-d65f-1b2752fe5c77"
      },
      "source": [
        "# create tensors\n",
        "scalar = torch.tensor(7)\n",
        "scalar"
      ],
      "execution_count": 2,
      "outputs": [
        {
          "output_type": "execute_result",
          "data": {
            "text/plain": [
              "tensor(7)"
            ]
          },
          "metadata": {},
          "execution_count": 2
        }
      ]
    },
    {
      "cell_type": "code",
      "metadata": {
        "colab": {
          "base_uri": "https://localhost:8080/"
        },
        "id": "y4aOX7j2kPvD",
        "outputId": "27066eb3-4775-454e-f2f0-02be16008546"
      },
      "source": [
        "# check the number of dimensions of a tensor\n",
        "scalar.dim()"
      ],
      "execution_count": 3,
      "outputs": [
        {
          "output_type": "execute_result",
          "data": {
            "text/plain": [
              "0"
            ]
          },
          "metadata": {},
          "execution_count": 3
        }
      ]
    },
    {
      "cell_type": "code",
      "metadata": {
        "colab": {
          "base_uri": "https://localhost:8080/"
        },
        "id": "9uvFfrHbkcU8",
        "outputId": "5da90289-07bf-4be3-cf00-d67351105503"
      },
      "source": [
        "# create a vector\n",
        "vector = torch.tensor([1, 2])\n",
        "vector"
      ],
      "execution_count": 4,
      "outputs": [
        {
          "output_type": "execute_result",
          "data": {
            "text/plain": [
              "tensor([1, 2])"
            ]
          },
          "metadata": {},
          "execution_count": 4
        }
      ]
    },
    {
      "cell_type": "code",
      "metadata": {
        "colab": {
          "base_uri": "https://localhost:8080/"
        },
        "id": "rrpc1txJklti",
        "outputId": "eae7a131-6f43-4932-a0bb-4634dbb8025e"
      },
      "source": [
        "vector.dim()"
      ],
      "execution_count": 5,
      "outputs": [
        {
          "output_type": "execute_result",
          "data": {
            "text/plain": [
              "1"
            ]
          },
          "metadata": {},
          "execution_count": 5
        }
      ]
    },
    {
      "cell_type": "code",
      "metadata": {
        "colab": {
          "base_uri": "https://localhost:8080/"
        },
        "id": "8cq-CBr2kxME",
        "outputId": "873f393e-0cd1-44ee-99e2-7aad380aa231"
      },
      "source": [
        "# create a matrix\n",
        "matrix = torch.tensor([[1, 2], [3, 4]])\n",
        "matrix"
      ],
      "execution_count": 6,
      "outputs": [
        {
          "output_type": "execute_result",
          "data": {
            "text/plain": [
              "tensor([[1, 2],\n",
              "        [3, 4]])"
            ]
          },
          "metadata": {},
          "execution_count": 6
        }
      ]
    },
    {
      "cell_type": "code",
      "metadata": {
        "colab": {
          "base_uri": "https://localhost:8080/"
        },
        "id": "k4GQkD6xk4lH",
        "outputId": "38565494-d7d3-4a3d-9c73-4ec5695bfc1e"
      },
      "source": [
        "matrix.dim()"
      ],
      "execution_count": 7,
      "outputs": [
        {
          "output_type": "execute_result",
          "data": {
            "text/plain": [
              "2"
            ]
          },
          "metadata": {},
          "execution_count": 7
        }
      ]
    },
    {
      "cell_type": "code",
      "metadata": {
        "colab": {
          "base_uri": "https://localhost:8080/"
        },
        "id": "iEj15zpvlDeT",
        "outputId": "aff86e56-57f8-4673-bff4-abdd7340cc0a"
      },
      "source": [
        "# create a tensor\n",
        "tensor = torch.tensor([\n",
        "        [[1,2,3], [4,5,6]], \n",
        "        [[7, 8, 9], [10, 11, 12]], \n",
        "        [[13, 14, 15], [16, 17, 18]]\n",
        "    ])\n",
        "tensor"
      ],
      "execution_count": 8,
      "outputs": [
        {
          "output_type": "execute_result",
          "data": {
            "text/plain": [
              "tensor([[[ 1,  2,  3],\n",
              "         [ 4,  5,  6]],\n",
              "\n",
              "        [[ 7,  8,  9],\n",
              "         [10, 11, 12]],\n",
              "\n",
              "        [[13, 14, 15],\n",
              "         [16, 17, 18]]])"
            ]
          },
          "metadata": {},
          "execution_count": 8
        }
      ]
    },
    {
      "cell_type": "code",
      "metadata": {
        "colab": {
          "base_uri": "https://localhost:8080/"
        },
        "id": "U9uU7K7olyuB",
        "outputId": "1a88dcb0-bb57-47e3-b4ff-42cbd76445d5"
      },
      "source": [
        "tensor.dim()"
      ],
      "execution_count": 9,
      "outputs": [
        {
          "output_type": "execute_result",
          "data": {
            "text/plain": [
              "3"
            ]
          },
          "metadata": {},
          "execution_count": 9
        }
      ]
    },
    {
      "cell_type": "markdown",
      "metadata": {
        "id": "zQ2fNgPpmhCn"
      },
      "source": [
        "### Creating random tensors"
      ]
    },
    {
      "cell_type": "code",
      "metadata": {
        "colab": {
          "base_uri": "https://localhost:8080/"
        },
        "id": "pRUo9RVhmmdB",
        "outputId": "ee2b6905-0640-4013-9f94-9b3263bea0e5"
      },
      "source": [
        "torch.rand(3)"
      ],
      "execution_count": 10,
      "outputs": [
        {
          "output_type": "execute_result",
          "data": {
            "text/plain": [
              "tensor([0.4393, 0.7593, 0.6309])"
            ]
          },
          "metadata": {},
          "execution_count": 10
        }
      ]
    },
    {
      "cell_type": "code",
      "metadata": {
        "colab": {
          "base_uri": "https://localhost:8080/"
        },
        "id": "b6IvLftuntRQ",
        "outputId": "d27f5846-a501-4dde-e3dd-56893cbb5ad1"
      },
      "source": [
        "torch.rand(2,3)"
      ],
      "execution_count": 11,
      "outputs": [
        {
          "output_type": "execute_result",
          "data": {
            "text/plain": [
              "tensor([[0.3862, 0.2751, 0.7491],\n",
              "        [0.6913, 0.0362, 0.6515]])"
            ]
          },
          "metadata": {},
          "execution_count": 11
        }
      ]
    },
    {
      "cell_type": "code",
      "metadata": {
        "colab": {
          "base_uri": "https://localhost:8080/"
        },
        "id": "Ag2Bw1sWuf2k",
        "outputId": "0fdb9466-6eae-4593-8934-743b13fb6307"
      },
      "source": [
        "torch.randint(1, 10, (4,))"
      ],
      "execution_count": 12,
      "outputs": [
        {
          "output_type": "execute_result",
          "data": {
            "text/plain": [
              "tensor([9, 3, 4, 2])"
            ]
          },
          "metadata": {},
          "execution_count": 12
        }
      ]
    },
    {
      "cell_type": "code",
      "metadata": {
        "colab": {
          "base_uri": "https://localhost:8080/"
        },
        "id": "qibzkrrru0Ek",
        "outputId": "5f80bddb-9ced-4f4a-eb4a-05caf61f513d"
      },
      "source": [
        "torch.randint(1, 3, (2, 4))"
      ],
      "execution_count": 13,
      "outputs": [
        {
          "output_type": "execute_result",
          "data": {
            "text/plain": [
              "tensor([[1, 2, 1, 2],\n",
              "        [2, 1, 2, 1]])"
            ]
          },
          "metadata": {},
          "execution_count": 13
        }
      ]
    },
    {
      "cell_type": "markdown",
      "metadata": {
        "id": "gyfgeRMQvG6f"
      },
      "source": [
        "### Other ways to make tensors"
      ]
    },
    {
      "cell_type": "code",
      "metadata": {
        "colab": {
          "base_uri": "https://localhost:8080/"
        },
        "id": "xS5BfOVcvJ3s",
        "outputId": "959e8c0b-248a-433a-fca7-7e046f95122f"
      },
      "source": [
        "# create a tensor of all ones\n",
        "torch.ones((2, 3))"
      ],
      "execution_count": 14,
      "outputs": [
        {
          "output_type": "execute_result",
          "data": {
            "text/plain": [
              "tensor([[1., 1., 1.],\n",
              "        [1., 1., 1.]])"
            ]
          },
          "metadata": {},
          "execution_count": 14
        }
      ]
    },
    {
      "cell_type": "code",
      "metadata": {
        "colab": {
          "base_uri": "https://localhost:8080/"
        },
        "id": "U9BczwZOvTSd",
        "outputId": "c01de937-a55f-4285-f0ad-63eb61f6ef17"
      },
      "source": [
        "# create a tensor of all zeros\n",
        "torch.zeros((3, 4))"
      ],
      "execution_count": 15,
      "outputs": [
        {
          "output_type": "execute_result",
          "data": {
            "text/plain": [
              "tensor([[0., 0., 0., 0.],\n",
              "        [0., 0., 0., 0.],\n",
              "        [0., 0., 0., 0.]])"
            ]
          },
          "metadata": {},
          "execution_count": 15
        }
      ]
    },
    {
      "cell_type": "markdown",
      "metadata": {
        "id": "HAwOQfIgh3Jc"
      },
      "source": [
        "## Gettings information from tensors\n",
        "\n",
        "* Shape\n",
        "* Rank\n",
        "* Axis or Dimension\n",
        "* Number of elements "
      ]
    },
    {
      "cell_type": "code",
      "metadata": {
        "colab": {
          "base_uri": "https://localhost:8080/"
        },
        "id": "_UglKNI-wf2m",
        "outputId": "de709741-12f4-4286-8d07-4f0b8433ae20"
      },
      "source": [
        "# create a rank 4 tensor (4 dim)\n",
        "rank_4_tensor = torch.zeros([2, 3, 4, 5])\n",
        "rank_4_tensor"
      ],
      "execution_count": 16,
      "outputs": [
        {
          "output_type": "execute_result",
          "data": {
            "text/plain": [
              "tensor([[[[0., 0., 0., 0., 0.],\n",
              "          [0., 0., 0., 0., 0.],\n",
              "          [0., 0., 0., 0., 0.],\n",
              "          [0., 0., 0., 0., 0.]],\n",
              "\n",
              "         [[0., 0., 0., 0., 0.],\n",
              "          [0., 0., 0., 0., 0.],\n",
              "          [0., 0., 0., 0., 0.],\n",
              "          [0., 0., 0., 0., 0.]],\n",
              "\n",
              "         [[0., 0., 0., 0., 0.],\n",
              "          [0., 0., 0., 0., 0.],\n",
              "          [0., 0., 0., 0., 0.],\n",
              "          [0., 0., 0., 0., 0.]]],\n",
              "\n",
              "\n",
              "        [[[0., 0., 0., 0., 0.],\n",
              "          [0., 0., 0., 0., 0.],\n",
              "          [0., 0., 0., 0., 0.],\n",
              "          [0., 0., 0., 0., 0.]],\n",
              "\n",
              "         [[0., 0., 0., 0., 0.],\n",
              "          [0., 0., 0., 0., 0.],\n",
              "          [0., 0., 0., 0., 0.],\n",
              "          [0., 0., 0., 0., 0.]],\n",
              "\n",
              "         [[0., 0., 0., 0., 0.],\n",
              "          [0., 0., 0., 0., 0.],\n",
              "          [0., 0., 0., 0., 0.],\n",
              "          [0., 0., 0., 0., 0.]]]])"
            ]
          },
          "metadata": {},
          "execution_count": 16
        }
      ]
    },
    {
      "cell_type": "code",
      "metadata": {
        "colab": {
          "base_uri": "https://localhost:8080/"
        },
        "id": "zqPkYk3Qw5Fg",
        "outputId": "d1b798a1-54ba-426d-9184-fef93f5aba1b"
      },
      "source": [
        "rank_4_tensor[0]"
      ],
      "execution_count": 17,
      "outputs": [
        {
          "output_type": "execute_result",
          "data": {
            "text/plain": [
              "tensor([[[0., 0., 0., 0., 0.],\n",
              "         [0., 0., 0., 0., 0.],\n",
              "         [0., 0., 0., 0., 0.],\n",
              "         [0., 0., 0., 0., 0.]],\n",
              "\n",
              "        [[0., 0., 0., 0., 0.],\n",
              "         [0., 0., 0., 0., 0.],\n",
              "         [0., 0., 0., 0., 0.],\n",
              "         [0., 0., 0., 0., 0.]],\n",
              "\n",
              "        [[0., 0., 0., 0., 0.],\n",
              "         [0., 0., 0., 0., 0.],\n",
              "         [0., 0., 0., 0., 0.],\n",
              "         [0., 0., 0., 0., 0.]]])"
            ]
          },
          "metadata": {},
          "execution_count": 17
        }
      ]
    },
    {
      "cell_type": "code",
      "metadata": {
        "colab": {
          "base_uri": "https://localhost:8080/"
        },
        "id": "Zx5eO0Nxw941",
        "outputId": "44d6da69-98e1-45c9-8b8c-9a9f4e48e55d"
      },
      "source": [
        "rank_4_tensor.shape, rank_4_tensor.dim(), torch.numel(rank_4_tensor)"
      ],
      "execution_count": 18,
      "outputs": [
        {
          "output_type": "execute_result",
          "data": {
            "text/plain": [
              "(torch.Size([2, 3, 4, 5]), 4, 120)"
            ]
          },
          "metadata": {},
          "execution_count": 18
        }
      ]
    },
    {
      "cell_type": "code",
      "metadata": {
        "colab": {
          "base_uri": "https://localhost:8080/"
        },
        "id": "luKIZJ6BxmLx",
        "outputId": "bd08d47b-a271-4b9a-d0e0-aafcd191aa79"
      },
      "source": [
        "# number of elements\n",
        "2*3*4*5"
      ],
      "execution_count": 19,
      "outputs": [
        {
          "output_type": "execute_result",
          "data": {
            "text/plain": [
              "120"
            ]
          },
          "metadata": {},
          "execution_count": 19
        }
      ]
    },
    {
      "cell_type": "code",
      "metadata": {
        "colab": {
          "base_uri": "https://localhost:8080/"
        },
        "id": "-B2Vyxlsxou0",
        "outputId": "0e19249f-888c-4551-c209-73ec1a9ab7f3"
      },
      "source": [
        "print('Datatype of every elments:', rank_4_tensor.dtype)\n",
        "print('Number of dimensions (ranks):', rank_4_tensor.dim())\n",
        "print('Shape of tensor:', rank_4_tensor.shape)\n",
        "print('Elements along the 0 axis:', rank_4_tensor.shape[0])\n",
        "print('Elements along the last axis:', rank_4_tensor.shape[-1])\n",
        "print('Total number of elements in tensor:', torch.numel(rank_4_tensor))"
      ],
      "execution_count": 20,
      "outputs": [
        {
          "output_type": "stream",
          "text": [
            "Datatype of every elments: torch.float32\n",
            "Number of dimensions (ranks): 4\n",
            "Shape of tensor: torch.Size([2, 3, 4, 5])\n",
            "Elements along the 0 axis: 2\n",
            "Elements along the last axis: 5\n",
            "Total number of elements in tensor: 120\n"
          ],
          "name": "stdout"
        }
      ]
    },
    {
      "cell_type": "code",
      "metadata": {
        "colab": {
          "base_uri": "https://localhost:8080/"
        },
        "id": "MkHrI5plyofg",
        "outputId": "1cc9ef2a-3b1f-4cc1-8b72-421fa79e7dd6"
      },
      "source": [
        "# rank_4_tensor shape is (2, 3, 4, 5)\n",
        "# Get the first element from each dimension from each index except for the second last one\n",
        "rank_4_tensor[:1, :1, :, :1], rank_4_tensor[:1, :1, :, :1].shape"
      ],
      "execution_count": 21,
      "outputs": [
        {
          "output_type": "execute_result",
          "data": {
            "text/plain": [
              "(tensor([[[[0.],\n",
              "           [0.],\n",
              "           [0.],\n",
              "           [0.]]]]), torch.Size([1, 1, 4, 1]))"
            ]
          },
          "metadata": {},
          "execution_count": 21
        }
      ]
    },
    {
      "cell_type": "code",
      "metadata": {
        "colab": {
          "base_uri": "https://localhost:8080/"
        },
        "id": "KlXJp-SVywaI",
        "outputId": "0d2f04ab-30e7-4dc4-8975-ab5161e7c1b0"
      },
      "source": [
        "rank_4_tensor[:, :1, :, :1], rank_4_tensor[:, :1, :, :1].shape"
      ],
      "execution_count": 22,
      "outputs": [
        {
          "output_type": "execute_result",
          "data": {
            "text/plain": [
              "(tensor([[[[0.],\n",
              "           [0.],\n",
              "           [0.],\n",
              "           [0.]]],\n",
              " \n",
              " \n",
              "         [[[0.],\n",
              "           [0.],\n",
              "           [0.],\n",
              "           [0.]]]]), torch.Size([2, 1, 4, 1]))"
            ]
          },
          "metadata": {},
          "execution_count": 22
        }
      ]
    },
    {
      "cell_type": "code",
      "metadata": {
        "colab": {
          "base_uri": "https://localhost:8080/"
        },
        "id": "X7V0ZmaTzvCE",
        "outputId": "c484a212-df2a-4118-e70a-823fd37ac922"
      },
      "source": [
        "# create a rank 2 tensor (2 dimensions)\n",
        "rank_2_tensor = torch.tensor([[1., 2.], [3., 4.]])\n",
        "print('Datatype of every elments:', rank_2_tensor.dtype)\n",
        "print('Number of dimensions (ranks):', rank_2_tensor.dim())\n",
        "print('Shape of tensor:', rank_2_tensor.shape)\n",
        "print('Elements along the 0 axis:', rank_2_tensor.shape[0])\n",
        "print('Elements along the last axis:', rank_2_tensor.shape[-1])\n",
        "print('Total number of elements in tensor:', torch.numel(rank_2_tensor))"
      ],
      "execution_count": 23,
      "outputs": [
        {
          "output_type": "stream",
          "text": [
            "Datatype of every elments: torch.float32\n",
            "Number of dimensions (ranks): 2\n",
            "Shape of tensor: torch.Size([2, 2])\n",
            "Elements along the 0 axis: 2\n",
            "Elements along the last axis: 2\n",
            "Total number of elements in tensor: 4\n"
          ],
          "name": "stdout"
        }
      ]
    },
    {
      "cell_type": "code",
      "metadata": {
        "colab": {
          "base_uri": "https://localhost:8080/"
        },
        "id": "-W4Boy4t0OCk",
        "outputId": "a21ee3cf-c77a-4b95-94fa-1b4f2d4ebe4b"
      },
      "source": [
        "# insert another dimension\n",
        "rank_3_tensor = rank_2_tensor.unsqueeze(2)\n",
        "rank_3_tensor.shape"
      ],
      "execution_count": 24,
      "outputs": [
        {
          "output_type": "execute_result",
          "data": {
            "text/plain": [
              "torch.Size([2, 2, 1])"
            ]
          },
          "metadata": {},
          "execution_count": 24
        }
      ]
    },
    {
      "cell_type": "code",
      "metadata": {
        "colab": {
          "base_uri": "https://localhost:8080/"
        },
        "id": "-HcjZ1Wc0gdv",
        "outputId": "83d44789-729e-4b6d-daeb-ff01f7782fd3"
      },
      "source": [
        "# insert another dimension\n",
        "rank_3_tensor = rank_2_tensor.unsqueeze(1)\n",
        "rank_3_tensor.shape"
      ],
      "execution_count": 25,
      "outputs": [
        {
          "output_type": "execute_result",
          "data": {
            "text/plain": [
              "torch.Size([2, 1, 2])"
            ]
          },
          "metadata": {},
          "execution_count": 25
        }
      ]
    },
    {
      "cell_type": "markdown",
      "metadata": {
        "id": "ePUVw4muh8LC"
      },
      "source": [
        "## Manipulating tensors"
      ]
    },
    {
      "cell_type": "markdown",
      "metadata": {
        "id": "IjBG1ICa1vsn"
      },
      "source": [
        "### Manipulationg tensors"
      ]
    },
    {
      "cell_type": "code",
      "metadata": {
        "colab": {
          "base_uri": "https://localhost:8080/"
        },
        "id": "TNzF6AF_06T9",
        "outputId": "1c959b4d-18c9-4d6b-c9f2-354d78a33c04"
      },
      "source": [
        "tensor = torch.tensor([[1, 2], [3, 4]])\n",
        "tensor + 10"
      ],
      "execution_count": 26,
      "outputs": [
        {
          "output_type": "execute_result",
          "data": {
            "text/plain": [
              "tensor([[11, 12],\n",
              "        [13, 14]])"
            ]
          },
          "metadata": {},
          "execution_count": 26
        }
      ]
    },
    {
      "cell_type": "code",
      "metadata": {
        "colab": {
          "base_uri": "https://localhost:8080/"
        },
        "id": "MzUl5JHk1BU5",
        "outputId": "15f99baa-f612-4dcc-c3ac-32b74cf3dfef"
      },
      "source": [
        "# multiplication\n",
        "tensor * 10"
      ],
      "execution_count": 27,
      "outputs": [
        {
          "output_type": "execute_result",
          "data": {
            "text/plain": [
              "tensor([[10, 20],\n",
              "        [30, 40]])"
            ]
          },
          "metadata": {},
          "execution_count": 27
        }
      ]
    },
    {
      "cell_type": "code",
      "metadata": {
        "colab": {
          "base_uri": "https://localhost:8080/"
        },
        "id": "_rw4xP3R1HQT",
        "outputId": "1f07a676-fb80-482a-976b-deb26e830cdf"
      },
      "source": [
        "# substraction\n",
        "tensor - 10"
      ],
      "execution_count": 28,
      "outputs": [
        {
          "output_type": "execute_result",
          "data": {
            "text/plain": [
              "tensor([[-9, -8],\n",
              "        [-7, -6]])"
            ]
          },
          "metadata": {},
          "execution_count": 28
        }
      ]
    },
    {
      "cell_type": "code",
      "metadata": {
        "colab": {
          "base_uri": "https://localhost:8080/"
        },
        "id": "68EpUs2y1UL4",
        "outputId": "3b554c6c-fc0d-47b3-9c89-ccb4981e15d5"
      },
      "source": [
        "# use pytorch built-in function\n",
        "torch.multiply(tensor, 10)"
      ],
      "execution_count": 29,
      "outputs": [
        {
          "output_type": "execute_result",
          "data": {
            "text/plain": [
              "tensor([[10, 20],\n",
              "        [30, 40]])"
            ]
          },
          "metadata": {},
          "execution_count": 29
        }
      ]
    },
    {
      "cell_type": "markdown",
      "metadata": {
        "id": "J7vi_K8y13MV"
      },
      "source": [
        "### Matrix muliplication\n",
        "\n",
        "* To multiply a matrix by another matrix we need to do the dot product of rows and columns. \n",
        "\n",
        "* The `dot product` is where we multiply matching members, then sum up."
      ]
    },
    {
      "cell_type": "code",
      "metadata": {
        "colab": {
          "base_uri": "https://localhost:8080/"
        },
        "id": "dWv4Jj3k2QXK",
        "outputId": "a7ac7641-1259-4150-ceeb-6c538d09ae9e"
      },
      "source": [
        "print(tensor)\n",
        "torch.matmul(tensor, tensor)"
      ],
      "execution_count": 30,
      "outputs": [
        {
          "output_type": "stream",
          "text": [
            "tensor([[1, 2],\n",
            "        [3, 4]])\n"
          ],
          "name": "stdout"
        },
        {
          "output_type": "execute_result",
          "data": {
            "text/plain": [
              "tensor([[ 7, 10],\n",
              "        [15, 22]])"
            ]
          },
          "metadata": {},
          "execution_count": 30
        }
      ]
    },
    {
      "cell_type": "code",
      "metadata": {
        "colab": {
          "base_uri": "https://localhost:8080/"
        },
        "id": "7SyQAD312hRD",
        "outputId": "714a8858-020f-41a3-af83-fa0a2af0a735"
      },
      "source": [
        "# Matrix multiplication with python operator '@'\n",
        "tensor@tensor"
      ],
      "execution_count": 31,
      "outputs": [
        {
          "output_type": "execute_result",
          "data": {
            "text/plain": [
              "tensor([[ 7, 10],\n",
              "        [15, 22]])"
            ]
          },
          "metadata": {},
          "execution_count": 31
        }
      ]
    },
    {
      "cell_type": "code",
      "metadata": {
        "colab": {
          "base_uri": "https://localhost:8080/"
        },
        "id": "fHy2iMhf2kEI",
        "outputId": "3896c022-5c16-4d87-ccba-f843bfab17bf"
      },
      "source": [
        "# elements-wise\n",
        "tensor*tensor"
      ],
      "execution_count": 32,
      "outputs": [
        {
          "output_type": "execute_result",
          "data": {
            "text/plain": [
              "tensor([[ 1,  4],\n",
              "        [ 9, 16]])"
            ]
          },
          "metadata": {},
          "execution_count": 32
        }
      ]
    },
    {
      "cell_type": "code",
      "metadata": {
        "colab": {
          "base_uri": "https://localhost:8080/"
        },
        "id": "8q_9nImz2rzb",
        "outputId": "edc8452e-1ade-4fbc-e6e9-722b3eca9439"
      },
      "source": [
        "# create a tensor (3, 2)\n",
        "X = torch.tensor([[1, 2], [3, 4], [5, 6]])\n",
        "# create a tensor (3, 2)\n",
        "Y = torch.tensor([[7, 8], [9, 10], [11, 12]])\n",
        "\n",
        "print(X)\n",
        "print(Y)"
      ],
      "execution_count": 33,
      "outputs": [
        {
          "output_type": "stream",
          "text": [
            "tensor([[1, 2],\n",
            "        [3, 4],\n",
            "        [5, 6]])\n",
            "tensor([[ 7,  8],\n",
            "        [ 9, 10],\n",
            "        [11, 12]])\n"
          ],
          "name": "stdout"
        }
      ]
    },
    {
      "cell_type": "code",
      "metadata": {
        "colab": {
          "base_uri": "https://localhost:8080/"
        },
        "id": "VJtqifzS2-xL",
        "outputId": "063f624c-ef50-4c33-cacd-2f222f9f5b8c"
      },
      "source": [
        "# The inner dimensions must match\n",
        "# The resulting matrix has the shape of the outer dimensions\n",
        "\n",
        "# change the shape of Y\n",
        "Y = torch.reshape(Y, shape=(2, 3))\n",
        "Y"
      ],
      "execution_count": 34,
      "outputs": [
        {
          "output_type": "execute_result",
          "data": {
            "text/plain": [
              "tensor([[ 7,  8,  9],\n",
              "        [10, 11, 12]])"
            ]
          },
          "metadata": {},
          "execution_count": 34
        }
      ]
    },
    {
      "cell_type": "code",
      "metadata": {
        "colab": {
          "base_uri": "https://localhost:8080/"
        },
        "id": "o0gBw1P53GEb",
        "outputId": "38fd5aab-d64b-4973-ea06-6afb45d487da"
      },
      "source": [
        "torch.matmul(X, Y) # X@Y "
      ],
      "execution_count": 35,
      "outputs": [
        {
          "output_type": "execute_result",
          "data": {
            "text/plain": [
              "tensor([[ 27,  30,  33],\n",
              "        [ 61,  68,  75],\n",
              "        [ 95, 106, 117]])"
            ]
          },
          "metadata": {},
          "execution_count": 35
        }
      ]
    },
    {
      "cell_type": "code",
      "metadata": {
        "colab": {
          "base_uri": "https://localhost:8080/"
        },
        "id": "suz9vzr73LJc",
        "outputId": "f1665149-a80d-48d7-8352-c4181971ec07"
      },
      "source": [
        "# Can do the same with Transpose\n",
        "print('Normal X:')\n",
        "print(X)\n",
        "print('\\n X Transpose:')\n",
        "print(torch.transpose(X, 0, 1)) \n",
        "print('\\n X Reshape:')\n",
        "print(torch.reshape(X, shape=(2, 3)))"
      ],
      "execution_count": 36,
      "outputs": [
        {
          "output_type": "stream",
          "text": [
            "Normal X:\n",
            "tensor([[1, 2],\n",
            "        [3, 4],\n",
            "        [5, 6]])\n",
            "\n",
            " X Transpose:\n",
            "tensor([[1, 3, 5],\n",
            "        [2, 4, 6]])\n",
            "\n",
            " X Reshape:\n",
            "tensor([[1, 2, 3],\n",
            "        [4, 5, 6]])\n"
          ],
          "name": "stdout"
        }
      ]
    },
    {
      "cell_type": "markdown",
      "metadata": {
        "id": "rJhVcoUqGayx"
      },
      "source": [
        "### Change the datatype of a tensor"
      ]
    },
    {
      "cell_type": "markdown",
      "metadata": {
        "id": "UM2mIXvXSHvf"
      },
      "source": [
        "* Tensors Data Types: [documentation](https://pytorch.org/docs/stable/tensors.html)"
      ]
    },
    {
      "cell_type": "code",
      "metadata": {
        "colab": {
          "base_uri": "https://localhost:8080/"
        },
        "id": "q0wlNsXf3opU",
        "outputId": "ced63e21-91f8-4fdb-a5c0-f97022abf2b4"
      },
      "source": [
        "a = torch.tensor([1., 2., 3])\n",
        "a.dtype"
      ],
      "execution_count": 37,
      "outputs": [
        {
          "output_type": "execute_result",
          "data": {
            "text/plain": [
              "torch.float32"
            ]
          },
          "metadata": {},
          "execution_count": 37
        }
      ]
    },
    {
      "cell_type": "code",
      "metadata": {
        "colab": {
          "base_uri": "https://localhost:8080/"
        },
        "id": "okwURUvfGmnC",
        "outputId": "93e16c67-2af0-4815-8baa-cbefbc8d97d3"
      },
      "source": [
        "b = torch.tensor([1, 2, 3])\n",
        "b.dtype"
      ],
      "execution_count": 38,
      "outputs": [
        {
          "output_type": "execute_result",
          "data": {
            "text/plain": [
              "torch.int64"
            ]
          },
          "metadata": {},
          "execution_count": 38
        }
      ]
    },
    {
      "cell_type": "code",
      "metadata": {
        "colab": {
          "base_uri": "https://localhost:8080/"
        },
        "id": "LzJB-fdjGtgj",
        "outputId": "9ff54fa8-869d-4e14-b291-7dda9423c556"
      },
      "source": [
        "c = b.type(torch.float)\n",
        "c.dtype"
      ],
      "execution_count": 39,
      "outputs": [
        {
          "output_type": "execute_result",
          "data": {
            "text/plain": [
              "torch.float32"
            ]
          },
          "metadata": {},
          "execution_count": 39
        }
      ]
    },
    {
      "cell_type": "code",
      "metadata": {
        "colab": {
          "base_uri": "https://localhost:8080/"
        },
        "id": "42NA8awqSniZ",
        "outputId": "6dd943e6-98d9-405c-866b-40ec0de26fc9"
      },
      "source": [
        "d = a.type(torch.DoubleTensor)\n",
        "d.dtype"
      ],
      "execution_count": 40,
      "outputs": [
        {
          "output_type": "execute_result",
          "data": {
            "text/plain": [
              "torch.float64"
            ]
          },
          "metadata": {},
          "execution_count": 40
        }
      ]
    },
    {
      "cell_type": "markdown",
      "metadata": {
        "id": "wPkWFdR8TC4u"
      },
      "source": [
        "### Aggregating tensors\n",
        "* Get the minimum\n",
        "* Get the maximum\n",
        "* Get the mean of a tensor\n",
        "* Get the sum of a tensor"
      ]
    },
    {
      "cell_type": "code",
      "metadata": {
        "colab": {
          "base_uri": "https://localhost:8080/"
        },
        "id": "afT-obcwUAZa",
        "outputId": "8c27b332-4d06-4cdc-e0af-26a6dc10e465"
      },
      "source": [
        "# get the absolute value\n",
        "e = torch.tensor([-1, 3])\n",
        "torch.abs(e)"
      ],
      "execution_count": 41,
      "outputs": [
        {
          "output_type": "execute_result",
          "data": {
            "text/plain": [
              "tensor([1, 3])"
            ]
          },
          "metadata": {},
          "execution_count": 41
        }
      ]
    },
    {
      "cell_type": "code",
      "metadata": {
        "colab": {
          "base_uri": "https://localhost:8080/"
        },
        "id": "2kcfu5tyUemG",
        "outputId": "7d84cbf5-75ca-42be-9bf2-7cf061430467"
      },
      "source": [
        "# create a random tensor\n",
        "f = torch.rand(100)\n",
        "f"
      ],
      "execution_count": 42,
      "outputs": [
        {
          "output_type": "execute_result",
          "data": {
            "text/plain": [
              "tensor([0.0776, 0.4305, 0.8195, 0.2455, 0.7735, 0.6219, 0.6253, 0.5796, 0.9274,\n",
              "        0.3596, 0.7649, 0.7620, 0.0201, 0.8284, 0.3166, 0.4267, 0.9441, 0.0922,\n",
              "        0.6559, 0.8529, 0.1500, 0.8529, 0.0648, 0.2681, 0.6131, 0.1848, 0.1933,\n",
              "        0.8777, 0.6893, 0.2795, 0.6192, 0.1719, 0.9803, 0.5507, 0.0515, 0.7943,\n",
              "        0.8546, 0.7183, 0.1477, 0.9981, 0.6084, 0.7001, 0.3427, 0.2716, 0.7047,\n",
              "        0.2891, 0.5002, 0.0801, 0.5686, 0.7307, 0.3149, 0.4853, 0.1133, 0.4749,\n",
              "        0.3254, 0.9352, 0.2291, 0.9761, 0.1172, 0.6944, 0.7084, 0.4890, 0.0896,\n",
              "        0.3595, 0.9687, 0.5376, 0.2749, 0.0829, 0.1402, 0.1029, 0.8064, 0.1923,\n",
              "        0.4340, 0.1157, 0.9513, 0.2106, 0.2195, 0.0050, 0.9580, 0.6767, 0.2645,\n",
              "        0.5570, 0.2807, 0.5375, 0.8863, 0.8148, 0.5917, 0.1290, 0.2873, 0.6444,\n",
              "        0.3012, 0.4107, 0.6593, 0.5075, 0.6961, 0.9259, 0.1948, 0.8967, 0.8547,\n",
              "        0.0440])"
            ]
          },
          "metadata": {},
          "execution_count": 42
        }
      ]
    },
    {
      "cell_type": "code",
      "metadata": {
        "colab": {
          "base_uri": "https://localhost:8080/"
        },
        "id": "HUj2cZiTVN5d",
        "outputId": "d5fe2606-814c-4ce7-ae1f-560543447559"
      },
      "source": [
        "# find the minimum\n",
        "torch.min(f)"
      ],
      "execution_count": 43,
      "outputs": [
        {
          "output_type": "execute_result",
          "data": {
            "text/plain": [
              "tensor(0.0050)"
            ]
          },
          "metadata": {},
          "execution_count": 43
        }
      ]
    },
    {
      "cell_type": "code",
      "metadata": {
        "colab": {
          "base_uri": "https://localhost:8080/"
        },
        "id": "iKaIcfv_Vojz",
        "outputId": "3d8d2abd-96de-463a-9ca6-d7f7420a8460"
      },
      "source": [
        "# find the maxmum\n",
        "torch.max(f)"
      ],
      "execution_count": 44,
      "outputs": [
        {
          "output_type": "execute_result",
          "data": {
            "text/plain": [
              "tensor(0.9981)"
            ]
          },
          "metadata": {},
          "execution_count": 44
        }
      ]
    },
    {
      "cell_type": "code",
      "metadata": {
        "colab": {
          "base_uri": "https://localhost:8080/"
        },
        "id": "lCpwFh05Vzqi",
        "outputId": "4b2eb829-368a-4496-f597-3951aa14ac18"
      },
      "source": [
        "# find the sum\n",
        "torch.sum(f)"
      ],
      "execution_count": 45,
      "outputs": [
        {
          "output_type": "execute_result",
          "data": {
            "text/plain": [
              "tensor(49.4540)"
            ]
          },
          "metadata": {},
          "execution_count": 45
        }
      ]
    },
    {
      "cell_type": "code",
      "metadata": {
        "colab": {
          "base_uri": "https://localhost:8080/"
        },
        "id": "SivJ6o-CV3kh",
        "outputId": "26a26ef3-485d-4072-c65d-7c788f80a41b"
      },
      "source": [
        "# find the mean\n",
        "torch.mean(f)"
      ],
      "execution_count": 46,
      "outputs": [
        {
          "output_type": "execute_result",
          "data": {
            "text/plain": [
              "tensor(0.4945)"
            ]
          },
          "metadata": {},
          "execution_count": 46
        }
      ]
    },
    {
      "cell_type": "code",
      "metadata": {
        "colab": {
          "base_uri": "https://localhost:8080/"
        },
        "id": "X_koCyUWXRi0",
        "outputId": "3f41e99c-e13c-4daf-e495-e216f055b573"
      },
      "source": [
        "# find the variance\n",
        "torch.var(f)"
      ],
      "execution_count": 47,
      "outputs": [
        {
          "output_type": "execute_result",
          "data": {
            "text/plain": [
              "tensor(0.0883)"
            ]
          },
          "metadata": {},
          "execution_count": 47
        }
      ]
    },
    {
      "cell_type": "code",
      "metadata": {
        "colab": {
          "base_uri": "https://localhost:8080/"
        },
        "id": "jRq_-7NpXpKC",
        "outputId": "f90ad3ae-59ef-4be6-c116-377c690415d5"
      },
      "source": [
        "# find the standard deviation\n",
        "torch.std(f)"
      ],
      "execution_count": 48,
      "outputs": [
        {
          "output_type": "execute_result",
          "data": {
            "text/plain": [
              "tensor(0.2972)"
            ]
          },
          "metadata": {},
          "execution_count": 48
        }
      ]
    },
    {
      "cell_type": "markdown",
      "metadata": {
        "id": "zbZQaHutXtm6"
      },
      "source": [
        "### Find the positional maximum and minimum"
      ]
    },
    {
      "cell_type": "code",
      "metadata": {
        "colab": {
          "base_uri": "https://localhost:8080/"
        },
        "id": "5Ktax9dmXzY8",
        "outputId": "49863e30-d2c0-402a-b595-561493f1d96e"
      },
      "source": [
        "g = torch.rand(20)\n",
        "g"
      ],
      "execution_count": 49,
      "outputs": [
        {
          "output_type": "execute_result",
          "data": {
            "text/plain": [
              "tensor([0.0338, 0.3642, 0.6661, 0.4835, 0.8575, 0.8229, 0.1264, 0.9617, 0.2639,\n",
              "        0.0601, 0.6706, 0.7436, 0.6592, 0.6216, 0.2151, 0.3886, 0.4736, 0.0097,\n",
              "        0.2490, 0.8923])"
            ]
          },
          "metadata": {},
          "execution_count": 49
        }
      ]
    },
    {
      "cell_type": "code",
      "metadata": {
        "colab": {
          "base_uri": "https://localhost:8080/"
        },
        "id": "UEpvHeozYIo8",
        "outputId": "11674b8e-9eda-4ea9-84cb-6d33e594afac"
      },
      "source": [
        "# Returns the indices of the maximum value of all elements in the input tensor.\n",
        "torch.argmax(g), torch.max(g)"
      ],
      "execution_count": 50,
      "outputs": [
        {
          "output_type": "execute_result",
          "data": {
            "text/plain": [
              "(tensor(7), tensor(0.9617))"
            ]
          },
          "metadata": {},
          "execution_count": 50
        }
      ]
    },
    {
      "cell_type": "code",
      "metadata": {
        "colab": {
          "base_uri": "https://localhost:8080/"
        },
        "id": "4QKVxoEEYcGD",
        "outputId": "0940a22a-3a44-4a94-fb01-73262378e9b9"
      },
      "source": [
        "torch.argmin(g), torch.min(g)"
      ],
      "execution_count": 51,
      "outputs": [
        {
          "output_type": "execute_result",
          "data": {
            "text/plain": [
              "(tensor(17), tensor(0.0097))"
            ]
          },
          "metadata": {},
          "execution_count": 51
        }
      ]
    },
    {
      "cell_type": "markdown",
      "metadata": {
        "id": "Gk2IaInNZN0F"
      },
      "source": [
        "### One-Hot encoding tensors\n",
        "\n",
        "* `num_classes`: Total number of classes. If set to `-1`, the number of classes will be inferred as one greater than the largest class value in the input tensor."
      ]
    },
    {
      "cell_type": "code",
      "metadata": {
        "id": "WSQQyKtMZmsF"
      },
      "source": [
        "from torch.nn import functional as F"
      ],
      "execution_count": 52,
      "outputs": []
    },
    {
      "cell_type": "code",
      "metadata": {
        "colab": {
          "base_uri": "https://localhost:8080/"
        },
        "id": "G5PUv53CZVsS",
        "outputId": "a34013ff-f04c-4e56-d28f-96f7de04b643"
      },
      "source": [
        "tensor = torch.tensor([0, 1, 2, 3])\n",
        "\n",
        "# one hot encode \n",
        "F.one_hot(tensor, num_classes=4)"
      ],
      "execution_count": 53,
      "outputs": [
        {
          "output_type": "execute_result",
          "data": {
            "text/plain": [
              "tensor([[1, 0, 0, 0],\n",
              "        [0, 1, 0, 0],\n",
              "        [0, 0, 1, 0],\n",
              "        [0, 0, 0, 1]])"
            ]
          },
          "metadata": {},
          "execution_count": 53
        }
      ]
    },
    {
      "cell_type": "code",
      "metadata": {
        "colab": {
          "base_uri": "https://localhost:8080/"
        },
        "id": "9gK-qhwjax_3",
        "outputId": "75a5833e-d2c5-4795-cc73-256c9b4333ad"
      },
      "source": [
        "tensor = torch.tensor([3, 4, 5])\n",
        "\n",
        "# one hot encode\n",
        "F.one_hot(tensor)"
      ],
      "execution_count": 54,
      "outputs": [
        {
          "output_type": "execute_result",
          "data": {
            "text/plain": [
              "tensor([[0, 0, 0, 1, 0, 0],\n",
              "        [0, 0, 0, 0, 1, 0],\n",
              "        [0, 0, 0, 0, 0, 1]])"
            ]
          },
          "metadata": {},
          "execution_count": 54
        }
      ]
    },
    {
      "cell_type": "markdown",
      "metadata": {
        "id": "Hp15hGFxiAcS"
      },
      "source": [
        "### Tensors & Numpy"
      ]
    },
    {
      "cell_type": "code",
      "metadata": {
        "id": "Tk7-DuisfG9Q"
      },
      "source": [
        "import numpy as np"
      ],
      "execution_count": 55,
      "outputs": []
    },
    {
      "cell_type": "code",
      "metadata": {
        "colab": {
          "base_uri": "https://localhost:8080/"
        },
        "id": "iz9WizBobrx0",
        "outputId": "911a22ea-51c5-458b-feb8-db65fe130c8a"
      },
      "source": [
        "j = torch.tensor([1,2,3,4])\n",
        "j"
      ],
      "execution_count": 56,
      "outputs": [
        {
          "output_type": "execute_result",
          "data": {
            "text/plain": [
              "tensor([1, 2, 3, 4])"
            ]
          },
          "metadata": {},
          "execution_count": 56
        }
      ]
    },
    {
      "cell_type": "code",
      "metadata": {
        "colab": {
          "base_uri": "https://localhost:8080/"
        },
        "id": "qHH_X4txbvii",
        "outputId": "a8c867c9-4d88-4cf1-f52b-63e6ebe0bd3c"
      },
      "source": [
        "np.array(j), type(np.array(j))"
      ],
      "execution_count": 57,
      "outputs": [
        {
          "output_type": "execute_result",
          "data": {
            "text/plain": [
              "(array([1, 2, 3, 4]), numpy.ndarray)"
            ]
          },
          "metadata": {},
          "execution_count": 57
        }
      ]
    },
    {
      "cell_type": "code",
      "metadata": {
        "colab": {
          "base_uri": "https://localhost:8080/"
        },
        "id": "z8U0ds6Bbyzh",
        "outputId": "2fb8091d-555f-415a-b1bc-8af0dc4903f4"
      },
      "source": [
        "j.numpy(), type(j.numpy())"
      ],
      "execution_count": 58,
      "outputs": [
        {
          "output_type": "execute_result",
          "data": {
            "text/plain": [
              "(array([1, 2, 3, 4]), numpy.ndarray)"
            ]
          },
          "metadata": {},
          "execution_count": 58
        }
      ]
    },
    {
      "cell_type": "code",
      "metadata": {
        "colab": {
          "base_uri": "https://localhost:8080/"
        },
        "id": "dN2oTln0cCnQ",
        "outputId": "cba1a165-b7ef-4aed-ba2d-bed79c0bb205"
      },
      "source": [
        "j.numpy()[0]"
      ],
      "execution_count": 59,
      "outputs": [
        {
          "output_type": "execute_result",
          "data": {
            "text/plain": [
              "1"
            ]
          },
          "metadata": {},
          "execution_count": 59
        }
      ]
    },
    {
      "cell_type": "code",
      "metadata": {
        "colab": {
          "base_uri": "https://localhost:8080/"
        },
        "id": "_y2bhBD2cJZE",
        "outputId": "c921aab1-8635-4101-e671-be2e4581e323"
      },
      "source": [
        "numpy_k = np.array([2., 3., 4.])\n",
        "numpy_k, numpy_k.dtype, type(numpy_k)"
      ],
      "execution_count": 60,
      "outputs": [
        {
          "output_type": "execute_result",
          "data": {
            "text/plain": [
              "(array([2., 3., 4.]), dtype('float64'), numpy.ndarray)"
            ]
          },
          "metadata": {},
          "execution_count": 60
        }
      ]
    },
    {
      "cell_type": "code",
      "metadata": {
        "colab": {
          "base_uri": "https://localhost:8080/"
        },
        "id": "iIpZhh2qcUP5",
        "outputId": "f5079521-f9f4-4500-fbae-814ec778546b"
      },
      "source": [
        "tensor_k = torch.tensor(numpy_k)\n",
        "tensor_k, tensor_k.dtype, type(tensor_k)"
      ],
      "execution_count": 61,
      "outputs": [
        {
          "output_type": "execute_result",
          "data": {
            "text/plain": [
              "(tensor([2., 3., 4.], dtype=torch.float64), torch.float64, torch.Tensor)"
            ]
          },
          "metadata": {},
          "execution_count": 61
        }
      ]
    },
    {
      "cell_type": "markdown",
      "metadata": {
        "id": "M83OGUZDcvYr"
      },
      "source": [
        "## Accessing GPU"
      ]
    },
    {
      "cell_type": "code",
      "metadata": {
        "colab": {
          "base_uri": "https://localhost:8080/"
        },
        "id": "KU_i8whDdSeg",
        "outputId": "88f8f2c7-fc54-4733-9426-6070341099f2"
      },
      "source": [
        "!nvidia-smi"
      ],
      "execution_count": 62,
      "outputs": [
        {
          "output_type": "stream",
          "text": [
            "Wed Aug 25 12:39:35 2021       \n",
            "+-----------------------------------------------------------------------------+\n",
            "| NVIDIA-SMI 470.57.02    Driver Version: 460.32.03    CUDA Version: 11.2     |\n",
            "|-------------------------------+----------------------+----------------------+\n",
            "| GPU  Name        Persistence-M| Bus-Id        Disp.A | Volatile Uncorr. ECC |\n",
            "| Fan  Temp  Perf  Pwr:Usage/Cap|         Memory-Usage | GPU-Util  Compute M. |\n",
            "|                               |                      |               MIG M. |\n",
            "|===============================+======================+======================|\n",
            "|   0  Tesla K80           Off  | 00000000:00:04.0 Off |                    0 |\n",
            "| N/A   46C    P8    27W / 149W |      0MiB / 11441MiB |      0%      Default |\n",
            "|                               |                      |                  N/A |\n",
            "+-------------------------------+----------------------+----------------------+\n",
            "                                                                               \n",
            "+-----------------------------------------------------------------------------+\n",
            "| Processes:                                                                  |\n",
            "|  GPU   GI   CI        PID   Type   Process name                  GPU Memory |\n",
            "|        ID   ID                                                   Usage      |\n",
            "|=============================================================================|\n",
            "|  No running processes found                                                 |\n",
            "+-----------------------------------------------------------------------------+\n"
          ],
          "name": "stdout"
        }
      ]
    },
    {
      "cell_type": "code",
      "metadata": {
        "colab": {
          "base_uri": "https://localhost:8080/"
        },
        "id": "VsTJaTHKdLld",
        "outputId": "c8b5290b-8d49-40c0-c181-119d62835056"
      },
      "source": [
        "# check if cuda is available \n",
        "torch.cuda.is_available()"
      ],
      "execution_count": 63,
      "outputs": [
        {
          "output_type": "execute_result",
          "data": {
            "text/plain": [
              "True"
            ]
          },
          "metadata": {},
          "execution_count": 63
        }
      ]
    },
    {
      "cell_type": "code",
      "metadata": {
        "colab": {
          "base_uri": "https://localhost:8080/",
          "height": 37
        },
        "id": "SEeciPabdj3i",
        "outputId": "a4dca4e0-e803-4430-dfdf-e76b36d8148b"
      },
      "source": [
        "# GPU name\n",
        "torch.cuda.get_device_name()"
      ],
      "execution_count": 64,
      "outputs": [
        {
          "output_type": "execute_result",
          "data": {
            "application/vnd.google.colaboratory.intrinsic+json": {
              "type": "string"
            },
            "text/plain": [
              "'Tesla K80'"
            ]
          },
          "metadata": {},
          "execution_count": 64
        }
      ]
    },
    {
      "cell_type": "code",
      "metadata": {
        "colab": {
          "base_uri": "https://localhost:8080/"
        },
        "id": "ZZqNDGAGcYnl",
        "outputId": "5e5b3b6e-2959-41f2-8234-0b442b2cd667"
      },
      "source": [
        "device = torch.device('cuda' if torch.cuda.is_available() else 'cpu')\n",
        "\n",
        "device"
      ],
      "execution_count": 65,
      "outputs": [
        {
          "output_type": "execute_result",
          "data": {
            "text/plain": [
              "device(type='cuda')"
            ]
          },
          "metadata": {},
          "execution_count": 65
        }
      ]
    },
    {
      "cell_type": "markdown",
      "metadata": {
        "id": "7beFiKwdeum7"
      },
      "source": [
        "(In Pytorch) Tensors can either be on the CPU or GPU. You can check that with the following:"
      ]
    },
    {
      "cell_type": "code",
      "metadata": {
        "colab": {
          "base_uri": "https://localhost:8080/"
        },
        "id": "H2hJG0SPd85j",
        "outputId": "3534a82f-4dd5-47dd-bb31-a53004bb4530"
      },
      "source": [
        "s = torch.tensor([2., 3., 4., 5.])\n",
        "s.is_cuda"
      ],
      "execution_count": 66,
      "outputs": [
        {
          "output_type": "execute_result",
          "data": {
            "text/plain": [
              "False"
            ]
          },
          "metadata": {},
          "execution_count": 66
        }
      ]
    },
    {
      "cell_type": "code",
      "metadata": {
        "colab": {
          "base_uri": "https://localhost:8080/"
        },
        "id": "xK3I7TeUeZb_",
        "outputId": "4f6a2493-ce19-4144-f583-1e8ebc9e653c"
      },
      "source": [
        "# torch.Tensor.to: Performs Tensor dtype and/or device conversion. \n",
        "s.to(device).is_cuda"
      ],
      "execution_count": 67,
      "outputs": [
        {
          "output_type": "execute_result",
          "data": {
            "text/plain": [
              "True"
            ]
          },
          "metadata": {},
          "execution_count": 67
        }
      ]
    }
  ]
}