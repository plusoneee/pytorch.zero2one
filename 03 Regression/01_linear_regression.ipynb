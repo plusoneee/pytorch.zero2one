{
 "cells": [
  {
   "cell_type": "markdown",
   "metadata": {},
   "source": [
    "## Linear Regression\n",
    "### Simple Linear Regression Basic\n",
    "* Allow us to understand relaionship between two continous variables\n",
    "\n",
    "$$ y = ax + b $$\n",
    "\n",
    "Where `x` is independent variable and `y` is dependent variable. "
   ]
  },
  {
   "cell_type": "markdown",
   "metadata": {},
   "source": [
    "#### Aim of Linear Regression\n",
    "* Minimize the distance between the points and the line $(y=ax+b)$ \n",
    "* Adjusting:\n",
    "    1. Coefficents: $a$\n",
    "    2. Bias/Intercept: $b$"
   ]
  },
  {
   "cell_type": "markdown",
   "metadata": {},
   "source": [
    "### Building a Linear Regression Model"
   ]
  },
  {
   "cell_type": "code",
   "execution_count": 1,
   "metadata": {},
   "outputs": [],
   "source": [
    "import numpy as np"
   ]
  },
  {
   "cell_type": "code",
   "execution_count": 2,
   "metadata": {},
   "outputs": [
    {
     "data": {
      "text/plain": [
       "[0, 1, 2, 3, 4, 5, 6, 7, 8, 9, 10]"
      ]
     },
     "execution_count": 2,
     "metadata": {},
     "output_type": "execute_result"
    }
   ],
   "source": [
    "# Building a Toy Dataset\n",
    "x_values = [i for i in range(11)]\n",
    "x_values"
   ]
  },
  {
   "cell_type": "code",
   "execution_count": 3,
   "metadata": {},
   "outputs": [
    {
     "data": {
      "text/plain": [
       "(11,)"
      ]
     },
     "execution_count": 3,
     "metadata": {},
     "output_type": "execute_result"
    }
   ],
   "source": [
    "x_train = np.array(x_values, dtype=np.float32)\n",
    "x_train.shape"
   ]
  },
  {
   "cell_type": "code",
   "execution_count": 4,
   "metadata": {},
   "outputs": [
    {
     "data": {
      "text/plain": [
       "(11, 1)"
      ]
     },
     "execution_count": 4,
     "metadata": {},
     "output_type": "execute_result"
    }
   ],
   "source": [
    "# IMPORTANTL: 2D required\n",
    "x_train = x_train.reshape(-1, 1)\n",
    "x_train.shape"
   ]
  },
  {
   "cell_type": "code",
   "execution_count": 5,
   "metadata": {},
   "outputs": [
    {
     "data": {
      "text/plain": [
       "[1, 3, 5, 7, 9, 11, 13, 15, 17, 19, 21]"
      ]
     },
     "execution_count": 5,
     "metadata": {},
     "output_type": "execute_result"
    }
   ],
   "source": [
    "# y = 2x +1\n",
    "y_values = [2*i+1 for i in x_values]\n",
    "y_values"
   ]
  },
  {
   "cell_type": "code",
   "execution_count": 6,
   "metadata": {},
   "outputs": [
    {
     "data": {
      "text/plain": [
       "(11,)"
      ]
     },
     "execution_count": 6,
     "metadata": {},
     "output_type": "execute_result"
    }
   ],
   "source": [
    "y_train = np.array(y_values, dtype=np.float32)\n",
    "y_train.shape"
   ]
  },
  {
   "cell_type": "code",
   "execution_count": 7,
   "metadata": {},
   "outputs": [
    {
     "data": {
      "text/plain": [
       "(11, 1)"
      ]
     },
     "execution_count": 7,
     "metadata": {},
     "output_type": "execute_result"
    }
   ],
   "source": [
    "# IMPORTANTL: 2D required\n",
    "y_train = y_train.reshape(-1, 1)\n",
    "y_train.shape"
   ]
  },
  {
   "cell_type": "markdown",
   "metadata": {},
   "source": [
    "#### Build Model"
   ]
  },
  {
   "cell_type": "code",
   "execution_count": 8,
   "metadata": {},
   "outputs": [],
   "source": [
    "import torch\n",
    "import torch.nn as nn"
   ]
  },
  {
   "cell_type": "markdown",
   "metadata": {},
   "source": [
    "1. Linear model: \n",
    "    * True Equation: $y = 2x + 1$\n",
    "\n",
    "2. Forward Example: \n",
    "    * Input $x = 1$\n",
    "    * Output $\\hat{y} = ?$"
   ]
  },
  {
   "cell_type": "code",
   "execution_count": 9,
   "metadata": {},
   "outputs": [],
   "source": [
    "# Create Class\n",
    "\n",
    "class LinearRegressionModel(nn.Module):\n",
    "    def __init__(self, input_size, output_size):\n",
    "        super(LinearRegressionModel, self).__init__() # inherits nn \n",
    "        self.linear = nn.Linear(input_dim, output_dim) # input_dim is x, output_dim is y\n",
    "    \n",
    "    def forward(self, x):\n",
    "        out = self.linear(x)\n",
    "        return out"
   ]
  },
  {
   "cell_type": "markdown",
   "metadata": {},
   "source": [
    "#### Instantiate Model Class\n",
    "* Input: [0, 1, 2, 3, 4, 5, 6, 7, 8, 9]\n",
    "* Dessired Output: [1, 3, 5,7, 9, 11, 13, 15, 17, 19, 21]"
   ]
  },
  {
   "cell_type": "code",
   "execution_count": 10,
   "metadata": {},
   "outputs": [],
   "source": [
    "input_dim = 1\n",
    "output_dim = 1\n",
    "model = LinearRegressionModel(input_dim, output_dim)"
   ]
  },
  {
   "cell_type": "markdown",
   "metadata": {},
   "source": [
    "#### Instantiate Loss Class\n",
    "* MSE Loss: Meean Square Error\n",
    "\n",
    "$$ \\frac{1}{n}\\sum{n}{i=1}(\\hat{y_i}-y_i) $$\n",
    "\n",
    "Where $\\hat{y}$ is prediction and $y$ is true value."
   ]
  },
  {
   "cell_type": "code",
   "execution_count": 11,
   "metadata": {},
   "outputs": [],
   "source": [
    "criterion = nn.MSELoss()"
   ]
  },
  {
   "cell_type": "markdown",
   "metadata": {},
   "source": [
    "#### Instantiate Optimizer Class\n",
    "* Equation: \n",
    "    $$ \\theta = \\theta - \\eta \\cdot \\nabla_{ \\theta} $$\n",
    "\n",
    "Where $\\theta$ is parameters; $\\eta$ is learning rate; $\\theta$ is parameter's gradients.\n"
   ]
  },
  {
   "cell_type": "markdown",
   "metadata": {},
   "source": [
    "Even simplier equation:\n",
    "- parameters = parameters - learning_rate * parameters_gradients\n",
    "    - parameters: $a$ and $b$ in $y = ax+b$\n",
    "    - desired parameters: $a=2$ and $b=1$ in $y=2x+1$"
   ]
  },
  {
   "cell_type": "code",
   "execution_count": 12,
   "metadata": {},
   "outputs": [],
   "source": [
    "learning_rate = 0.01\n",
    "optimizer = torch.optim.SGD(model.parameters(), lr=learning_rate)"
   ]
  },
  {
   "cell_type": "markdown",
   "metadata": {},
   "source": [
    "#### Train Model\n",
    "* epoch : going through the whoile x_train data once.\n",
    "    * 100 epochs: 100xmapping x_train\n",
    "* process:\n",
    "    1. Convert input/labels to torch.\n",
    "    2. Clear gradient buffer\n",
    "    3. Get output given inputs\n",
    "    4. Get loss\n",
    "    5. Get Gradients w.r.t. parameters\n",
    "    6. Repeat"
   ]
  },
  {
   "cell_type": "code",
   "execution_count": 13,
   "metadata": {},
   "outputs": [
    {
     "name": "stdout",
     "output_type": "stream",
     "text": [
      "epoch 1, loss 189.46298217773438\n",
      "epoch 2, loss 15.456254005432129\n",
      "epoch 3, loss 1.2630506753921509\n",
      "epoch 4, loss 0.1053309515118599\n",
      "epoch 5, loss 0.010873755440115929\n",
      "epoch 6, loss 0.0031436400022357702\n",
      "epoch 7, loss 0.002487950259819627\n",
      "epoch 8, loss 0.0024095328990370035\n",
      "epoch 9, loss 0.0023784940131008625\n",
      "epoch 10, loss 0.0023516095243394375\n",
      "epoch 11, loss 0.002325291046872735\n",
      "epoch 12, loss 0.002299342770129442\n",
      "epoch 13, loss 0.002273659221827984\n",
      "epoch 14, loss 0.002248280681669712\n",
      "epoch 15, loss 0.0022231684997677803\n",
      "epoch 16, loss 0.002198334550485015\n",
      "epoch 17, loss 0.0021737925708293915\n",
      "epoch 18, loss 0.0021495299879461527\n",
      "epoch 19, loss 0.0021255100145936012\n",
      "epoch 20, loss 0.002101774560287595\n",
      "epoch 21, loss 0.0020783001091331244\n",
      "epoch 22, loss 0.0020550887566059828\n",
      "epoch 23, loss 0.0020321470219641924\n",
      "epoch 24, loss 0.0020094553474336863\n",
      "epoch 25, loss 0.001987006049603224\n",
      "epoch 26, loss 0.0019648245070129633\n",
      "epoch 27, loss 0.0019428652012720704\n",
      "epoch 28, loss 0.0019211723702028394\n",
      "epoch 29, loss 0.0018997304141521454\n",
      "epoch 30, loss 0.0018785250140354037\n",
      "epoch 31, loss 0.0018575347494333982\n",
      "epoch 32, loss 0.0018367827869951725\n",
      "epoch 33, loss 0.001816295087337494\n",
      "epoch 34, loss 0.001796011347323656\n",
      "epoch 35, loss 0.0017759256297722459\n",
      "epoch 36, loss 0.0017561048734933138\n",
      "epoch 37, loss 0.001736501231789589\n",
      "epoch 38, loss 0.0017171177314594388\n",
      "epoch 39, loss 0.0016979241045191884\n",
      "epoch 40, loss 0.0016789860092103481\n",
      "epoch 41, loss 0.0016602252144366503\n",
      "epoch 42, loss 0.0016416828148066998\n",
      "epoch 43, loss 0.0016233541537076235\n",
      "epoch 44, loss 0.0016052189748734236\n",
      "epoch 45, loss 0.0015872959047555923\n",
      "epoch 46, loss 0.0015695723704993725\n",
      "epoch 47, loss 0.0015520390588790178\n",
      "epoch 48, loss 0.001534723793156445\n",
      "epoch 49, loss 0.0015175846638157964\n",
      "epoch 50, loss 0.0015006345929577947\n",
      "epoch 51, loss 0.0014838929055258632\n",
      "epoch 52, loss 0.0014673031400889158\n",
      "epoch 53, loss 0.0014509044121950865\n",
      "epoch 54, loss 0.001434731064364314\n",
      "epoch 55, loss 0.0014187096385285258\n",
      "epoch 56, loss 0.001402852009050548\n",
      "epoch 57, loss 0.0013871880946680903\n",
      "epoch 58, loss 0.0013717076508328319\n",
      "epoch 59, loss 0.0013563879765570164\n",
      "epoch 60, loss 0.0013412288390100002\n",
      "epoch 61, loss 0.001326252124272287\n",
      "epoch 62, loss 0.0013114417670294642\n",
      "epoch 63, loss 0.0012967941584065557\n",
      "epoch 64, loss 0.0012823253637179732\n",
      "epoch 65, loss 0.0012680068612098694\n",
      "epoch 66, loss 0.001253832713700831\n",
      "epoch 67, loss 0.001239846576936543\n",
      "epoch 68, loss 0.0012259865179657936\n",
      "epoch 69, loss 0.001212309580296278\n",
      "epoch 70, loss 0.001198768150061369\n",
      "epoch 71, loss 0.0011853850446641445\n",
      "epoch 72, loss 0.001172150601632893\n",
      "epoch 73, loss 0.0011590680805966258\n",
      "epoch 74, loss 0.0011461228132247925\n",
      "epoch 75, loss 0.0011333110742270947\n",
      "epoch 76, loss 0.0011206581257283688\n",
      "epoch 77, loss 0.00110814708750695\n",
      "epoch 78, loss 0.0010957735357806087\n",
      "epoch 79, loss 0.001083538169041276\n",
      "epoch 80, loss 0.0010714440140873194\n",
      "epoch 81, loss 0.0010594588238745928\n",
      "epoch 82, loss 0.0010476390598341823\n",
      "epoch 83, loss 0.001035936176776886\n",
      "epoch 84, loss 0.0010243802098557353\n",
      "epoch 85, loss 0.0010129313450306654\n",
      "epoch 86, loss 0.0010016255546361208\n",
      "epoch 87, loss 0.0009904339676722884\n",
      "epoch 88, loss 0.000979381613433361\n",
      "epoch 89, loss 0.0009684508549980819\n",
      "epoch 90, loss 0.0009576195734553039\n",
      "epoch 91, loss 0.000946924788877368\n",
      "epoch 92, loss 0.0009363511926494539\n",
      "epoch 93, loss 0.0009258930222131312\n",
      "epoch 94, loss 0.0009155645966529846\n",
      "epoch 95, loss 0.0009053393732756376\n",
      "epoch 96, loss 0.0008952121715992689\n",
      "epoch 97, loss 0.0008852197206579149\n",
      "epoch 98, loss 0.0008753506117500365\n",
      "epoch 99, loss 0.0008655624114908278\n",
      "epoch 100, loss 0.0008559057605452836\n"
     ]
    }
   ],
   "source": [
    "epochs = 100\n",
    "for epoch in range(epochs):\n",
    "    epoch += 1\n",
    "    \n",
    "    inputs = torch.from_numpy(x_train)\n",
    "    labels = torch.from_numpy(y_train)\n",
    "    \n",
    "    # clear gradients w.r.t. parameters\n",
    "    optimizer.zero_grad()\n",
    "    \n",
    "    # forward to get output\n",
    "    outputs = model(inputs) # output is y and inputs in x\n",
    "    \n",
    "    # calculate loss\n",
    "    loss = criterion(outputs, labels)\n",
    "    \n",
    "    # getting gradients w.r.t. parameters\n",
    "    loss.backward()\n",
    "    \n",
    "    # updating parameters\n",
    "    optimizer.step()\n",
    "    \n",
    "    print('epoch {}, loss {}'.format(epoch, loss.data))"
   ]
  },
  {
   "cell_type": "markdown",
   "metadata": {},
   "source": [
    "#### Compare Data"
   ]
  },
  {
   "cell_type": "code",
   "execution_count": 14,
   "metadata": {},
   "outputs": [],
   "source": [
    "predicted = model(torch.from_numpy(x_train)).data.numpy()"
   ]
  },
  {
   "cell_type": "code",
   "execution_count": 15,
   "metadata": {},
   "outputs": [
    {
     "data": {
      "text/plain": [
       "array([[ 1.0544215],\n",
       "       [ 3.0465844],\n",
       "       [ 5.0387473],\n",
       "       [ 7.03091  ],\n",
       "       [ 9.023073 ],\n",
       "       [11.015236 ],\n",
       "       [13.007399 ],\n",
       "       [14.999561 ],\n",
       "       [16.991724 ],\n",
       "       [18.983889 ],\n",
       "       [20.976051 ]], dtype=float32)"
      ]
     },
     "execution_count": 15,
     "metadata": {},
     "output_type": "execute_result"
    }
   ],
   "source": [
    "predicted"
   ]
  },
  {
   "cell_type": "code",
   "execution_count": 16,
   "metadata": {},
   "outputs": [
    {
     "data": {
      "text/plain": [
       "array([[ 1.],\n",
       "       [ 3.],\n",
       "       [ 5.],\n",
       "       [ 7.],\n",
       "       [ 9.],\n",
       "       [11.],\n",
       "       [13.],\n",
       "       [15.],\n",
       "       [17.],\n",
       "       [19.],\n",
       "       [21.]], dtype=float32)"
      ]
     },
     "execution_count": 16,
     "metadata": {},
     "output_type": "execute_result"
    }
   ],
   "source": [
    "y_train"
   ]
  },
  {
   "cell_type": "markdown",
   "metadata": {},
   "source": [
    "#### Plot Graph"
   ]
  },
  {
   "cell_type": "code",
   "execution_count": 17,
   "metadata": {},
   "outputs": [
    {
     "data": {
      "image/png": "[encoded data removed]",
      "text/plain": [
       "<Figure size 432x288 with 1 Axes>"
      ]
     },
     "metadata": {
      "needs_background": "light"
     },
     "output_type": "display_data"
    }
   ],
   "source": [
    "import matplotlib.pyplot as plt\n",
    "\n",
    "# clear figure\n",
    "plt.clf()\n",
    "\n",
    "# get predictions\n",
    "predicted = model(torch.from_numpy(x_train)).data.numpy()\n",
    "\n",
    "# plat true data\n",
    "plt.plot(x_train, y_train, 'go', label='True Data', alpha=0.5)\n",
    "\n",
    "# plat true data\n",
    "plt.plot(x_train, predicted, '--', label='True Data', alpha=0.5)\n",
    "\n",
    "# legend and plot\n",
    "plt.legend(loc='best')\n",
    "plt.show()"
   ]
  },
  {
   "cell_type": "markdown",
   "metadata": {},
   "source": [
    "#### Save Model"
   ]
  },
  {
   "cell_type": "code",
   "execution_count": 18,
   "metadata": {},
   "outputs": [],
   "source": [
    "save_model = False\n",
    "if save_model:\n",
    "    # Save only parameters\n",
    "    torch.save(model.state_dict(), 'lr_model.pkl')"
   ]
  },
  {
   "cell_type": "markdown",
   "metadata": {},
   "source": [
    "#### Load Model"
   ]
  },
  {
   "cell_type": "code",
   "execution_count": 19,
   "metadata": {},
   "outputs": [],
   "source": [
    "load_model = True\n",
    "if load_model is True:\n",
    "    model.load_state_dict(torch.load('lr_model.pkl'))"
   ]
  }
 ],
 "metadata": {
  "kernelspec": {
   "display_name": "Python 3",
   "language": "python",
   "name": "python3"
  },
  "language_info": {
   "codemirror_mode": {
    "name": "ipython",
    "version": 3
   },
   "file_extension": ".py",
   "mimetype": "text/x-python",
   "name": "python",
   "nbconvert_exporter": "python",
   "pygments_lexer": "ipython3",
   "version": "3.7.4"
  }
 },
 "nbformat": 4,
 "nbformat_minor": 4
}
